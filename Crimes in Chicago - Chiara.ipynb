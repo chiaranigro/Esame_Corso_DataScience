{
 "cells": [
  {
   "cell_type": "markdown",
   "metadata": {},
   "source": [
    "# <H1 align=center>Crimes in Chicago </H1>"
   ]
  },
  {
   "cell_type": "markdown",
   "metadata": {},
   "source": [
    "L'obiettivo del notebook è quello di eseguire delle analisi esplorative sui crimini commessi a Chicago in un orizzonte temporale di 10 anni e di predirre il numero di crimini negli anni successivi.<br> Inizialmente avevo scelto di analizzare i crimini dal 2007 al 2017, ma, come si vedrà di seguito, al momento dell'importazione dei csv mi sono accorta che per l'anno 2017 i dati non erano completi, pertanto ho preferito escluderli e considerare un nuovo orizzonte temporale: **dal 2006 al 2016**. \n",
    "\n",
    "Dati utilizzati sono open source e sono stati scaricati da Kaggle al seguente link https://www.kaggle.com/currie32/crimes-in-chicago "
   ]
  },
  {
   "cell_type": "markdown",
   "metadata": {},
   "source": [
    "## Indice"
   ]
  },
  {
   "cell_type": "markdown",
   "metadata": {},
   "source": [
    "[Importazione librerie e set up costanti](#library)<a href='#library'></a> <br>\n",
    "[Importazione dei dati](#import)<a href='#import'></a> <br>\n",
    "[Analisi Esplorative](#explore)<a href='#explore'></a> <br>\n",
    "[Machine Learning](#ml)<a href='#ml'></a> <br>"
   ]
  },
  {
   "cell_type": "markdown",
   "metadata": {},
   "source": [
    "<a id='library'></a>\n",
    "### Importazione librerie e set up costanti "
   ]
  },
  {
   "cell_type": "markdown",
   "metadata": {},
   "source": [
    "Iniziamo importando le librerie python che verrano utilizzate all'interno del documento "
   ]
  },
  {
   "cell_type": "code",
   "execution_count": 15,
   "metadata": {},
   "outputs": [
    {
     "name": "stdout",
     "output_type": "stream",
     "text": [
      "Setup Complete.\n"
     ]
    }
   ],
   "source": [
    "#analisi EDA   \n",
    "import pandas as pd \n",
    "import numpy as np\n",
    "import matplotlib.pyplot as plt\n",
    "import matplotlib.image as mpimg\n",
    "import seaborn as sns\n",
    "import datetime\n",
    "#import wordcloud\n",
    "\n",
    "#from PIL import Image\n",
    "#from wordcloud import WordCloud, STOPWORDS, ImageColorGenerator\n",
    "\n",
    "#accesso alle funzionalità del sistema operativo \n",
    "import os \n",
    "\n",
    "print (\"Setup Complete.\")"
   ]
  },
  {
   "cell_type": "code",
   "execution_count": 16,
   "metadata": {
    "collapsed": true
   },
   "outputs": [],
   "source": [
    "#codice per il reload automatico e inline plotting\n",
    "%reload_ext autoreload\n",
    "%autoreload 2\n",
    "%matplotlib inline"
   ]
  },
  {
   "cell_type": "markdown",
   "metadata": {},
   "source": [
    "Dichiariamo ora le costanti."
   ]
  },
  {
   "cell_type": "code",
   "execution_count": 17,
   "metadata": {},
   "outputs": [
    {
     "name": "stdout",
     "output_type": "stream",
     "text": [
      "Path 1: C:\\Users\\nigroch1\\Documents\\DATA SCIENCE COURSE\\Esame_Corso_DataScience\\Chicago_Crimes_2005_to_2007.csv\n",
      "Path 2: C:\\Users\\nigroch1\\Documents\\DATA SCIENCE COURSE\\Esame_Corso_DataScience\\Chicago_Crimes_2008_to_2011.csv\n",
      "Path 3: C:\\Users\\nigroch1\\Documents\\DATA SCIENCE COURSE\\Esame_Corso_DataScience\\Chicago_Crimes_2012_to_2017.csv\n"
     ]
    }
   ],
   "source": [
    "BASEPATH = os.path.abspath('')\n",
    "\n",
    "DATASET1 = 'Chicago_Crimes_2005_to_2007.csv'\n",
    "DATASET2 = 'Chicago_Crimes_2008_to_2011.csv'\n",
    "DATASET3 = 'Chicago_Crimes_2012_to_2017.csv'\n",
    "\n",
    "PATH1 = os.path.join(BASEPATH,DATASET1)\n",
    "PATH2 = os.path.join(BASEPATH,DATASET2)\n",
    "PATH3 = os.path.join(BASEPATH,DATASET3)\n",
    "\n",
    "print(\"Path 1:\",PATH1)\n",
    "print(\"Path 2:\",PATH2)\n",
    "print(\"Path 3:\",PATH3)"
   ]
  },
  {
   "cell_type": "markdown",
   "metadata": {},
   "source": [
    "<a id='import'></a>\n",
    "### Importazione dei dati"
   ]
  },
  {
   "cell_type": "markdown",
   "metadata": {},
   "source": [
    "Importo i tre csv separatamente e li concateno in modo tale da creare un'unico dataframe contenente i dati dal 2006 al 2016. <br> Ho scelto di effettuo pulizia dei dati sui singoli dataframe, prima quindi di concatenarli. <br> \n",
    "[CSV relativo ai crimini commessi dal 2006 al 2007](#2006-2007)<a href='#2006-2007'></a> <br>\n",
    "[CSV relativo ai crimini commessi dal 2008 al 2011](#2008-2011)<a href='#2008-2011'></a> <br>\n",
    "[CSV relativo ai crimini commessi dal 2012 al 2016](#2012-2016)<a href='#2012-2016'></a> <br>"
   ]
  },
  {
   "cell_type": "markdown",
   "metadata": {},
   "source": [
    "<a id='2006-2007'></a>\n",
    "#### Crimini relativi agli anni 2006 - 2007 "
   ]
  },
  {
   "cell_type": "code",
   "execution_count": 18,
   "metadata": {},
   "outputs": [
    {
     "name": "stderr",
     "output_type": "stream",
     "text": [
      "b'Skipping line 533719: expected 23 fields, saw 24\\n'\n"
     ]
    },
    {
     "data": {
      "text/html": [
       "<div>\n",
       "<style>\n",
       "    .dataframe thead tr:only-child th {\n",
       "        text-align: right;\n",
       "    }\n",
       "\n",
       "    .dataframe thead th {\n",
       "        text-align: left;\n",
       "    }\n",
       "\n",
       "    .dataframe tbody tr th {\n",
       "        vertical-align: top;\n",
       "    }\n",
       "</style>\n",
       "<table border=\"1\" class=\"dataframe\">\n",
       "  <thead>\n",
       "    <tr style=\"text-align: right;\">\n",
       "      <th></th>\n",
       "      <th>ID</th>\n",
       "      <th>Case Number</th>\n",
       "      <th>Date</th>\n",
       "      <th>Block</th>\n",
       "      <th>IUCR</th>\n",
       "      <th>Primary Type</th>\n",
       "      <th>Description</th>\n",
       "      <th>Location Description</th>\n",
       "      <th>Arrest</th>\n",
       "      <th>Domestic</th>\n",
       "      <th>...</th>\n",
       "      <th>Ward</th>\n",
       "      <th>Community Area</th>\n",
       "      <th>FBI Code</th>\n",
       "      <th>X Coordinate</th>\n",
       "      <th>Y Coordinate</th>\n",
       "      <th>Year</th>\n",
       "      <th>Updated On</th>\n",
       "      <th>Latitude</th>\n",
       "      <th>Longitude</th>\n",
       "      <th>Location</th>\n",
       "    </tr>\n",
       "  </thead>\n",
       "  <tbody>\n",
       "    <tr>\n",
       "      <th>0</th>\n",
       "      <td>4673626</td>\n",
       "      <td>HM274058</td>\n",
       "      <td>04/02/2006 01:00:00 PM</td>\n",
       "      <td>055XX N MANGO AVE</td>\n",
       "      <td>2825</td>\n",
       "      <td>OTHER OFFENSE</td>\n",
       "      <td>HARASSMENT BY TELEPHONE</td>\n",
       "      <td>RESIDENCE</td>\n",
       "      <td>False</td>\n",
       "      <td>False</td>\n",
       "      <td>...</td>\n",
       "      <td>45.0</td>\n",
       "      <td>11.0</td>\n",
       "      <td>26</td>\n",
       "      <td>1136872.0</td>\n",
       "      <td>1936499.0</td>\n",
       "      <td>2006</td>\n",
       "      <td>04/15/2016 08:55:02 AM</td>\n",
       "      <td>41.981913</td>\n",
       "      <td>-87.771996</td>\n",
       "      <td>(41.981912692, -87.771996382)</td>\n",
       "    </tr>\n",
       "    <tr>\n",
       "      <th>1</th>\n",
       "      <td>4673627</td>\n",
       "      <td>HM202199</td>\n",
       "      <td>02/26/2006 01:40:48 PM</td>\n",
       "      <td>065XX S RHODES AVE</td>\n",
       "      <td>2017</td>\n",
       "      <td>NARCOTICS</td>\n",
       "      <td>MANU/DELIVER:CRACK</td>\n",
       "      <td>SIDEWALK</td>\n",
       "      <td>True</td>\n",
       "      <td>False</td>\n",
       "      <td>...</td>\n",
       "      <td>20.0</td>\n",
       "      <td>42.0</td>\n",
       "      <td>18</td>\n",
       "      <td>1181027.0</td>\n",
       "      <td>1861693.0</td>\n",
       "      <td>2006</td>\n",
       "      <td>04/15/2016 08:55:02 AM</td>\n",
       "      <td>41.775733</td>\n",
       "      <td>-87.611920</td>\n",
       "      <td>(41.775732538, -87.611919814)</td>\n",
       "    </tr>\n",
       "    <tr>\n",
       "      <th>2</th>\n",
       "      <td>4673628</td>\n",
       "      <td>HM113861</td>\n",
       "      <td>01/08/2006 11:16:00 PM</td>\n",
       "      <td>013XX E 69TH ST</td>\n",
       "      <td>051A</td>\n",
       "      <td>ASSAULT</td>\n",
       "      <td>AGGRAVATED: HANDGUN</td>\n",
       "      <td>OTHER</td>\n",
       "      <td>False</td>\n",
       "      <td>False</td>\n",
       "      <td>...</td>\n",
       "      <td>5.0</td>\n",
       "      <td>69.0</td>\n",
       "      <td>04A</td>\n",
       "      <td>1186023.0</td>\n",
       "      <td>1859609.0</td>\n",
       "      <td>2006</td>\n",
       "      <td>04/15/2016 08:55:02 AM</td>\n",
       "      <td>41.769897</td>\n",
       "      <td>-87.593671</td>\n",
       "      <td>(41.769897392, -87.593670899)</td>\n",
       "    </tr>\n",
       "    <tr>\n",
       "      <th>3</th>\n",
       "      <td>4673629</td>\n",
       "      <td>HM274049</td>\n",
       "      <td>04/05/2006 06:45:00 PM</td>\n",
       "      <td>061XX W NEWPORT AVE</td>\n",
       "      <td>0460</td>\n",
       "      <td>BATTERY</td>\n",
       "      <td>SIMPLE</td>\n",
       "      <td>RESIDENCE</td>\n",
       "      <td>False</td>\n",
       "      <td>False</td>\n",
       "      <td>...</td>\n",
       "      <td>38.0</td>\n",
       "      <td>17.0</td>\n",
       "      <td>08B</td>\n",
       "      <td>1134772.0</td>\n",
       "      <td>1922299.0</td>\n",
       "      <td>2006</td>\n",
       "      <td>04/15/2016 08:55:02 AM</td>\n",
       "      <td>41.942984</td>\n",
       "      <td>-87.780057</td>\n",
       "      <td>(41.942984005, -87.780056951)</td>\n",
       "    </tr>\n",
       "    <tr>\n",
       "      <th>4</th>\n",
       "      <td>4673630</td>\n",
       "      <td>HM187120</td>\n",
       "      <td>02/17/2006 09:03:14 PM</td>\n",
       "      <td>037XX W 60TH ST</td>\n",
       "      <td>1811</td>\n",
       "      <td>NARCOTICS</td>\n",
       "      <td>POSS: CANNABIS 30GMS OR LESS</td>\n",
       "      <td>ALLEY</td>\n",
       "      <td>True</td>\n",
       "      <td>False</td>\n",
       "      <td>...</td>\n",
       "      <td>13.0</td>\n",
       "      <td>65.0</td>\n",
       "      <td>18</td>\n",
       "      <td>1152412.0</td>\n",
       "      <td>1864560.0</td>\n",
       "      <td>2006</td>\n",
       "      <td>04/15/2016 08:55:02 AM</td>\n",
       "      <td>41.784211</td>\n",
       "      <td>-87.716745</td>\n",
       "      <td>(41.784210853, -87.71674491)</td>\n",
       "    </tr>\n",
       "  </tbody>\n",
       "</table>\n",
       "<p>5 rows × 22 columns</p>\n",
       "</div>"
      ],
      "text/plain": [
       "        ID Case Number                    Date                Block  IUCR  \\\n",
       "0  4673626    HM274058  04/02/2006 01:00:00 PM    055XX N MANGO AVE  2825   \n",
       "1  4673627    HM202199  02/26/2006 01:40:48 PM   065XX S RHODES AVE  2017   \n",
       "2  4673628    HM113861  01/08/2006 11:16:00 PM      013XX E 69TH ST  051A   \n",
       "3  4673629    HM274049  04/05/2006 06:45:00 PM  061XX W NEWPORT AVE  0460   \n",
       "4  4673630    HM187120  02/17/2006 09:03:14 PM      037XX W 60TH ST  1811   \n",
       "\n",
       "    Primary Type                   Description Location Description  Arrest  \\\n",
       "0  OTHER OFFENSE       HARASSMENT BY TELEPHONE            RESIDENCE   False   \n",
       "1      NARCOTICS            MANU/DELIVER:CRACK             SIDEWALK    True   \n",
       "2        ASSAULT           AGGRAVATED: HANDGUN                OTHER   False   \n",
       "3        BATTERY                        SIMPLE            RESIDENCE   False   \n",
       "4      NARCOTICS  POSS: CANNABIS 30GMS OR LESS                ALLEY    True   \n",
       "\n",
       "   Domestic              ...                Ward  Community Area  FBI Code  \\\n",
       "0     False              ...                45.0            11.0        26   \n",
       "1     False              ...                20.0            42.0        18   \n",
       "2     False              ...                 5.0            69.0       04A   \n",
       "3     False              ...                38.0            17.0       08B   \n",
       "4     False              ...                13.0            65.0        18   \n",
       "\n",
       "   X Coordinate Y Coordinate  Year              Updated On   Latitude  \\\n",
       "0     1136872.0    1936499.0  2006  04/15/2016 08:55:02 AM  41.981913   \n",
       "1     1181027.0    1861693.0  2006  04/15/2016 08:55:02 AM  41.775733   \n",
       "2     1186023.0    1859609.0  2006  04/15/2016 08:55:02 AM  41.769897   \n",
       "3     1134772.0    1922299.0  2006  04/15/2016 08:55:02 AM  41.942984   \n",
       "4     1152412.0    1864560.0  2006  04/15/2016 08:55:02 AM  41.784211   \n",
       "\n",
       "   Longitude                       Location  \n",
       "0 -87.771996  (41.981912692, -87.771996382)  \n",
       "1 -87.611920  (41.775732538, -87.611919814)  \n",
       "2 -87.593671  (41.769897392, -87.593670899)  \n",
       "3 -87.780057  (41.942984005, -87.780056951)  \n",
       "4 -87.716745   (41.784210853, -87.71674491)  \n",
       "\n",
       "[5 rows x 22 columns]"
      ]
     },
     "execution_count": 18,
     "metadata": {},
     "output_type": "execute_result"
    }
   ],
   "source": [
    "#importo il csv sulle analisi dei crimini dal 2005 al 2007\n",
    "Chicago_05_07 = pd.read_csv(PATH1, header=0, error_bad_lines = False)\n",
    "Chicago_05_07 = Chicago_05_07.iloc[:,1:]\n",
    "Chicago_05_07.head()"
   ]
  },
  {
   "cell_type": "code",
   "execution_count": 19,
   "metadata": {},
   "outputs": [
    {
     "name": "stdout",
     "output_type": "stream",
     "text": [
      "Il dataframe 'Chicago_05_07' contiene:\n",
      " 1,872,343 righe\n",
      " 22 colonne\n"
     ]
    }
   ],
   "source": [
    "print(\"Il dataframe 'Chicago_05_07' contiene:\\n\",format(Chicago_05_07.shape[0],',d'),\"righe\\n\",Chicago_05_07.shape[1],\"colonne\")"
   ]
  },
  {
   "cell_type": "code",
   "execution_count": 20,
   "metadata": {},
   "outputs": [
    {
     "data": {
      "text/plain": [
       "ID                        int64\n",
       "Case Number              object\n",
       "Date                     object\n",
       "Block                    object\n",
       "IUCR                     object\n",
       "Primary Type             object\n",
       "Description              object\n",
       "Location Description     object\n",
       "Arrest                     bool\n",
       "Domestic                   bool\n",
       "Beat                      int64\n",
       "District                float64\n",
       "Ward                    float64\n",
       "Community Area          float64\n",
       "FBI Code                 object\n",
       "X Coordinate            float64\n",
       "Y Coordinate            float64\n",
       "Year                      int64\n",
       "Updated On               object\n",
       "Latitude                float64\n",
       "Longitude               float64\n",
       "Location                 object\n",
       "dtype: object"
      ]
     },
     "execution_count": 20,
     "metadata": {},
     "output_type": "execute_result"
    }
   ],
   "source": [
    "#che tipo di dari ho? \n",
    "Chicago_05_07.dtypes"
   ]
  },
  {
   "cell_type": "markdown",
   "metadata": {},
   "source": [
    "Come prima cosa, per lavorare agevolmente con il dataframe, rinomino le colonne in modo tale da eliminare lo spazio nel nome e trasformo nel formato corretto i campi contenenti una data."
   ]
  },
  {
   "cell_type": "code",
   "execution_count": 21,
   "metadata": {},
   "outputs": [
    {
     "data": {
      "text/plain": [
       "Index(['ID', 'Case_Number', 'Date', 'Block', 'IUCR', 'Primary_Type',\n",
       "       'Description', 'Location_Description', 'Arrest', 'Domestic', 'Beat',\n",
       "       'District', 'Ward', 'Community_Area', 'FBI_Code', 'X_Coordinate',\n",
       "       'Y_Coordinate', 'Year', 'Updated_On', 'Latitude', 'Longitude',\n",
       "       'Location'],\n",
       "      dtype='object')"
      ]
     },
     "execution_count": 21,
     "metadata": {},
     "output_type": "execute_result"
    }
   ],
   "source": [
    "#funzione replace\n",
    "Chicago_05_07.columns=[c.replace( ' ', '_') for c in Chicago_05_07.columns]\n",
    "Chicago_05_07.columns"
   ]
  },
  {
   "cell_type": "code",
   "execution_count": 22,
   "metadata": {},
   "outputs": [
    {
     "data": {
      "text/plain": [
       "ID                               int64\n",
       "Case_Number                     object\n",
       "Date                    datetime64[ns]\n",
       "Block                           object\n",
       "IUCR                            object\n",
       "Primary_Type                    object\n",
       "Description                     object\n",
       "Location_Description            object\n",
       "Arrest                            bool\n",
       "Domestic                          bool\n",
       "Beat                             int64\n",
       "District                       float64\n",
       "Ward                           float64\n",
       "Community_Area                 float64\n",
       "FBI_Code                        object\n",
       "X_Coordinate                   float64\n",
       "Y_Coordinate                   float64\n",
       "Year                             int64\n",
       "Updated_On              datetime64[ns]\n",
       "Latitude                       float64\n",
       "Longitude                      float64\n",
       "Location                        object\n",
       "dtype: object"
      ]
     },
     "execution_count": 22,
     "metadata": {},
     "output_type": "execute_result"
    }
   ],
   "source": [
    "#trasformo i campi 'Date' e 'Update_On' da object a datetime64\n",
    "Chicago_05_07.Date = pd.to_datetime(Chicago_05_07.Date, format='%m/%d/%Y %I:%M:%S %p')\n",
    "Chicago_05_07.Updated_On = pd.to_datetime(Chicago_05_07.Updated_On, format='%m/%d/%Y %I:%M:%S %p')\n",
    "Chicago_05_07.dtypes"
   ]
  },
  {
   "cell_type": "markdown",
   "metadata": {},
   "source": [
    "##### Trattamento valori duplicati"
   ]
  },
  {
   "cell_type": "markdown",
   "metadata": {},
   "source": [
    "Controllo che il dataframe non contenga righe duplicate e procedo all'analisi dei valori NaN."
   ]
  },
  {
   "cell_type": "code",
   "execution_count": 23,
   "metadata": {},
   "outputs": [],
   "source": [
    "#creo una funzione per il il controllo dei valori duplicati\n",
    "def check_duplicates(df):\n",
    "    x= df.duplicated().sum()\n",
    "    if x>0 :\n",
    "        df = df.drop_duplicates()\n",
    "        print(\"Sono stati elinimati\",x,\"record.\")\n",
    "        print(\"Il dataframe ora contiene:\\n\",format(df.shape[0],',d'),\"righe\\n\",df.shape[1],\"colonne\")\n",
    "    else:\n",
    "        print(\"Non ci sono record duplicati.\")\n",
    "    #return (df.head())"
   ]
  },
  {
   "cell_type": "code",
   "execution_count": 24,
   "metadata": {},
   "outputs": [
    {
     "name": "stdout",
     "output_type": "stream",
     "text": [
      "Sono stati elinimati 533716 record.\n",
      "Il dataframe ora contiene:\n",
      " 1,338,627 righe\n",
      " 22 colonne\n"
     ]
    }
   ],
   "source": [
    "check_duplicates(Chicago_05_07)"
   ]
  },
  {
   "cell_type": "markdown",
   "metadata": {},
   "source": [
    "##### Trattamento valori nulli "
   ]
  },
  {
   "cell_type": "code",
   "execution_count": 25,
   "metadata": {},
   "outputs": [
    {
     "data": {
      "text/plain": [
       "ID                         0\n",
       "Case_Number                0\n",
       "Date                       0\n",
       "Block                      0\n",
       "IUCR                       0\n",
       "Primary_Type               0\n",
       "Description                0\n",
       "Location_Description      25\n",
       "Arrest                     0\n",
       "Domestic                   0\n",
       "Beat                       0\n",
       "District                   5\n",
       "Ward                      15\n",
       "Community_Area           349\n",
       "FBI_Code                   0\n",
       "X_Coordinate            9154\n",
       "Y_Coordinate            9154\n",
       "Year                       0\n",
       "Updated_On                 0\n",
       "Latitude                9154\n",
       "Longitude               9154\n",
       "Location                9154\n",
       "dtype: int64"
      ]
     },
     "execution_count": 25,
     "metadata": {},
     "output_type": "execute_result"
    }
   ],
   "source": [
    "#controllo numero dei valori null\n",
    "Chicago_05_07.isnull().sum()"
   ]
  },
  {
   "cell_type": "markdown",
   "metadata": {},
   "source": [
    "Di questo dataframe, mi servono solo i valori relativi all'anno 2007, quindi, visto che il campo Year non contiene valori nulli, eseguo la selezione del dataframe, in modo tale da valutare quanto pessano rispetto al dataframe corretto. "
   ]
  },
  {
   "cell_type": "code",
   "execution_count": 26,
   "metadata": {},
   "outputs": [
    {
     "name": "stdout",
     "output_type": "stream",
     "text": [
      "Il dataframe 'Chicago_05_07' ora contiene:\n",
      " 1,416,532 righe\n",
      " 22 colonne.\n"
     ]
    }
   ],
   "source": [
    "#filtro il dataframe per year = 2007 \n",
    "Chicago_05_07 = Chicago_05_07.loc[Chicago_05_07.Year >= 2006]\n",
    "print(\"Il dataframe 'Chicago_05_07' ora contiene:\\n\",format(Chicago_05_07.shape[0],',d'),\"righe\\n\",Chicago_05_07.shape[1],\"colonne.\")"
   ]
  },
  {
   "cell_type": "code",
   "execution_count": 27,
   "metadata": {},
   "outputs": [
    {
     "data": {
      "text/plain": [
       "ID                         0\n",
       "Case_Number                0\n",
       "Date                       0\n",
       "Block                      0\n",
       "IUCR                       0\n",
       "Primary_Type               0\n",
       "Description                0\n",
       "Location_Description      19\n",
       "Arrest                     0\n",
       "Domestic                   0\n",
       "Beat                       0\n",
       "District                   4\n",
       "Ward                      14\n",
       "Community_Area           295\n",
       "FBI_Code                   0\n",
       "X_Coordinate            3965\n",
       "Y_Coordinate            3965\n",
       "Year                       0\n",
       "Updated_On                 0\n",
       "Latitude                3965\n",
       "Longitude               3965\n",
       "Location                3965\n",
       "dtype: int64"
      ]
     },
     "execution_count": 27,
     "metadata": {},
     "output_type": "execute_result"
    }
   ],
   "source": [
    "#controllo numero dei valori null\n",
    "Chicago_05_07.isnull().sum()"
   ]
  },
  {
   "cell_type": "code",
   "execution_count": 28,
   "metadata": {},
   "outputs": [
    {
     "name": "stdout",
     "output_type": "stream",
     "text": [
      "Lo 0.0013 % dei record del campo 'Location_Description' contiene valori nulli.\n",
      "Lo 0.0003 % dei record del campo 'District' contiene valori nulli.\n",
      "Lo 0.001 % dei record del campo 'Ward' contiene valori nulli.\n",
      "Lo 0.02 % dei record del campo 'Community_Area' contiene valori nulli.\n",
      "Lo 0.28 % dei record del campo 'X_Coordinate' contiene valori nulli.\n",
      "Lo 0.28 % dei record del campo 'Y_Coordinate' contiene valori nulli.\n",
      "Lo 0.28 % dei record del campo 'Latitude' contiene valori nulli.\n",
      "Lo 0.28 % dei record del campo 'Longitude' contiene valori nulli.\n",
      "Lo 0.28 % dei record del campo 'Location' contiene valori nulli.\n"
     ]
    }
   ],
   "source": [
    "#print la percentuale di record con valori nan rispetto al totale\n",
    "print(\"Lo\", round(Chicago_05_07.Location_Description.isnull().sum()/Chicago_05_07.shape[0]*100,4),\"% dei record del campo 'Location_Description' contiene valori nulli.\")\n",
    "print(\"Lo\", round(Chicago_05_07.District.isnull().sum()/Chicago_05_07.shape[0]*100,4),\"% dei record del campo 'District' contiene valori nulli.\")\n",
    "print(\"Lo\", round(Chicago_05_07.Ward.isnull().sum()/Chicago_05_07.shape[0]*100,4),\"% dei record del campo 'Ward' contiene valori nulli.\")\n",
    "print(\"Lo\", round(Chicago_05_07.Community_Area.isnull().sum()/Chicago_05_07.shape[0]*100,2),\"% dei record del campo 'Community_Area' contiene valori nulli.\")\n",
    "print(\"Lo\", round(Chicago_05_07.X_Coordinate.isnull().sum()/Chicago_05_07.shape[0]*100,2),\"% dei record del campo 'X_Coordinate' contiene valori nulli.\")\n",
    "print(\"Lo\", round(Chicago_05_07.Y_Coordinate.isnull().sum()/Chicago_05_07.shape[0]*100,2),\"% dei record del campo 'Y_Coordinate' contiene valori nulli.\")\n",
    "print(\"Lo\", round(Chicago_05_07.Latitude.isnull().sum()/Chicago_05_07.shape[0]*100,2),\"% dei record del campo 'Latitude' contiene valori nulli.\")\n",
    "print(\"Lo\", round(Chicago_05_07.Longitude.isnull().sum()/Chicago_05_07.shape[0]*100,2),\"% dei record del campo 'Longitude' contiene valori nulli.\")\n",
    "print(\"Lo\", round(Chicago_05_07.Location.isnull().sum()/Chicago_05_07.shape[0]*100,2),\"% dei record del campo 'Location' contiene valori nulli.\")"
   ]
  },
  {
   "cell_type": "markdown",
   "metadata": {},
   "source": [
    "I record NaN sono tutti inferiori allo 0,5% del totale del dataframe. Decido quindi semplicemente di eliminare questi valori."
   ]
  },
  {
   "cell_type": "code",
   "execution_count": 29,
   "metadata": {},
   "outputs": [
    {
     "name": "stdout",
     "output_type": "stream",
     "text": [
      "Il dataframe 'Chicago_05_07' ora contiene:\n",
      " 1,412,262 righe\n",
      " 22 colonne.\n"
     ]
    }
   ],
   "source": [
    "#elimino i valori NaN\n",
    "Chicago_05_07= Chicago_05_07.dropna()\n",
    "print(\"Il dataframe 'Chicago_05_07' ora contiene:\\n\",format(Chicago_05_07.shape[0],',d'),\"righe\\n\",Chicago_05_07.shape[1],\"colonne.\")"
   ]
  },
  {
   "cell_type": "markdown",
   "metadata": {},
   "source": [
    "Ora che ho pulito il mio dataframe, ordino per data descrescente e resetto l'indice"
   ]
  },
  {
   "cell_type": "code",
   "execution_count": 30,
   "metadata": {},
   "outputs": [
    {
     "data": {
      "text/html": [
       "<div>\n",
       "<style>\n",
       "    .dataframe thead tr:only-child th {\n",
       "        text-align: right;\n",
       "    }\n",
       "\n",
       "    .dataframe thead th {\n",
       "        text-align: left;\n",
       "    }\n",
       "\n",
       "    .dataframe tbody tr th {\n",
       "        vertical-align: top;\n",
       "    }\n",
       "</style>\n",
       "<table border=\"1\" class=\"dataframe\">\n",
       "  <thead>\n",
       "    <tr style=\"text-align: right;\">\n",
       "      <th></th>\n",
       "      <th>ID</th>\n",
       "      <th>Case_Number</th>\n",
       "      <th>Date</th>\n",
       "      <th>Block</th>\n",
       "      <th>IUCR</th>\n",
       "      <th>Primary_Type</th>\n",
       "      <th>Description</th>\n",
       "      <th>Location_Description</th>\n",
       "      <th>Arrest</th>\n",
       "      <th>Domestic</th>\n",
       "      <th>...</th>\n",
       "      <th>Ward</th>\n",
       "      <th>Community_Area</th>\n",
       "      <th>FBI_Code</th>\n",
       "      <th>X_Coordinate</th>\n",
       "      <th>Y_Coordinate</th>\n",
       "      <th>Year</th>\n",
       "      <th>Updated_On</th>\n",
       "      <th>Latitude</th>\n",
       "      <th>Longitude</th>\n",
       "      <th>Location</th>\n",
       "    </tr>\n",
       "  </thead>\n",
       "  <tbody>\n",
       "    <tr>\n",
       "      <th>0</th>\n",
       "      <td>4528690</td>\n",
       "      <td>HM115317</td>\n",
       "      <td>2006-01-01</td>\n",
       "      <td>061XX S RICHMOND ST</td>\n",
       "      <td>0840</td>\n",
       "      <td>THEFT</td>\n",
       "      <td>FINANCIAL ID THEFT: OVER $300</td>\n",
       "      <td>RESIDENCE</td>\n",
       "      <td>False</td>\n",
       "      <td>False</td>\n",
       "      <td>...</td>\n",
       "      <td>15.0</td>\n",
       "      <td>66.0</td>\n",
       "      <td>06</td>\n",
       "      <td>1157770.0</td>\n",
       "      <td>1863721.0</td>\n",
       "      <td>2006</td>\n",
       "      <td>2016-04-15 08:55:02</td>\n",
       "      <td>41.781801</td>\n",
       "      <td>-87.697123</td>\n",
       "      <td>(41.781801401, -87.697122998)</td>\n",
       "    </tr>\n",
       "    <tr>\n",
       "      <th>1</th>\n",
       "      <td>4512421</td>\n",
       "      <td>HM100180</td>\n",
       "      <td>2006-01-01</td>\n",
       "      <td>109XX S HALSTED ST</td>\n",
       "      <td>2820</td>\n",
       "      <td>OTHER OFFENSE</td>\n",
       "      <td>TELEPHONE THREAT</td>\n",
       "      <td>NURSING HOME/RETIREMENT HOME</td>\n",
       "      <td>False</td>\n",
       "      <td>False</td>\n",
       "      <td>...</td>\n",
       "      <td>34.0</td>\n",
       "      <td>49.0</td>\n",
       "      <td>26</td>\n",
       "      <td>1172930.0</td>\n",
       "      <td>1832289.0</td>\n",
       "      <td>2006</td>\n",
       "      <td>2016-04-15 08:55:02</td>\n",
       "      <td>41.695227</td>\n",
       "      <td>-87.642468</td>\n",
       "      <td>(41.69522655, -87.642467755)</td>\n",
       "    </tr>\n",
       "    <tr>\n",
       "      <th>2</th>\n",
       "      <td>4512424</td>\n",
       "      <td>HM100677</td>\n",
       "      <td>2006-01-01</td>\n",
       "      <td>119XX S PRAIRIE AVE</td>\n",
       "      <td>0320</td>\n",
       "      <td>ROBBERY</td>\n",
       "      <td>STRONGARM - NO WEAPON</td>\n",
       "      <td>STREET</td>\n",
       "      <td>False</td>\n",
       "      <td>False</td>\n",
       "      <td>...</td>\n",
       "      <td>9.0</td>\n",
       "      <td>53.0</td>\n",
       "      <td>03</td>\n",
       "      <td>1180051.0</td>\n",
       "      <td>1825946.0</td>\n",
       "      <td>2006</td>\n",
       "      <td>2016-04-15 08:55:02</td>\n",
       "      <td>41.677661</td>\n",
       "      <td>-87.616589</td>\n",
       "      <td>(41.677660754, -87.616588843)</td>\n",
       "    </tr>\n",
       "    <tr>\n",
       "      <th>3</th>\n",
       "      <td>4989774</td>\n",
       "      <td>HM601444</td>\n",
       "      <td>2006-01-01</td>\n",
       "      <td>118XX S JUSTINE ST</td>\n",
       "      <td>1752</td>\n",
       "      <td>OFFENSE INVOLVING CHILDREN</td>\n",
       "      <td>AGG CRIM SEX ABUSE FAM MEMBER</td>\n",
       "      <td>RESIDENCE</td>\n",
       "      <td>False</td>\n",
       "      <td>False</td>\n",
       "      <td>...</td>\n",
       "      <td>34.0</td>\n",
       "      <td>53.0</td>\n",
       "      <td>20</td>\n",
       "      <td>1168132.0</td>\n",
       "      <td>1826242.0</td>\n",
       "      <td>2006</td>\n",
       "      <td>2016-04-15 08:55:02</td>\n",
       "      <td>41.678737</td>\n",
       "      <td>-87.660208</td>\n",
       "      <td>(41.678736827, -87.660207794)</td>\n",
       "    </tr>\n",
       "    <tr>\n",
       "      <th>4</th>\n",
       "      <td>5474453</td>\n",
       "      <td>HN300015</td>\n",
       "      <td>2006-01-01</td>\n",
       "      <td>073XX S DANTE AVE</td>\n",
       "      <td>0842</td>\n",
       "      <td>THEFT</td>\n",
       "      <td>AGG: FINANCIAL ID THEFT</td>\n",
       "      <td>APARTMENT</td>\n",
       "      <td>False</td>\n",
       "      <td>False</td>\n",
       "      <td>...</td>\n",
       "      <td>5.0</td>\n",
       "      <td>43.0</td>\n",
       "      <td>06</td>\n",
       "      <td>1187141.0</td>\n",
       "      <td>1856632.0</td>\n",
       "      <td>2006</td>\n",
       "      <td>2016-04-15 08:55:02</td>\n",
       "      <td>41.761702</td>\n",
       "      <td>-87.589667</td>\n",
       "      <td>(41.761701782, -87.589667196)</td>\n",
       "    </tr>\n",
       "  </tbody>\n",
       "</table>\n",
       "<p>5 rows × 22 columns</p>\n",
       "</div>"
      ],
      "text/plain": [
       "        ID Case_Number       Date                Block  IUCR  \\\n",
       "0  4528690    HM115317 2006-01-01  061XX S RICHMOND ST  0840   \n",
       "1  4512421    HM100180 2006-01-01   109XX S HALSTED ST  2820   \n",
       "2  4512424    HM100677 2006-01-01  119XX S PRAIRIE AVE  0320   \n",
       "3  4989774    HM601444 2006-01-01   118XX S JUSTINE ST  1752   \n",
       "4  5474453    HN300015 2006-01-01    073XX S DANTE AVE  0842   \n",
       "\n",
       "                 Primary_Type                    Description  \\\n",
       "0                       THEFT  FINANCIAL ID THEFT: OVER $300   \n",
       "1               OTHER OFFENSE               TELEPHONE THREAT   \n",
       "2                     ROBBERY          STRONGARM - NO WEAPON   \n",
       "3  OFFENSE INVOLVING CHILDREN  AGG CRIM SEX ABUSE FAM MEMBER   \n",
       "4                       THEFT        AGG: FINANCIAL ID THEFT   \n",
       "\n",
       "           Location_Description  Arrest  Domestic  \\\n",
       "0                     RESIDENCE   False     False   \n",
       "1  NURSING HOME/RETIREMENT HOME   False     False   \n",
       "2                        STREET   False     False   \n",
       "3                     RESIDENCE   False     False   \n",
       "4                     APARTMENT   False     False   \n",
       "\n",
       "               ...                Ward  Community_Area  FBI_Code  \\\n",
       "0              ...                15.0            66.0        06   \n",
       "1              ...                34.0            49.0        26   \n",
       "2              ...                 9.0            53.0        03   \n",
       "3              ...                34.0            53.0        20   \n",
       "4              ...                 5.0            43.0        06   \n",
       "\n",
       "   X_Coordinate Y_Coordinate  Year          Updated_On   Latitude  Longitude  \\\n",
       "0     1157770.0    1863721.0  2006 2016-04-15 08:55:02  41.781801 -87.697123   \n",
       "1     1172930.0    1832289.0  2006 2016-04-15 08:55:02  41.695227 -87.642468   \n",
       "2     1180051.0    1825946.0  2006 2016-04-15 08:55:02  41.677661 -87.616589   \n",
       "3     1168132.0    1826242.0  2006 2016-04-15 08:55:02  41.678737 -87.660208   \n",
       "4     1187141.0    1856632.0  2006 2016-04-15 08:55:02  41.761702 -87.589667   \n",
       "\n",
       "                        Location  \n",
       "0  (41.781801401, -87.697122998)  \n",
       "1   (41.69522655, -87.642467755)  \n",
       "2  (41.677660754, -87.616588843)  \n",
       "3  (41.678736827, -87.660207794)  \n",
       "4  (41.761701782, -87.589667196)  \n",
       "\n",
       "[5 rows x 22 columns]"
      ]
     },
     "execution_count": 30,
     "metadata": {},
     "output_type": "execute_result"
    }
   ],
   "source": [
    "Chicago_05_07 = Chicago_05_07.sort_values(by=['Date']).reset_index(drop=True)\n",
    "Chicago_05_07.head()"
   ]
  },
  {
   "cell_type": "markdown",
   "metadata": {},
   "source": [
    "<a id='2008-2011'></a>\n",
    "#### Crimini relativi agli anni 2008- 2011"
   ]
  },
  {
   "cell_type": "markdown",
   "metadata": {},
   "source": [
    "Importo ora il secondo csv relativo ai dati dal 2008 al 2011"
   ]
  },
  {
   "cell_type": "code",
   "execution_count": 31,
   "metadata": {},
   "outputs": [
    {
     "name": "stderr",
     "output_type": "stream",
     "text": [
      "b'Skipping line 1149094: expected 23 fields, saw 41\\n'\n"
     ]
    },
    {
     "data": {
      "text/html": [
       "<div>\n",
       "<style>\n",
       "    .dataframe thead tr:only-child th {\n",
       "        text-align: right;\n",
       "    }\n",
       "\n",
       "    .dataframe thead th {\n",
       "        text-align: left;\n",
       "    }\n",
       "\n",
       "    .dataframe tbody tr th {\n",
       "        vertical-align: top;\n",
       "    }\n",
       "</style>\n",
       "<table border=\"1\" class=\"dataframe\">\n",
       "  <thead>\n",
       "    <tr style=\"text-align: right;\">\n",
       "      <th></th>\n",
       "      <th>ID</th>\n",
       "      <th>Case Number</th>\n",
       "      <th>Date</th>\n",
       "      <th>Block</th>\n",
       "      <th>IUCR</th>\n",
       "      <th>Primary Type</th>\n",
       "      <th>Description</th>\n",
       "      <th>Location Description</th>\n",
       "      <th>Arrest</th>\n",
       "      <th>Domestic</th>\n",
       "      <th>...</th>\n",
       "      <th>Ward</th>\n",
       "      <th>Community Area</th>\n",
       "      <th>FBI Code</th>\n",
       "      <th>X Coordinate</th>\n",
       "      <th>Y Coordinate</th>\n",
       "      <th>Year</th>\n",
       "      <th>Updated On</th>\n",
       "      <th>Latitude</th>\n",
       "      <th>Longitude</th>\n",
       "      <th>Location</th>\n",
       "    </tr>\n",
       "  </thead>\n",
       "  <tbody>\n",
       "    <tr>\n",
       "      <th>0</th>\n",
       "      <td>4785</td>\n",
       "      <td>HP610824</td>\n",
       "      <td>10/07/2008 12:39:00 PM</td>\n",
       "      <td>000XX E 75TH ST</td>\n",
       "      <td>0110</td>\n",
       "      <td>HOMICIDE</td>\n",
       "      <td>FIRST DEGREE MURDER</td>\n",
       "      <td>ALLEY</td>\n",
       "      <td>True</td>\n",
       "      <td>False</td>\n",
       "      <td>...</td>\n",
       "      <td>6.0</td>\n",
       "      <td>69.0</td>\n",
       "      <td>01A</td>\n",
       "      <td>1178207.0</td>\n",
       "      <td>1855308.0</td>\n",
       "      <td>2008</td>\n",
       "      <td>08/17/2015 03:03:40 PM</td>\n",
       "      <td>41.758276</td>\n",
       "      <td>-87.622451</td>\n",
       "      <td>(41.758275857, -87.622451031)</td>\n",
       "    </tr>\n",
       "    <tr>\n",
       "      <th>1</th>\n",
       "      <td>4786</td>\n",
       "      <td>HP616595</td>\n",
       "      <td>10/09/2008 03:30:00 AM</td>\n",
       "      <td>048XX W POLK ST</td>\n",
       "      <td>0110</td>\n",
       "      <td>HOMICIDE</td>\n",
       "      <td>FIRST DEGREE MURDER</td>\n",
       "      <td>STREET</td>\n",
       "      <td>True</td>\n",
       "      <td>False</td>\n",
       "      <td>...</td>\n",
       "      <td>24.0</td>\n",
       "      <td>25.0</td>\n",
       "      <td>01A</td>\n",
       "      <td>1144200.0</td>\n",
       "      <td>1895857.0</td>\n",
       "      <td>2008</td>\n",
       "      <td>08/17/2015 03:03:40 PM</td>\n",
       "      <td>41.870252</td>\n",
       "      <td>-87.746069</td>\n",
       "      <td>(41.87025207, -87.746069362)</td>\n",
       "    </tr>\n",
       "    <tr>\n",
       "      <th>2</th>\n",
       "      <td>4787</td>\n",
       "      <td>HP616904</td>\n",
       "      <td>10/09/2008 08:35:00 AM</td>\n",
       "      <td>030XX W MANN DR</td>\n",
       "      <td>0110</td>\n",
       "      <td>HOMICIDE</td>\n",
       "      <td>FIRST DEGREE MURDER</td>\n",
       "      <td>PARK PROPERTY</td>\n",
       "      <td>False</td>\n",
       "      <td>False</td>\n",
       "      <td>...</td>\n",
       "      <td>18.0</td>\n",
       "      <td>66.0</td>\n",
       "      <td>01A</td>\n",
       "      <td>1157314.0</td>\n",
       "      <td>1859778.0</td>\n",
       "      <td>2008</td>\n",
       "      <td>08/17/2015 03:03:40 PM</td>\n",
       "      <td>41.770990</td>\n",
       "      <td>-87.698901</td>\n",
       "      <td>(41.770990476, -87.698901469)</td>\n",
       "    </tr>\n",
       "    <tr>\n",
       "      <th>3</th>\n",
       "      <td>4788</td>\n",
       "      <td>HP618616</td>\n",
       "      <td>10/10/2008 02:33:00 AM</td>\n",
       "      <td>052XX W CHICAGO AVE</td>\n",
       "      <td>0110</td>\n",
       "      <td>HOMICIDE</td>\n",
       "      <td>FIRST DEGREE MURDER</td>\n",
       "      <td>RESTAURANT</td>\n",
       "      <td>False</td>\n",
       "      <td>False</td>\n",
       "      <td>...</td>\n",
       "      <td>37.0</td>\n",
       "      <td>25.0</td>\n",
       "      <td>01A</td>\n",
       "      <td>1141065.0</td>\n",
       "      <td>1904824.0</td>\n",
       "      <td>2008</td>\n",
       "      <td>08/17/2015 03:03:40 PM</td>\n",
       "      <td>41.894917</td>\n",
       "      <td>-87.757358</td>\n",
       "      <td>(41.894916924, -87.757358147)</td>\n",
       "    </tr>\n",
       "    <tr>\n",
       "      <th>4</th>\n",
       "      <td>4789</td>\n",
       "      <td>HP619020</td>\n",
       "      <td>10/10/2008 12:50:00 PM</td>\n",
       "      <td>026XX S HOMAN AVE</td>\n",
       "      <td>0110</td>\n",
       "      <td>HOMICIDE</td>\n",
       "      <td>FIRST DEGREE MURDER</td>\n",
       "      <td>GARAGE</td>\n",
       "      <td>False</td>\n",
       "      <td>True</td>\n",
       "      <td>...</td>\n",
       "      <td>22.0</td>\n",
       "      <td>30.0</td>\n",
       "      <td>01A</td>\n",
       "      <td>1154123.0</td>\n",
       "      <td>1886297.0</td>\n",
       "      <td>2008</td>\n",
       "      <td>08/17/2015 03:03:40 PM</td>\n",
       "      <td>41.843826</td>\n",
       "      <td>-87.709893</td>\n",
       "      <td>(41.843826272, -87.709893465)</td>\n",
       "    </tr>\n",
       "  </tbody>\n",
       "</table>\n",
       "<p>5 rows × 22 columns</p>\n",
       "</div>"
      ],
      "text/plain": [
       "     ID Case Number                    Date                Block  IUCR  \\\n",
       "0  4785    HP610824  10/07/2008 12:39:00 PM      000XX E 75TH ST  0110   \n",
       "1  4786    HP616595  10/09/2008 03:30:00 AM      048XX W POLK ST  0110   \n",
       "2  4787    HP616904  10/09/2008 08:35:00 AM      030XX W MANN DR  0110   \n",
       "3  4788    HP618616  10/10/2008 02:33:00 AM  052XX W CHICAGO AVE  0110   \n",
       "4  4789    HP619020  10/10/2008 12:50:00 PM    026XX S HOMAN AVE  0110   \n",
       "\n",
       "  Primary Type          Description Location Description  Arrest  Domestic  \\\n",
       "0     HOMICIDE  FIRST DEGREE MURDER                ALLEY    True     False   \n",
       "1     HOMICIDE  FIRST DEGREE MURDER               STREET    True     False   \n",
       "2     HOMICIDE  FIRST DEGREE MURDER        PARK PROPERTY   False     False   \n",
       "3     HOMICIDE  FIRST DEGREE MURDER           RESTAURANT   False     False   \n",
       "4     HOMICIDE  FIRST DEGREE MURDER               GARAGE   False      True   \n",
       "\n",
       "               ...                Ward  Community Area  FBI Code  \\\n",
       "0              ...                 6.0            69.0       01A   \n",
       "1              ...                24.0            25.0       01A   \n",
       "2              ...                18.0            66.0       01A   \n",
       "3              ...                37.0            25.0       01A   \n",
       "4              ...                22.0            30.0       01A   \n",
       "\n",
       "   X Coordinate Y Coordinate  Year              Updated On   Latitude  \\\n",
       "0     1178207.0    1855308.0  2008  08/17/2015 03:03:40 PM  41.758276   \n",
       "1     1144200.0    1895857.0  2008  08/17/2015 03:03:40 PM  41.870252   \n",
       "2     1157314.0    1859778.0  2008  08/17/2015 03:03:40 PM  41.770990   \n",
       "3     1141065.0    1904824.0  2008  08/17/2015 03:03:40 PM  41.894917   \n",
       "4     1154123.0    1886297.0  2008  08/17/2015 03:03:40 PM  41.843826   \n",
       "\n",
       "   Longitude                       Location  \n",
       "0 -87.622451  (41.758275857, -87.622451031)  \n",
       "1 -87.746069   (41.87025207, -87.746069362)  \n",
       "2 -87.698901  (41.770990476, -87.698901469)  \n",
       "3 -87.757358  (41.894916924, -87.757358147)  \n",
       "4 -87.709893  (41.843826272, -87.709893465)  \n",
       "\n",
       "[5 rows x 22 columns]"
      ]
     },
     "execution_count": 31,
     "metadata": {},
     "output_type": "execute_result"
    }
   ],
   "source": [
    "#importo il csv sulle analisi dei crimini dal 2008 al 2011\n",
    "Chicago_08_11 = pd.read_csv(PATH2, header=0, error_bad_lines = False)\n",
    "Chicago_08_11 = Chicago_08_11.iloc[:,1:]\n",
    "Chicago_08_11.head()"
   ]
  },
  {
   "cell_type": "code",
   "execution_count": 32,
   "metadata": {},
   "outputs": [
    {
     "name": "stdout",
     "output_type": "stream",
     "text": [
      "Il dataframe 'Chicago_08_11' contiene:\n",
      " 2,688,710 righe\n",
      " 22 colonne\n"
     ]
    }
   ],
   "source": [
    "print(\"Il dataframe 'Chicago_08_11' contiene:\\n\",format(Chicago_08_11.shape[0],',d'),\"righe\\n\",Chicago_08_11.shape[1],\"colonne\")"
   ]
  },
  {
   "cell_type": "code",
   "execution_count": 33,
   "metadata": {},
   "outputs": [
    {
     "data": {
      "text/plain": [
       "ID                        int64\n",
       "Case Number              object\n",
       "Date                     object\n",
       "Block                    object\n",
       "IUCR                     object\n",
       "Primary Type             object\n",
       "Description              object\n",
       "Location Description     object\n",
       "Arrest                     bool\n",
       "Domestic                   bool\n",
       "Beat                      int64\n",
       "District                float64\n",
       "Ward                    float64\n",
       "Community Area          float64\n",
       "FBI Code                 object\n",
       "X Coordinate            float64\n",
       "Y Coordinate            float64\n",
       "Year                      int64\n",
       "Updated On               object\n",
       "Latitude                float64\n",
       "Longitude               float64\n",
       "Location                 object\n",
       "dtype: object"
      ]
     },
     "execution_count": 33,
     "metadata": {},
     "output_type": "execute_result"
    }
   ],
   "source": [
    "#che tipo di dati ho? \n",
    "Chicago_08_11.dtypes"
   ]
  },
  {
   "cell_type": "code",
   "execution_count": 34,
   "metadata": {},
   "outputs": [
    {
     "data": {
      "text/plain": [
       "Index(['ID', 'Case_Number', 'Date', 'Block', 'IUCR', 'Primary_Type',\n",
       "       'Description', 'Location_Description', 'Arrest', 'Domestic', 'Beat',\n",
       "       'District', 'Ward', 'Community_Area', 'FBI_Code', 'X_Coordinate',\n",
       "       'Y_Coordinate', 'Year', 'Updated_On', 'Latitude', 'Longitude',\n",
       "       'Location'],\n",
       "      dtype='object')"
      ]
     },
     "execution_count": 34,
     "metadata": {},
     "output_type": "execute_result"
    }
   ],
   "source": [
    "#funzione replace\n",
    "Chicago_08_11.columns=[c.replace( ' ', '_') for c in Chicago_08_11.columns]\n",
    "Chicago_08_11.columns"
   ]
  },
  {
   "cell_type": "code",
   "execution_count": 35,
   "metadata": {},
   "outputs": [
    {
     "data": {
      "text/plain": [
       "ID                               int64\n",
       "Case_Number                     object\n",
       "Date                    datetime64[ns]\n",
       "Block                           object\n",
       "IUCR                            object\n",
       "Primary_Type                    object\n",
       "Description                     object\n",
       "Location_Description            object\n",
       "Arrest                            bool\n",
       "Domestic                          bool\n",
       "Beat                             int64\n",
       "District                       float64\n",
       "Ward                           float64\n",
       "Community_Area                 float64\n",
       "FBI_Code                        object\n",
       "X_Coordinate                   float64\n",
       "Y_Coordinate                   float64\n",
       "Year                             int64\n",
       "Updated_On              datetime64[ns]\n",
       "Latitude                       float64\n",
       "Longitude                      float64\n",
       "Location                        object\n",
       "dtype: object"
      ]
     },
     "execution_count": 35,
     "metadata": {},
     "output_type": "execute_result"
    }
   ],
   "source": [
    "#trasformo i campi 'Date' e 'Update_On' da object a datetime64\n",
    "Chicago_08_11.Date = pd.to_datetime(Chicago_08_11.Date, format='%m/%d/%Y %I:%M:%S %p')\n",
    "Chicago_08_11.Updated_On = pd.to_datetime(Chicago_08_11.Updated_On, format='%m/%d/%Y %I:%M:%S %p')\n",
    "Chicago_08_11.dtypes"
   ]
  },
  {
   "cell_type": "markdown",
   "metadata": {},
   "source": [
    "##### Trattamento valori duplicati"
   ]
  },
  {
   "cell_type": "markdown",
   "metadata": {},
   "source": [
    "Controllo che il dataframe non contenga righe duplicate e procedo all'analisi dei valori NaN."
   ]
  },
  {
   "cell_type": "code",
   "execution_count": 36,
   "metadata": {},
   "outputs": [
    {
     "name": "stdout",
     "output_type": "stream",
     "text": [
      "Sono stati elinimati 1147495 record.\n",
      "Il dataframe ora contiene:\n",
      " 1,541,215 righe\n",
      " 22 colonne\n"
     ]
    }
   ],
   "source": [
    "check_duplicates(Chicago_08_11)"
   ]
  },
  {
   "cell_type": "code",
   "execution_count": 37,
   "metadata": {},
   "outputs": [
    {
     "data": {
      "text/plain": [
       "1147495"
      ]
     },
     "execution_count": 37,
     "metadata": {},
     "output_type": "execute_result"
    }
   ],
   "source": [
    "#controllo se ci sono valori duplicati\n",
    "Chicago_08_11.duplicated().sum()"
   ]
  },
  {
   "cell_type": "code",
   "execution_count": 38,
   "metadata": {},
   "outputs": [
    {
     "name": "stdout",
     "output_type": "stream",
     "text": [
      "Sono stati eliminati 1147495 record.\n",
      "Il dataframe 'Chicago_08_11' ora contiene:\n",
      " 1,541,215 righe\n",
      " 22 colonne\n"
     ]
    }
   ],
   "source": [
    "#elimino righe duplicate \n",
    "x=Chicago_08_11.duplicated().sum()\n",
    "Chicago_08_11 = Chicago_08_11.drop_duplicates()\n",
    "print(\"Sono stati eliminati\",x,\"record.\")\n",
    "print(\"Il dataframe 'Chicago_08_11' ora contiene:\\n\",format(Chicago_08_11.shape[0],',d'),\"righe\\n\",Chicago_08_11.shape[1],\"colonne\")"
   ]
  },
  {
   "cell_type": "markdown",
   "metadata": {},
   "source": [
    "##### Trattamento valori nulli "
   ]
  },
  {
   "cell_type": "code",
   "execution_count": 39,
   "metadata": {},
   "outputs": [
    {
     "data": {
      "text/plain": [
       "ID                          0\n",
       "Case_Number                 3\n",
       "Date                        0\n",
       "Block                       0\n",
       "IUCR                        0\n",
       "Primary_Type                0\n",
       "Description                 0\n",
       "Location_Description      274\n",
       "Arrest                      0\n",
       "Domestic                    0\n",
       "Beat                        0\n",
       "District                   42\n",
       "Ward                       39\n",
       "Community_Area            829\n",
       "FBI_Code                    0\n",
       "X_Coordinate            15653\n",
       "Y_Coordinate            15653\n",
       "Year                        0\n",
       "Updated_On                  0\n",
       "Latitude                15653\n",
       "Longitude               15653\n",
       "Location                15653\n",
       "dtype: int64"
      ]
     },
     "execution_count": 39,
     "metadata": {},
     "output_type": "execute_result"
    }
   ],
   "source": [
    "#controllo numero dei valori null\n",
    "Chicago_08_11.isnull().sum()"
   ]
  },
  {
   "cell_type": "code",
   "execution_count": 40,
   "metadata": {},
   "outputs": [
    {
     "name": "stdout",
     "output_type": "stream",
     "text": [
      "Lo 0.0002 % dei record del campo 'Case_Number' contiene valori nulli.\n",
      "Lo 0.0178 % dei record del campo 'Location_Description' contiene valori nulli.\n",
      "Lo 0.0027 % dei record del campo 'District' contiene valori nulli.\n",
      "Lo 0.0025 % dei record del campo 'Ward' contiene valori nulli.\n",
      "Lo 0.05 % dei record del campo 'Community_Area' contiene valori nulli.\n",
      "Lo 1.02 % dei record del campo 'X_Coordinate' contiene valori nulli.\n",
      "Lo 1.02 % dei record del campo 'Y_Coordinate' contiene valori nulli.\n",
      "Lo 1.02 % dei record del campo 'Latitude' contiene valori nulli.\n",
      "Lo 1.02 % dei record del campo 'Longitude' contiene valori nulli.\n",
      "Lo 1.02 % dei record del campo 'Location' contiene valori nulli.\n"
     ]
    }
   ],
   "source": [
    "#print la percentuale di record con valori nan rispetto al totale\n",
    "print(\"Lo\", round(Chicago_08_11.Case_Number.isnull().sum()/Chicago_08_11.shape[0]*100,4),\"% dei record del campo 'Case_Number' contiene valori nulli.\")\n",
    "print(\"Lo\", round(Chicago_08_11.Location_Description.isnull().sum()/Chicago_08_11.shape[0]*100,4),\"% dei record del campo 'Location_Description' contiene valori nulli.\")\n",
    "print(\"Lo\", round(Chicago_08_11.District.isnull().sum()/Chicago_08_11.shape[0]*100,4),\"% dei record del campo 'District' contiene valori nulli.\")\n",
    "print(\"Lo\", round(Chicago_08_11.Ward.isnull().sum()/Chicago_08_11.shape[0]*100,4),\"% dei record del campo 'Ward' contiene valori nulli.\")\n",
    "print(\"Lo\", round(Chicago_08_11.Community_Area.isnull().sum()/Chicago_08_11.shape[0]*100,2),\"% dei record del campo 'Community_Area' contiene valori nulli.\")\n",
    "print(\"Lo\", round(Chicago_08_11.X_Coordinate.isnull().sum()/Chicago_08_11.shape[0]*100,2),\"% dei record del campo 'X_Coordinate' contiene valori nulli.\")\n",
    "print(\"Lo\", round(Chicago_08_11.Y_Coordinate.isnull().sum()/Chicago_08_11.shape[0]*100,2),\"% dei record del campo 'Y_Coordinate' contiene valori nulli.\")\n",
    "print(\"Lo\", round(Chicago_08_11.Latitude.isnull().sum()/Chicago_08_11.shape[0]*100,2),\"% dei record del campo 'Latitude' contiene valori nulli.\")\n",
    "print(\"Lo\", round(Chicago_08_11.Longitude.isnull().sum()/Chicago_08_11.shape[0]*100,2),\"% dei record del campo 'Longitude' contiene valori nulli.\")\n",
    "print(\"Lo\", round(Chicago_08_11.Location.isnull().sum()/Chicago_08_11.shape[0]*100,2),\"% dei record del campo 'Location' contiene valori nulli.\")"
   ]
  },
  {
   "cell_type": "code",
   "execution_count": 41,
   "metadata": {},
   "outputs": [
    {
     "name": "stdout",
     "output_type": "stream",
     "text": [
      "Il dataframe 'Chicago_08_11' ora contiene:\n",
      " 1,524,499 righe\n",
      " 22 colonne.\n"
     ]
    }
   ],
   "source": [
    "#elimino i valori NaN\n",
    "Chicago_08_11= Chicago_08_11.dropna()\n",
    "print(\"Il dataframe 'Chicago_08_11' ora contiene:\\n\",format(Chicago_08_11.shape[0],',d'),\"righe\\n\",Chicago_08_11.shape[1],\"colonne.\")"
   ]
  },
  {
   "cell_type": "code",
   "execution_count": 42,
   "metadata": {},
   "outputs": [
    {
     "data": {
      "text/html": [
       "<div>\n",
       "<style>\n",
       "    .dataframe thead tr:only-child th {\n",
       "        text-align: right;\n",
       "    }\n",
       "\n",
       "    .dataframe thead th {\n",
       "        text-align: left;\n",
       "    }\n",
       "\n",
       "    .dataframe tbody tr th {\n",
       "        vertical-align: top;\n",
       "    }\n",
       "</style>\n",
       "<table border=\"1\" class=\"dataframe\">\n",
       "  <thead>\n",
       "    <tr style=\"text-align: right;\">\n",
       "      <th></th>\n",
       "      <th>ID</th>\n",
       "      <th>Case_Number</th>\n",
       "      <th>Date</th>\n",
       "      <th>Block</th>\n",
       "      <th>IUCR</th>\n",
       "      <th>Primary_Type</th>\n",
       "      <th>Description</th>\n",
       "      <th>Location_Description</th>\n",
       "      <th>Arrest</th>\n",
       "      <th>Domestic</th>\n",
       "      <th>...</th>\n",
       "      <th>Ward</th>\n",
       "      <th>Community_Area</th>\n",
       "      <th>FBI_Code</th>\n",
       "      <th>X_Coordinate</th>\n",
       "      <th>Y_Coordinate</th>\n",
       "      <th>Year</th>\n",
       "      <th>Updated_On</th>\n",
       "      <th>Latitude</th>\n",
       "      <th>Longitude</th>\n",
       "      <th>Location</th>\n",
       "    </tr>\n",
       "  </thead>\n",
       "  <tbody>\n",
       "    <tr>\n",
       "      <th>0</th>\n",
       "      <td>6144015</td>\n",
       "      <td>HP235161</td>\n",
       "      <td>2008-01-01</td>\n",
       "      <td>006XX E 60TH ST</td>\n",
       "      <td>0890</td>\n",
       "      <td>THEFT</td>\n",
       "      <td>FROM BUILDING</td>\n",
       "      <td>APARTMENT</td>\n",
       "      <td>False</td>\n",
       "      <td>False</td>\n",
       "      <td>...</td>\n",
       "      <td>20.0</td>\n",
       "      <td>42.0</td>\n",
       "      <td>06</td>\n",
       "      <td>1181409.0</td>\n",
       "      <td>1865364.0</td>\n",
       "      <td>2008</td>\n",
       "      <td>2016-02-04 06:33:39</td>\n",
       "      <td>41.785797</td>\n",
       "      <td>-87.610406</td>\n",
       "      <td>(41.785797307, -87.610406313)</td>\n",
       "    </tr>\n",
       "    <tr>\n",
       "      <th>1</th>\n",
       "      <td>6210660</td>\n",
       "      <td>HP298962</td>\n",
       "      <td>2008-01-01</td>\n",
       "      <td>095XX S CONSTANCE AVE</td>\n",
       "      <td>0840</td>\n",
       "      <td>THEFT</td>\n",
       "      <td>FINANCIAL ID THEFT: OVER $300</td>\n",
       "      <td>RESIDENCE</td>\n",
       "      <td>False</td>\n",
       "      <td>True</td>\n",
       "      <td>...</td>\n",
       "      <td>7.0</td>\n",
       "      <td>51.0</td>\n",
       "      <td>06</td>\n",
       "      <td>1190183.0</td>\n",
       "      <td>1842108.0</td>\n",
       "      <td>2008</td>\n",
       "      <td>2016-02-04 06:33:39</td>\n",
       "      <td>41.721774</td>\n",
       "      <td>-87.578985</td>\n",
       "      <td>(41.721773858, -87.578984755)</td>\n",
       "    </tr>\n",
       "    <tr>\n",
       "      <th>2</th>\n",
       "      <td>6062239</td>\n",
       "      <td>HP162669</td>\n",
       "      <td>2008-01-01</td>\n",
       "      <td>010XX N STATE ST</td>\n",
       "      <td>0890</td>\n",
       "      <td>THEFT</td>\n",
       "      <td>FROM BUILDING</td>\n",
       "      <td>BAR OR TAVERN</td>\n",
       "      <td>False</td>\n",
       "      <td>False</td>\n",
       "      <td>...</td>\n",
       "      <td>42.0</td>\n",
       "      <td>8.0</td>\n",
       "      <td>06</td>\n",
       "      <td>1176175.0</td>\n",
       "      <td>1907421.0</td>\n",
       "      <td>2008</td>\n",
       "      <td>2016-02-04 06:33:39</td>\n",
       "      <td>41.901324</td>\n",
       "      <td>-87.628331</td>\n",
       "      <td>(41.90132405, -87.628330712)</td>\n",
       "    </tr>\n",
       "    <tr>\n",
       "      <th>3</th>\n",
       "      <td>6211723</td>\n",
       "      <td>HP299683</td>\n",
       "      <td>2008-01-01</td>\n",
       "      <td>106XX S STATE LINE RD</td>\n",
       "      <td>0840</td>\n",
       "      <td>THEFT</td>\n",
       "      <td>FINANCIAL ID THEFT: OVER $300</td>\n",
       "      <td>RESIDENCE</td>\n",
       "      <td>False</td>\n",
       "      <td>False</td>\n",
       "      <td>...</td>\n",
       "      <td>10.0</td>\n",
       "      <td>52.0</td>\n",
       "      <td>06</td>\n",
       "      <td>1205116.0</td>\n",
       "      <td>1835043.0</td>\n",
       "      <td>2008</td>\n",
       "      <td>2016-02-04 06:33:39</td>\n",
       "      <td>41.702015</td>\n",
       "      <td>-87.524532</td>\n",
       "      <td>(41.7020149, -87.524532163)</td>\n",
       "    </tr>\n",
       "    <tr>\n",
       "      <th>4</th>\n",
       "      <td>6226997</td>\n",
       "      <td>HP313184</td>\n",
       "      <td>2008-01-01</td>\n",
       "      <td>081XX S DREXEL AVE</td>\n",
       "      <td>1750</td>\n",
       "      <td>OFFENSE INVOLVING CHILDREN</td>\n",
       "      <td>CHILD ABUSE</td>\n",
       "      <td>RESIDENCE</td>\n",
       "      <td>False</td>\n",
       "      <td>False</td>\n",
       "      <td>...</td>\n",
       "      <td>8.0</td>\n",
       "      <td>44.0</td>\n",
       "      <td>20</td>\n",
       "      <td>1183647.0</td>\n",
       "      <td>1851316.0</td>\n",
       "      <td>2008</td>\n",
       "      <td>2016-02-04 06:33:39</td>\n",
       "      <td>41.747196</td>\n",
       "      <td>-87.602638</td>\n",
       "      <td>(41.74719631, -87.602638387)</td>\n",
       "    </tr>\n",
       "  </tbody>\n",
       "</table>\n",
       "<p>5 rows × 22 columns</p>\n",
       "</div>"
      ],
      "text/plain": [
       "        ID Case_Number       Date                  Block  IUCR  \\\n",
       "0  6144015    HP235161 2008-01-01        006XX E 60TH ST  0890   \n",
       "1  6210660    HP298962 2008-01-01  095XX S CONSTANCE AVE  0840   \n",
       "2  6062239    HP162669 2008-01-01       010XX N STATE ST  0890   \n",
       "3  6211723    HP299683 2008-01-01  106XX S STATE LINE RD  0840   \n",
       "4  6226997    HP313184 2008-01-01     081XX S DREXEL AVE  1750   \n",
       "\n",
       "                 Primary_Type                    Description  \\\n",
       "0                       THEFT                  FROM BUILDING   \n",
       "1                       THEFT  FINANCIAL ID THEFT: OVER $300   \n",
       "2                       THEFT                  FROM BUILDING   \n",
       "3                       THEFT  FINANCIAL ID THEFT: OVER $300   \n",
       "4  OFFENSE INVOLVING CHILDREN                    CHILD ABUSE   \n",
       "\n",
       "  Location_Description  Arrest  Domestic              ...                Ward  \\\n",
       "0            APARTMENT   False     False              ...                20.0   \n",
       "1            RESIDENCE   False      True              ...                 7.0   \n",
       "2        BAR OR TAVERN   False     False              ...                42.0   \n",
       "3            RESIDENCE   False     False              ...                10.0   \n",
       "4            RESIDENCE   False     False              ...                 8.0   \n",
       "\n",
       "   Community_Area  FBI_Code  X_Coordinate Y_Coordinate  Year  \\\n",
       "0            42.0        06     1181409.0    1865364.0  2008   \n",
       "1            51.0        06     1190183.0    1842108.0  2008   \n",
       "2             8.0        06     1176175.0    1907421.0  2008   \n",
       "3            52.0        06     1205116.0    1835043.0  2008   \n",
       "4            44.0        20     1183647.0    1851316.0  2008   \n",
       "\n",
       "           Updated_On   Latitude  Longitude                       Location  \n",
       "0 2016-02-04 06:33:39  41.785797 -87.610406  (41.785797307, -87.610406313)  \n",
       "1 2016-02-04 06:33:39  41.721774 -87.578985  (41.721773858, -87.578984755)  \n",
       "2 2016-02-04 06:33:39  41.901324 -87.628331   (41.90132405, -87.628330712)  \n",
       "3 2016-02-04 06:33:39  41.702015 -87.524532    (41.7020149, -87.524532163)  \n",
       "4 2016-02-04 06:33:39  41.747196 -87.602638   (41.74719631, -87.602638387)  \n",
       "\n",
       "[5 rows x 22 columns]"
      ]
     },
     "execution_count": 42,
     "metadata": {},
     "output_type": "execute_result"
    }
   ],
   "source": [
    "Chicago_08_11 = Chicago_08_11.sort_values(by=['Date']).reset_index(drop=True)\n",
    "Chicago_08_11.head()"
   ]
  },
  {
   "cell_type": "markdown",
   "metadata": {},
   "source": [
    "<a id='2012-2016'></a>\n",
    "#### Crimini relativi agli anni 2012 - 2016"
   ]
  },
  {
   "cell_type": "markdown",
   "metadata": {},
   "source": [
    "Importo ora il secondo csv relativo ai dati dal 2012 al 2017"
   ]
  },
  {
   "cell_type": "code",
   "execution_count": 43,
   "metadata": {},
   "outputs": [
    {
     "data": {
      "text/html": [
       "<div>\n",
       "<style>\n",
       "    .dataframe thead tr:only-child th {\n",
       "        text-align: right;\n",
       "    }\n",
       "\n",
       "    .dataframe thead th {\n",
       "        text-align: left;\n",
       "    }\n",
       "\n",
       "    .dataframe tbody tr th {\n",
       "        vertical-align: top;\n",
       "    }\n",
       "</style>\n",
       "<table border=\"1\" class=\"dataframe\">\n",
       "  <thead>\n",
       "    <tr style=\"text-align: right;\">\n",
       "      <th></th>\n",
       "      <th>ID</th>\n",
       "      <th>Case Number</th>\n",
       "      <th>Date</th>\n",
       "      <th>Block</th>\n",
       "      <th>IUCR</th>\n",
       "      <th>Primary Type</th>\n",
       "      <th>Description</th>\n",
       "      <th>Location Description</th>\n",
       "      <th>Arrest</th>\n",
       "      <th>Domestic</th>\n",
       "      <th>...</th>\n",
       "      <th>Ward</th>\n",
       "      <th>Community Area</th>\n",
       "      <th>FBI Code</th>\n",
       "      <th>X Coordinate</th>\n",
       "      <th>Y Coordinate</th>\n",
       "      <th>Year</th>\n",
       "      <th>Updated On</th>\n",
       "      <th>Latitude</th>\n",
       "      <th>Longitude</th>\n",
       "      <th>Location</th>\n",
       "    </tr>\n",
       "  </thead>\n",
       "  <tbody>\n",
       "    <tr>\n",
       "      <th>0</th>\n",
       "      <td>10508693</td>\n",
       "      <td>HZ250496</td>\n",
       "      <td>05/03/2016 11:40:00 PM</td>\n",
       "      <td>013XX S SAWYER AVE</td>\n",
       "      <td>0486</td>\n",
       "      <td>BATTERY</td>\n",
       "      <td>DOMESTIC BATTERY SIMPLE</td>\n",
       "      <td>APARTMENT</td>\n",
       "      <td>True</td>\n",
       "      <td>True</td>\n",
       "      <td>...</td>\n",
       "      <td>24.0</td>\n",
       "      <td>29.0</td>\n",
       "      <td>08B</td>\n",
       "      <td>1154907.0</td>\n",
       "      <td>1893681.0</td>\n",
       "      <td>2016</td>\n",
       "      <td>05/10/2016 03:56:50 PM</td>\n",
       "      <td>41.864073</td>\n",
       "      <td>-87.706819</td>\n",
       "      <td>(41.864073157, -87.706818608)</td>\n",
       "    </tr>\n",
       "    <tr>\n",
       "      <th>1</th>\n",
       "      <td>10508695</td>\n",
       "      <td>HZ250409</td>\n",
       "      <td>05/03/2016 09:40:00 PM</td>\n",
       "      <td>061XX S DREXEL AVE</td>\n",
       "      <td>0486</td>\n",
       "      <td>BATTERY</td>\n",
       "      <td>DOMESTIC BATTERY SIMPLE</td>\n",
       "      <td>RESIDENCE</td>\n",
       "      <td>False</td>\n",
       "      <td>True</td>\n",
       "      <td>...</td>\n",
       "      <td>20.0</td>\n",
       "      <td>42.0</td>\n",
       "      <td>08B</td>\n",
       "      <td>1183066.0</td>\n",
       "      <td>1864330.0</td>\n",
       "      <td>2016</td>\n",
       "      <td>05/10/2016 03:56:50 PM</td>\n",
       "      <td>41.782922</td>\n",
       "      <td>-87.604363</td>\n",
       "      <td>(41.782921527, -87.60436317)</td>\n",
       "    </tr>\n",
       "    <tr>\n",
       "      <th>2</th>\n",
       "      <td>10508697</td>\n",
       "      <td>HZ250503</td>\n",
       "      <td>05/03/2016 11:31:00 PM</td>\n",
       "      <td>053XX W CHICAGO AVE</td>\n",
       "      <td>0470</td>\n",
       "      <td>PUBLIC PEACE VIOLATION</td>\n",
       "      <td>RECKLESS CONDUCT</td>\n",
       "      <td>STREET</td>\n",
       "      <td>False</td>\n",
       "      <td>False</td>\n",
       "      <td>...</td>\n",
       "      <td>37.0</td>\n",
       "      <td>25.0</td>\n",
       "      <td>24</td>\n",
       "      <td>1140789.0</td>\n",
       "      <td>1904819.0</td>\n",
       "      <td>2016</td>\n",
       "      <td>05/10/2016 03:56:50 PM</td>\n",
       "      <td>41.894908</td>\n",
       "      <td>-87.758372</td>\n",
       "      <td>(41.894908283, -87.758371958)</td>\n",
       "    </tr>\n",
       "    <tr>\n",
       "      <th>3</th>\n",
       "      <td>10508698</td>\n",
       "      <td>HZ250424</td>\n",
       "      <td>05/03/2016 10:10:00 PM</td>\n",
       "      <td>049XX W FULTON ST</td>\n",
       "      <td>0460</td>\n",
       "      <td>BATTERY</td>\n",
       "      <td>SIMPLE</td>\n",
       "      <td>SIDEWALK</td>\n",
       "      <td>False</td>\n",
       "      <td>False</td>\n",
       "      <td>...</td>\n",
       "      <td>28.0</td>\n",
       "      <td>25.0</td>\n",
       "      <td>08B</td>\n",
       "      <td>1143223.0</td>\n",
       "      <td>1901475.0</td>\n",
       "      <td>2016</td>\n",
       "      <td>05/10/2016 03:56:50 PM</td>\n",
       "      <td>41.885687</td>\n",
       "      <td>-87.749516</td>\n",
       "      <td>(41.885686845, -87.749515983)</td>\n",
       "    </tr>\n",
       "    <tr>\n",
       "      <th>4</th>\n",
       "      <td>10508699</td>\n",
       "      <td>HZ250455</td>\n",
       "      <td>05/03/2016 10:00:00 PM</td>\n",
       "      <td>003XX N LOTUS AVE</td>\n",
       "      <td>0820</td>\n",
       "      <td>THEFT</td>\n",
       "      <td>$500 AND UNDER</td>\n",
       "      <td>RESIDENCE</td>\n",
       "      <td>False</td>\n",
       "      <td>True</td>\n",
       "      <td>...</td>\n",
       "      <td>28.0</td>\n",
       "      <td>25.0</td>\n",
       "      <td>06</td>\n",
       "      <td>1139890.0</td>\n",
       "      <td>1901675.0</td>\n",
       "      <td>2016</td>\n",
       "      <td>05/10/2016 03:56:50 PM</td>\n",
       "      <td>41.886297</td>\n",
       "      <td>-87.761751</td>\n",
       "      <td>(41.886297242, -87.761750709)</td>\n",
       "    </tr>\n",
       "  </tbody>\n",
       "</table>\n",
       "<p>5 rows × 22 columns</p>\n",
       "</div>"
      ],
      "text/plain": [
       "         ID Case Number                    Date                Block  IUCR  \\\n",
       "0  10508693    HZ250496  05/03/2016 11:40:00 PM   013XX S SAWYER AVE  0486   \n",
       "1  10508695    HZ250409  05/03/2016 09:40:00 PM   061XX S DREXEL AVE  0486   \n",
       "2  10508697    HZ250503  05/03/2016 11:31:00 PM  053XX W CHICAGO AVE  0470   \n",
       "3  10508698    HZ250424  05/03/2016 10:10:00 PM    049XX W FULTON ST  0460   \n",
       "4  10508699    HZ250455  05/03/2016 10:00:00 PM    003XX N LOTUS AVE  0820   \n",
       "\n",
       "             Primary Type              Description Location Description  \\\n",
       "0                 BATTERY  DOMESTIC BATTERY SIMPLE            APARTMENT   \n",
       "1                 BATTERY  DOMESTIC BATTERY SIMPLE            RESIDENCE   \n",
       "2  PUBLIC PEACE VIOLATION         RECKLESS CONDUCT               STREET   \n",
       "3                 BATTERY                   SIMPLE             SIDEWALK   \n",
       "4                   THEFT           $500 AND UNDER            RESIDENCE   \n",
       "\n",
       "   Arrest  Domestic              ...                Ward  Community Area  \\\n",
       "0    True      True              ...                24.0            29.0   \n",
       "1   False      True              ...                20.0            42.0   \n",
       "2   False     False              ...                37.0            25.0   \n",
       "3   False     False              ...                28.0            25.0   \n",
       "4   False      True              ...                28.0            25.0   \n",
       "\n",
       "   FBI Code  X Coordinate Y Coordinate  Year              Updated On  \\\n",
       "0       08B     1154907.0    1893681.0  2016  05/10/2016 03:56:50 PM   \n",
       "1       08B     1183066.0    1864330.0  2016  05/10/2016 03:56:50 PM   \n",
       "2        24     1140789.0    1904819.0  2016  05/10/2016 03:56:50 PM   \n",
       "3       08B     1143223.0    1901475.0  2016  05/10/2016 03:56:50 PM   \n",
       "4        06     1139890.0    1901675.0  2016  05/10/2016 03:56:50 PM   \n",
       "\n",
       "    Latitude  Longitude                       Location  \n",
       "0  41.864073 -87.706819  (41.864073157, -87.706818608)  \n",
       "1  41.782922 -87.604363   (41.782921527, -87.60436317)  \n",
       "2  41.894908 -87.758372  (41.894908283, -87.758371958)  \n",
       "3  41.885687 -87.749516  (41.885686845, -87.749515983)  \n",
       "4  41.886297 -87.761751  (41.886297242, -87.761750709)  \n",
       "\n",
       "[5 rows x 22 columns]"
      ]
     },
     "execution_count": 43,
     "metadata": {},
     "output_type": "execute_result"
    }
   ],
   "source": [
    "#importo il csv sulle analisi dei crimini dal 2012 al 2017 \n",
    "Chicago_12_17 = pd.read_csv(PATH3, header=0)\n",
    "Chicago_12_17 = Chicago_12_17.iloc[:,1:]\n",
    "Chicago_12_17.head() "
   ]
  },
  {
   "cell_type": "code",
   "execution_count": 44,
   "metadata": {},
   "outputs": [
    {
     "name": "stdout",
     "output_type": "stream",
     "text": [
      "Il dataframe 'Chicago_12_17' contiene:\n",
      " 1,456,714 righe\n",
      " 22 colonne\n"
     ]
    }
   ],
   "source": [
    "print(\"Il dataframe 'Chicago_12_17' contiene:\\n\",format(Chicago_12_17.shape[0],',d'),\"righe\\n\",Chicago_12_17.shape[1],\"colonne\")"
   ]
  },
  {
   "cell_type": "code",
   "execution_count": 45,
   "metadata": {},
   "outputs": [
    {
     "data": {
      "text/plain": [
       "ID                        int64\n",
       "Case Number              object\n",
       "Date                     object\n",
       "Block                    object\n",
       "IUCR                     object\n",
       "Primary Type             object\n",
       "Description              object\n",
       "Location Description     object\n",
       "Arrest                     bool\n",
       "Domestic                   bool\n",
       "Beat                      int64\n",
       "District                float64\n",
       "Ward                    float64\n",
       "Community Area          float64\n",
       "FBI Code                 object\n",
       "X Coordinate            float64\n",
       "Y Coordinate            float64\n",
       "Year                      int64\n",
       "Updated On               object\n",
       "Latitude                float64\n",
       "Longitude               float64\n",
       "Location                 object\n",
       "dtype: object"
      ]
     },
     "execution_count": 45,
     "metadata": {},
     "output_type": "execute_result"
    }
   ],
   "source": [
    "#che tipo di dati ho? \n",
    "Chicago_12_17.dtypes"
   ]
  },
  {
   "cell_type": "code",
   "execution_count": 46,
   "metadata": {},
   "outputs": [
    {
     "data": {
      "text/plain": [
       "Index(['ID', 'Case_Number', 'Date', 'Block', 'IUCR', 'Primary_Type',\n",
       "       'Description', 'Location_Description', 'Arrest', 'Domestic', 'Beat',\n",
       "       'District', 'Ward', 'Community_Area', 'FBI_Code', 'X_Coordinate',\n",
       "       'Y_Coordinate', 'Year', 'Updated_On', 'Latitude', 'Longitude',\n",
       "       'Location'],\n",
       "      dtype='object')"
      ]
     },
     "execution_count": 46,
     "metadata": {},
     "output_type": "execute_result"
    }
   ],
   "source": [
    "#funzione replace\n",
    "Chicago_12_17.columns=[c.replace( ' ', '_') for c in Chicago_12_17.columns]\n",
    "Chicago_12_17.columns"
   ]
  },
  {
   "cell_type": "code",
   "execution_count": 47,
   "metadata": {},
   "outputs": [
    {
     "data": {
      "text/plain": [
       "ID                               int64\n",
       "Case_Number                     object\n",
       "Date                    datetime64[ns]\n",
       "Block                           object\n",
       "IUCR                            object\n",
       "Primary_Type                    object\n",
       "Description                     object\n",
       "Location_Description            object\n",
       "Arrest                            bool\n",
       "Domestic                          bool\n",
       "Beat                             int64\n",
       "District                       float64\n",
       "Ward                           float64\n",
       "Community_Area                 float64\n",
       "FBI_Code                        object\n",
       "X_Coordinate                   float64\n",
       "Y_Coordinate                   float64\n",
       "Year                             int64\n",
       "Updated_On              datetime64[ns]\n",
       "Latitude                       float64\n",
       "Longitude                      float64\n",
       "Location                        object\n",
       "dtype: object"
      ]
     },
     "execution_count": 47,
     "metadata": {},
     "output_type": "execute_result"
    }
   ],
   "source": [
    "#trasformo i campi 'Date' e 'Update_On' da object a datetime64\n",
    "Chicago_12_17.Date = pd.to_datetime(Chicago_12_17.Date, format='%m/%d/%Y %I:%M:%S %p')\n",
    "Chicago_12_17.Updated_On = pd.to_datetime(Chicago_12_17.Updated_On, format='%m/%d/%Y %I:%M:%S %p')\n",
    "Chicago_12_17.dtypes"
   ]
  },
  {
   "cell_type": "code",
   "execution_count": 48,
   "metadata": {},
   "outputs": [
    {
     "data": {
      "text/plain": [
       "2012    335670\n",
       "2013    306703\n",
       "2014    274527\n",
       "2016    265462\n",
       "2015    262995\n",
       "2017     11357\n",
       "Name: Year, dtype: int64"
      ]
     },
     "execution_count": 48,
     "metadata": {},
     "output_type": "execute_result"
    }
   ],
   "source": [
    "#siamo sicuri che il 2017 contenga tutti i dati dell'anno? Possiamo considerarlo come dataset completo? Verifichiamo.\n",
    "Chicago_12_17.Year.value_counts()"
   ]
  },
  {
   "cell_type": "code",
   "execution_count": 49,
   "metadata": {
    "collapsed": true
   },
   "outputs": [],
   "source": [
    "#Mi accorgo che il 2017 ha molti meno record.. come mai? Provo a verificare che mesi ci sono per il 2017"
   ]
  },
  {
   "cell_type": "code",
   "execution_count": 50,
   "metadata": {
    "collapsed": true
   },
   "outputs": [],
   "source": [
    "test = Chicago_12_17.loc[Chicago_12_17.Year == 2017].reset_index(drop=True)"
   ]
  },
  {
   "cell_type": "code",
   "execution_count": 51,
   "metadata": {
    "collapsed": true
   },
   "outputs": [],
   "source": [
    "test['Mese']=test.Date.dt.strftime('%m')"
   ]
  },
  {
   "cell_type": "code",
   "execution_count": 52,
   "metadata": {},
   "outputs": [
    {
     "data": {
      "text/plain": [
       "array(['01'], dtype=object)"
      ]
     },
     "execution_count": 52,
     "metadata": {},
     "output_type": "execute_result"
    }
   ],
   "source": [
    "test.Mese.unique()"
   ]
  },
  {
   "cell_type": "code",
   "execution_count": 53,
   "metadata": {
    "collapsed": true
   },
   "outputs": [],
   "source": [
    "#Ho quindi verificato che per il 2017 sono presenti solamente dati relativi al mese di gennaio. Decido quindi di cambiare orizzonte temporale\n",
    "#prendo infatti i dati dal 2006 al 2016"
   ]
  },
  {
   "cell_type": "code",
   "execution_count": 54,
   "metadata": {
    "collapsed": true
   },
   "outputs": [],
   "source": [
    "Chicago_12_17 = Chicago_12_17.loc[Chicago_12_17.Year < 2017].reset_index(drop=True)"
   ]
  },
  {
   "cell_type": "code",
   "execution_count": 55,
   "metadata": {},
   "outputs": [
    {
     "data": {
      "text/plain": [
       "2012    335670\n",
       "2013    306703\n",
       "2014    274527\n",
       "2016    265462\n",
       "2015    262995\n",
       "Name: Year, dtype: int64"
      ]
     },
     "execution_count": 55,
     "metadata": {},
     "output_type": "execute_result"
    }
   ],
   "source": [
    "Chicago_12_17.Year.value_counts()"
   ]
  },
  {
   "cell_type": "code",
   "execution_count": 56,
   "metadata": {
    "collapsed": true
   },
   "outputs": [],
   "source": [
    "#ora che ho eliminato il 2016 vado avanti con le mie analisi "
   ]
  },
  {
   "cell_type": "markdown",
   "metadata": {},
   "source": [
    "##### Trattamento valori duplicati"
   ]
  },
  {
   "cell_type": "markdown",
   "metadata": {},
   "source": [
    "Controllo che il dataframe non contenga righe duplicate e procedo all'analisi dei valori NaN."
   ]
  },
  {
   "cell_type": "code",
   "execution_count": 57,
   "metadata": {},
   "outputs": [
    {
     "data": {
      "text/plain": [
       "0"
      ]
     },
     "execution_count": 57,
     "metadata": {},
     "output_type": "execute_result"
    }
   ],
   "source": [
    "#controllo se ci sono valori duplicati\n",
    "Chicago_12_17.duplicated().sum()"
   ]
  },
  {
   "cell_type": "code",
   "execution_count": 58,
   "metadata": {},
   "outputs": [
    {
     "name": "stdout",
     "output_type": "stream",
     "text": [
      "Non ci sono valori duplicati.\n"
     ]
    }
   ],
   "source": [
    "print(\"Non ci sono valori duplicati.\")"
   ]
  },
  {
   "cell_type": "markdown",
   "metadata": {},
   "source": [
    "##### Trattamento valori nulli "
   ]
  },
  {
   "cell_type": "code",
   "execution_count": 59,
   "metadata": {},
   "outputs": [
    {
     "data": {
      "text/plain": [
       "ID                          0\n",
       "Case_Number                 1\n",
       "Date                        0\n",
       "Block                       0\n",
       "IUCR                        0\n",
       "Primary_Type                0\n",
       "Description                 0\n",
       "Location_Description     1630\n",
       "Arrest                      0\n",
       "Domestic                    0\n",
       "Beat                        0\n",
       "District                    1\n",
       "Ward                       14\n",
       "Community_Area             40\n",
       "FBI_Code                    0\n",
       "X_Coordinate            25756\n",
       "Y_Coordinate            25756\n",
       "Year                        0\n",
       "Updated_On                  0\n",
       "Latitude                25756\n",
       "Longitude               25756\n",
       "Location                25756\n",
       "dtype: int64"
      ]
     },
     "execution_count": 59,
     "metadata": {},
     "output_type": "execute_result"
    }
   ],
   "source": [
    "#controllo numero dei valori null\n",
    "Chicago_12_17.isnull().sum()"
   ]
  },
  {
   "cell_type": "code",
   "execution_count": 60,
   "metadata": {},
   "outputs": [
    {
     "name": "stdout",
     "output_type": "stream",
     "text": [
      "Lo 0.0001 % dei record del campo 'Case_Number' contiene valori nulli.\n",
      "Lo 0.1128 % dei record del campo 'Location_Description' contiene valori nulli.\n",
      "Lo 0.0001 % dei record del campo 'District' contiene valori nulli.\n",
      "Lo 0.001 % dei record del campo 'Ward' contiene valori nulli.\n",
      "Lo 0.0 % dei record del campo 'Community_Area' contiene valori nulli.\n",
      "Lo 1.78 % dei record del campo 'X_Coordinate' contiene valori nulli.\n",
      "Lo 1.78 % dei record del campo 'Y_Coordinate' contiene valori nulli.\n",
      "Lo 1.78 % dei record del campo 'Latitude' contiene valori nulli.\n",
      "Lo 1.78 % dei record del campo 'Longitude' contiene valori nulli.\n",
      "Lo 1.78 % dei record del campo 'Location' contiene valori nulli.\n"
     ]
    }
   ],
   "source": [
    "#print la percentuale di record con valori nan rispetto al totale\n",
    "print(\"Lo\", round(Chicago_12_17.Case_Number.isnull().sum()/Chicago_12_17.shape[0]*100,4),\"% dei record del campo 'Case_Number' contiene valori nulli.\")\n",
    "print(\"Lo\", round(Chicago_12_17.Location_Description.isnull().sum()/Chicago_12_17.shape[0]*100,4),\"% dei record del campo 'Location_Description' contiene valori nulli.\")\n",
    "print(\"Lo\", round(Chicago_12_17.District.isnull().sum()/Chicago_12_17.shape[0]*100,4),\"% dei record del campo 'District' contiene valori nulli.\")\n",
    "print(\"Lo\", round(Chicago_12_17.Ward.isnull().sum()/Chicago_12_17.shape[0]*100,4),\"% dei record del campo 'Ward' contiene valori nulli.\")\n",
    "print(\"Lo\", round(Chicago_12_17.Community_Area.isnull().sum()/Chicago_12_17.shape[0]*100,2),\"% dei record del campo 'Community_Area' contiene valori nulli.\")\n",
    "print(\"Lo\", round(Chicago_12_17.X_Coordinate.isnull().sum()/Chicago_12_17.shape[0]*100,2),\"% dei record del campo 'X_Coordinate' contiene valori nulli.\")\n",
    "print(\"Lo\", round(Chicago_12_17.Y_Coordinate.isnull().sum()/Chicago_12_17.shape[0]*100,2),\"% dei record del campo 'Y_Coordinate' contiene valori nulli.\")\n",
    "print(\"Lo\", round(Chicago_12_17.Latitude.isnull().sum()/Chicago_12_17.shape[0]*100,2),\"% dei record del campo 'Latitude' contiene valori nulli.\")\n",
    "print(\"Lo\", round(Chicago_12_17.Longitude.isnull().sum()/Chicago_12_17.shape[0]*100,2),\"% dei record del campo 'Longitude' contiene valori nulli.\")\n",
    "print(\"Lo\", round(Chicago_12_17.Location.isnull().sum()/Chicago_12_17.shape[0]*100,2),\"% dei record del campo 'Location' contiene valori nulli.\")"
   ]
  },
  {
   "cell_type": "code",
   "execution_count": 61,
   "metadata": {},
   "outputs": [
    {
     "name": "stdout",
     "output_type": "stream",
     "text": [
      "Il dataframe 'Chicago_12_17' ora contiene:\n",
      " 1,418,335 righe\n",
      " 22 colonne.\n"
     ]
    }
   ],
   "source": [
    "#elimino i valori NaN\n",
    "Chicago_12_17= Chicago_12_17.dropna()\n",
    "print(\"Il dataframe 'Chicago_12_17' ora contiene:\\n\",format(Chicago_12_17.shape[0],',d'),\"righe\\n\",Chicago_12_17.shape[1],\"colonne.\")"
   ]
  },
  {
   "cell_type": "code",
   "execution_count": 62,
   "metadata": {},
   "outputs": [
    {
     "data": {
      "text/html": [
       "<div>\n",
       "<style>\n",
       "    .dataframe thead tr:only-child th {\n",
       "        text-align: right;\n",
       "    }\n",
       "\n",
       "    .dataframe thead th {\n",
       "        text-align: left;\n",
       "    }\n",
       "\n",
       "    .dataframe tbody tr th {\n",
       "        vertical-align: top;\n",
       "    }\n",
       "</style>\n",
       "<table border=\"1\" class=\"dataframe\">\n",
       "  <thead>\n",
       "    <tr style=\"text-align: right;\">\n",
       "      <th></th>\n",
       "      <th>ID</th>\n",
       "      <th>Case_Number</th>\n",
       "      <th>Date</th>\n",
       "      <th>Block</th>\n",
       "      <th>IUCR</th>\n",
       "      <th>Primary_Type</th>\n",
       "      <th>Description</th>\n",
       "      <th>Location_Description</th>\n",
       "      <th>Arrest</th>\n",
       "      <th>Domestic</th>\n",
       "      <th>...</th>\n",
       "      <th>Ward</th>\n",
       "      <th>Community_Area</th>\n",
       "      <th>FBI_Code</th>\n",
       "      <th>X_Coordinate</th>\n",
       "      <th>Y_Coordinate</th>\n",
       "      <th>Year</th>\n",
       "      <th>Updated_On</th>\n",
       "      <th>Latitude</th>\n",
       "      <th>Longitude</th>\n",
       "      <th>Location</th>\n",
       "    </tr>\n",
       "  </thead>\n",
       "  <tbody>\n",
       "    <tr>\n",
       "      <th>0</th>\n",
       "      <td>9060899</td>\n",
       "      <td>HW205992</td>\n",
       "      <td>2012-01-01</td>\n",
       "      <td>091XX S RACINE AVE</td>\n",
       "      <td>0840</td>\n",
       "      <td>THEFT</td>\n",
       "      <td>FINANCIAL ID THEFT: OVER $300</td>\n",
       "      <td>RESIDENCE</td>\n",
       "      <td>False</td>\n",
       "      <td>False</td>\n",
       "      <td>...</td>\n",
       "      <td>21.0</td>\n",
       "      <td>73.0</td>\n",
       "      <td>06</td>\n",
       "      <td>1169930.0</td>\n",
       "      <td>1844174.0</td>\n",
       "      <td>2012</td>\n",
       "      <td>2016-02-04 06:33:39</td>\n",
       "      <td>41.727906</td>\n",
       "      <td>-87.653108</td>\n",
       "      <td>(41.727906315, -87.65310796)</td>\n",
       "    </tr>\n",
       "    <tr>\n",
       "      <th>1</th>\n",
       "      <td>8527846</td>\n",
       "      <td>HV205281</td>\n",
       "      <td>2012-01-01</td>\n",
       "      <td>027XX W WELLINGTON AVE</td>\n",
       "      <td>0840</td>\n",
       "      <td>THEFT</td>\n",
       "      <td>FINANCIAL ID THEFT: OVER $300</td>\n",
       "      <td>OTHER</td>\n",
       "      <td>False</td>\n",
       "      <td>False</td>\n",
       "      <td>...</td>\n",
       "      <td>1.0</td>\n",
       "      <td>21.0</td>\n",
       "      <td>06</td>\n",
       "      <td>1157677.0</td>\n",
       "      <td>1919824.0</td>\n",
       "      <td>2012</td>\n",
       "      <td>2016-02-04 06:33:39</td>\n",
       "      <td>41.935756</td>\n",
       "      <td>-87.695937</td>\n",
       "      <td>(41.935755885, -87.695936975)</td>\n",
       "    </tr>\n",
       "    <tr>\n",
       "      <th>2</th>\n",
       "      <td>9053792</td>\n",
       "      <td>HW199033</td>\n",
       "      <td>2012-01-01</td>\n",
       "      <td>072XX S CARPENTER ST</td>\n",
       "      <td>0840</td>\n",
       "      <td>THEFT</td>\n",
       "      <td>FINANCIAL ID THEFT: OVER $300</td>\n",
       "      <td>RESIDENCE</td>\n",
       "      <td>False</td>\n",
       "      <td>False</td>\n",
       "      <td>...</td>\n",
       "      <td>17.0</td>\n",
       "      <td>68.0</td>\n",
       "      <td>06</td>\n",
       "      <td>1170565.0</td>\n",
       "      <td>1856840.0</td>\n",
       "      <td>2012</td>\n",
       "      <td>2016-02-04 06:33:39</td>\n",
       "      <td>41.762650</td>\n",
       "      <td>-87.650414</td>\n",
       "      <td>(41.762649738, -87.650413609)</td>\n",
       "    </tr>\n",
       "    <tr>\n",
       "      <th>3</th>\n",
       "      <td>9055356</td>\n",
       "      <td>HW199594</td>\n",
       "      <td>2012-01-01</td>\n",
       "      <td>057XX N WEST CIRCLE AVE</td>\n",
       "      <td>0840</td>\n",
       "      <td>THEFT</td>\n",
       "      <td>FINANCIAL ID THEFT: OVER $300</td>\n",
       "      <td>STREET</td>\n",
       "      <td>False</td>\n",
       "      <td>False</td>\n",
       "      <td>...</td>\n",
       "      <td>41.0</td>\n",
       "      <td>10.0</td>\n",
       "      <td>06</td>\n",
       "      <td>1127968.0</td>\n",
       "      <td>1937874.0</td>\n",
       "      <td>2012</td>\n",
       "      <td>2016-02-04 06:33:39</td>\n",
       "      <td>41.985841</td>\n",
       "      <td>-87.804712</td>\n",
       "      <td>(41.985841282, -87.8047123)</td>\n",
       "    </tr>\n",
       "    <tr>\n",
       "      <th>4</th>\n",
       "      <td>8767215</td>\n",
       "      <td>HV441709</td>\n",
       "      <td>2012-01-01</td>\n",
       "      <td>015XX N LECLAIRE AVE</td>\n",
       "      <td>1751</td>\n",
       "      <td>OFFENSE INVOLVING CHILDREN</td>\n",
       "      <td>CRIM SEX ABUSE BY FAM MEMBER</td>\n",
       "      <td>RESIDENCE</td>\n",
       "      <td>False</td>\n",
       "      <td>False</td>\n",
       "      <td>...</td>\n",
       "      <td>37.0</td>\n",
       "      <td>25.0</td>\n",
       "      <td>20</td>\n",
       "      <td>1142093.0</td>\n",
       "      <td>1909721.0</td>\n",
       "      <td>2012</td>\n",
       "      <td>2016-02-04 06:33:39</td>\n",
       "      <td>41.908336</td>\n",
       "      <td>-87.753461</td>\n",
       "      <td>(41.908335854, -87.753460959)</td>\n",
       "    </tr>\n",
       "  </tbody>\n",
       "</table>\n",
       "<p>5 rows × 22 columns</p>\n",
       "</div>"
      ],
      "text/plain": [
       "        ID Case_Number       Date                    Block  IUCR  \\\n",
       "0  9060899    HW205992 2012-01-01       091XX S RACINE AVE  0840   \n",
       "1  8527846    HV205281 2012-01-01   027XX W WELLINGTON AVE  0840   \n",
       "2  9053792    HW199033 2012-01-01     072XX S CARPENTER ST  0840   \n",
       "3  9055356    HW199594 2012-01-01  057XX N WEST CIRCLE AVE  0840   \n",
       "4  8767215    HV441709 2012-01-01     015XX N LECLAIRE AVE  1751   \n",
       "\n",
       "                 Primary_Type                    Description  \\\n",
       "0                       THEFT  FINANCIAL ID THEFT: OVER $300   \n",
       "1                       THEFT  FINANCIAL ID THEFT: OVER $300   \n",
       "2                       THEFT  FINANCIAL ID THEFT: OVER $300   \n",
       "3                       THEFT  FINANCIAL ID THEFT: OVER $300   \n",
       "4  OFFENSE INVOLVING CHILDREN   CRIM SEX ABUSE BY FAM MEMBER   \n",
       "\n",
       "  Location_Description  Arrest  Domestic              ...                Ward  \\\n",
       "0            RESIDENCE   False     False              ...                21.0   \n",
       "1                OTHER   False     False              ...                 1.0   \n",
       "2            RESIDENCE   False     False              ...                17.0   \n",
       "3               STREET   False     False              ...                41.0   \n",
       "4            RESIDENCE   False     False              ...                37.0   \n",
       "\n",
       "   Community_Area  FBI_Code  X_Coordinate Y_Coordinate  Year  \\\n",
       "0            73.0        06     1169930.0    1844174.0  2012   \n",
       "1            21.0        06     1157677.0    1919824.0  2012   \n",
       "2            68.0        06     1170565.0    1856840.0  2012   \n",
       "3            10.0        06     1127968.0    1937874.0  2012   \n",
       "4            25.0        20     1142093.0    1909721.0  2012   \n",
       "\n",
       "           Updated_On   Latitude  Longitude                       Location  \n",
       "0 2016-02-04 06:33:39  41.727906 -87.653108   (41.727906315, -87.65310796)  \n",
       "1 2016-02-04 06:33:39  41.935756 -87.695937  (41.935755885, -87.695936975)  \n",
       "2 2016-02-04 06:33:39  41.762650 -87.650414  (41.762649738, -87.650413609)  \n",
       "3 2016-02-04 06:33:39  41.985841 -87.804712    (41.985841282, -87.8047123)  \n",
       "4 2016-02-04 06:33:39  41.908336 -87.753461  (41.908335854, -87.753460959)  \n",
       "\n",
       "[5 rows x 22 columns]"
      ]
     },
     "execution_count": 62,
     "metadata": {},
     "output_type": "execute_result"
    }
   ],
   "source": [
    "Chicago_12_17 = Chicago_12_17.sort_values(by=['Date']).reset_index(drop=True)\n",
    "Chicago_12_17.head()"
   ]
  },
  {
   "cell_type": "markdown",
   "metadata": {},
   "source": [
    "Merge dei csv, in modo tale da avere un unico dataframe contenente i dati dal 2007 al 2017 "
   ]
  },
  {
   "cell_type": "code",
   "execution_count": 63,
   "metadata": {},
   "outputs": [
    {
     "name": "stdout",
     "output_type": "stream",
     "text": [
      "Il dataframe 'Chicago_06_16' ora contiene:\n",
      " 4,355,096 righe\n",
      " 22 colonne.\n"
     ]
    }
   ],
   "source": [
    "Chicago_06_16 = pd.concat([Chicago_05_07,Chicago_08_11 , Chicago_12_17], ignore_index=False, axis=0)\n",
    "Chicago_06_16.head()\n",
    "print(\"Il dataframe 'Chicago_06_16' ora contiene:\\n\",format(Chicago_06_16.shape[0],',d'),\"righe\\n\",Chicago_06_16.shape[1],\"colonne.\")"
   ]
  },
  {
   "cell_type": "markdown",
   "metadata": {},
   "source": [
    "<a id='explore'></a>\n",
    "### Analisi Esplorative"
   ]
  },
  {
   "cell_type": "markdown",
   "metadata": {},
   "source": [
    "Crimini e anni <br> Crimini e Arresti <br> Tipologie di crimini <br> Crimini e luogo"
   ]
  },
  {
   "cell_type": "markdown",
   "metadata": {},
   "source": [
    "Conto il numero dei crimini per ogni anno "
   ]
  },
  {
   "cell_type": "code",
   "execution_count": 64,
   "metadata": {},
   "outputs": [
    {
     "data": {
      "text/plain": [
       "2006    791958\n",
       "2007    620304\n",
       "2008    419787\n",
       "2009    385830\n",
       "2010    368410\n",
       "2011    350472\n",
       "2012    334397\n",
       "2013    304267\n",
       "2014    269329\n",
       "2015    259610\n",
       "2016    250732\n",
       "Name: Count, dtype: int64"
      ]
     },
     "execution_count": 64,
     "metadata": {},
     "output_type": "execute_result"
    }
   ],
   "source": [
    "CrimesXyear = Chicago_06_16.Year.value_counts().rename('Count')\n",
    "CrimesXyear"
   ]
  },
  {
   "cell_type": "code",
   "execution_count": 65,
   "metadata": {},
   "outputs": [
    {
     "name": "stdout",
     "output_type": "stream",
     "text": [
      "Il numero medo di crimini commesso all'anno è: 395917.82\n"
     ]
    }
   ],
   "source": [
    "#media dei crimini per anno \n",
    "print(\"Il numero medo di crimini commesso all'anno è:\",round(CrimesXyear.mean(),2))"
   ]
  },
  {
   "cell_type": "code",
   "execution_count": 66,
   "metadata": {},
   "outputs": [
    {
     "data": {
      "image/png": "[encoded data removed]",
      "text/plain": [
       "<matplotlib.figure.Figure at 0x1edd8034400>"
      ]
     },
     "metadata": {},
     "output_type": "display_data"
    }
   ],
   "source": [
    "#andamento dei crimini per anno \n",
    "plt.figure(figsize=(8,8))\n",
    "plt.title(\"N°Crimes X Year\")\n",
    "ax = sns.countplot(Chicago_06_16[\"Year\"], palette=\"Blues_d\" ) "
   ]
  },
  {
   "cell_type": "code",
   "execution_count": 67,
   "metadata": {},
   "outputs": [
    {
     "data": {
      "image/png": "[encoded data removed]",
      "text/plain": [
       "<matplotlib.figure.Figure at 0x1edd871aba8>"
      ]
     },
     "metadata": {},
     "output_type": "display_data"
    }
   ],
   "source": [
    "#rispetto al totale dei crimini per anno, in quanti casi c'è stato un arresto?\n",
    "plt.figure(figsize=(8,8))\n",
    "plt.title(\"Crimes & Arrest\")\n",
    "\n",
    "ax = sns.countplot(Chicago_06_16['Year'],hue=Chicago_06_16['Arrest'], palette='coolwarm')\n"
   ]
  },
  {
   "cell_type": "markdown",
   "metadata": {},
   "source": [
    "Rispetto al numero di crimini commessi all'anno, la percentuale di arresti è diminuita o aumentata? "
   ]
  },
  {
   "cell_type": "code",
   "execution_count": 68,
   "metadata": {},
   "outputs": [
    {
     "data": {
      "text/html": [
       "<div>\n",
       "<style>\n",
       "    .dataframe thead tr:only-child th {\n",
       "        text-align: right;\n",
       "    }\n",
       "\n",
       "    .dataframe thead th {\n",
       "        text-align: left;\n",
       "    }\n",
       "\n",
       "    .dataframe tbody tr th {\n",
       "        vertical-align: top;\n",
       "    }\n",
       "</style>\n",
       "<table border=\"1\" class=\"dataframe\">\n",
       "  <thead>\n",
       "    <tr style=\"text-align: right;\">\n",
       "      <th></th>\n",
       "      <th>N° di arresti</th>\n",
       "      <th>N°Crimini Totali</th>\n",
       "      <th>% di Arresti</th>\n",
       "    </tr>\n",
       "    <tr>\n",
       "      <th>Year</th>\n",
       "      <th></th>\n",
       "      <th></th>\n",
       "      <th></th>\n",
       "    </tr>\n",
       "  </thead>\n",
       "  <tbody>\n",
       "    <tr>\n",
       "      <th>2006</th>\n",
       "      <td>242970</td>\n",
       "      <td>791958</td>\n",
       "      <td>30.68</td>\n",
       "    </tr>\n",
       "    <tr>\n",
       "      <th>2007</th>\n",
       "      <td>189932</td>\n",
       "      <td>620304</td>\n",
       "      <td>30.62</td>\n",
       "    </tr>\n",
       "    <tr>\n",
       "      <th>2008</th>\n",
       "      <td>108085</td>\n",
       "      <td>419787</td>\n",
       "      <td>25.75</td>\n",
       "    </tr>\n",
       "    <tr>\n",
       "      <th>2009</th>\n",
       "      <td>108764</td>\n",
       "      <td>385830</td>\n",
       "      <td>28.19</td>\n",
       "    </tr>\n",
       "    <tr>\n",
       "      <th>2010</th>\n",
       "      <td>100080</td>\n",
       "      <td>368410</td>\n",
       "      <td>27.17</td>\n",
       "    </tr>\n",
       "    <tr>\n",
       "      <th>2011</th>\n",
       "      <td>96058</td>\n",
       "      <td>350472</td>\n",
       "      <td>27.41</td>\n",
       "    </tr>\n",
       "    <tr>\n",
       "      <th>2012</th>\n",
       "      <td>90440</td>\n",
       "      <td>334397</td>\n",
       "      <td>27.05</td>\n",
       "    </tr>\n",
       "    <tr>\n",
       "      <th>2013</th>\n",
       "      <td>86042</td>\n",
       "      <td>304267</td>\n",
       "      <td>28.28</td>\n",
       "    </tr>\n",
       "    <tr>\n",
       "      <th>2014</th>\n",
       "      <td>78038</td>\n",
       "      <td>269329</td>\n",
       "      <td>28.97</td>\n",
       "    </tr>\n",
       "    <tr>\n",
       "      <th>2015</th>\n",
       "      <td>68316</td>\n",
       "      <td>259610</td>\n",
       "      <td>26.31</td>\n",
       "    </tr>\n",
       "    <tr>\n",
       "      <th>2016</th>\n",
       "      <td>48221</td>\n",
       "      <td>250732</td>\n",
       "      <td>19.23</td>\n",
       "    </tr>\n",
       "  </tbody>\n",
       "</table>\n",
       "</div>"
      ],
      "text/plain": [
       "      N° di arresti  N°Crimini Totali  % di Arresti\n",
       "Year                                               \n",
       "2006         242970            791958         30.68\n",
       "2007         189932            620304         30.62\n",
       "2008         108085            419787         25.75\n",
       "2009         108764            385830         28.19\n",
       "2010         100080            368410         27.17\n",
       "2011          96058            350472         27.41\n",
       "2012          90440            334397         27.05\n",
       "2013          86042            304267         28.28\n",
       "2014          78038            269329         28.97\n",
       "2015          68316            259610         26.31\n",
       "2016          48221            250732         19.23"
      ]
     },
     "execution_count": 68,
     "metadata": {},
     "output_type": "execute_result"
    }
   ],
   "source": [
    "Arresti = pd.DataFrame(Chicago_06_16.loc[Chicago_06_16.Arrest == True].groupby('Year').Arrest.count().rename('N° di arresti'))\n",
    "Arresti['N°Crimini Totali'] =Chicago_06_16.groupby('Year').Year.count()\n",
    "Arresti['% di Arresti']=round(Arresti['N° di arresti']/Arresti['N°Crimini Totali']*100,2)\n",
    "Arresti"
   ]
  },
  {
   "cell_type": "code",
   "execution_count": 69,
   "metadata": {},
   "outputs": [
    {
     "data": {
      "image/png": "[encoded data removed]",
      "text/plain": [
       "<matplotlib.figure.Figure at 0x1ee57f82048>"
      ]
     },
     "metadata": {},
     "output_type": "display_data"
    }
   ],
   "source": [
    "Arresti.plot(y='% di Arresti',figsize=(8,8) )\n",
    "plt.title(\"% di Arresti per anno\")\n",
    "plt.show()"
   ]
  },
  {
   "cell_type": "markdown",
   "metadata": {},
   "source": [
    "Si riscontra una diminuzione del numero di arresti rispetto al numero di crimini commessi, particolarmente significativa nel 2016."
   ]
  },
  {
   "cell_type": "markdown",
   "metadata": {
    "collapsed": true
   },
   "source": [
    "Ma che tipologia di crimine viene commessa maggiormente? Analizziamo il Primary Type "
   ]
  },
  {
   "cell_type": "code",
   "execution_count": 70,
   "metadata": {},
   "outputs": [
    {
     "data": {
      "text/plain": [
       "array(['THEFT', 'OTHER OFFENSE', 'ROBBERY', 'OFFENSE INVOLVING CHILDREN',\n",
       "       'BATTERY', 'CRIM SEXUAL ASSAULT', 'WEAPONS VIOLATION',\n",
       "       'CRIMINAL DAMAGE', 'MOTOR VEHICLE THEFT', 'DECEPTIVE PRACTICE',\n",
       "       'SEX OFFENSE', 'PROSTITUTION', 'ASSAULT', 'CRIMINAL TRESPASS',\n",
       "       'BURGLARY', 'KIDNAPPING', 'NARCOTICS', 'PUBLIC PEACE VIOLATION',\n",
       "       'LIQUOR LAW VIOLATION', 'INTERFERENCE WITH PUBLIC OFFICER',\n",
       "       'OBSCENITY', 'HOMICIDE', 'GAMBLING', 'INTIMIDATION', 'ARSON',\n",
       "       'STALKING', 'OTHER NARCOTIC VIOLATION', 'PUBLIC INDECENCY',\n",
       "       'RITUALISM', 'NON-CRIMINAL', 'NON-CRIMINAL (SUBJECT SPECIFIED)',\n",
       "       'NON - CRIMINAL', 'CONCEALED CARRY LICENSE VIOLATION',\n",
       "       'HUMAN TRAFFICKING'], dtype=object)"
      ]
     },
     "execution_count": 70,
     "metadata": {},
     "output_type": "execute_result"
    }
   ],
   "source": [
    "Chicago_06_16.Primary_Type.unique()"
   ]
  },
  {
   "cell_type": "markdown",
   "metadata": {},
   "source": [
    "Mi accorgo che 'NON - CRIMINAL' e 'NON-CRIMINAL' sono la stessa identica cosa. Utilizzo la funzione replace per pulire il dato e verifico se la modifica è andata a buon fine."
   ]
  },
  {
   "cell_type": "code",
   "execution_count": 71,
   "metadata": {},
   "outputs": [
    {
     "data": {
      "text/plain": [
       "array(['THEFT', 'OTHER OFFENSE', 'ROBBERY', 'OFFENSE INVOLVING CHILDREN',\n",
       "       'BATTERY', 'CRIM SEXUAL ASSAULT', 'WEAPONS VIOLATION',\n",
       "       'CRIMINAL DAMAGE', 'MOTOR VEHICLE THEFT', 'DECEPTIVE PRACTICE',\n",
       "       'SEX OFFENSE', 'PROSTITUTION', 'ASSAULT', 'CRIMINAL TRESPASS',\n",
       "       'BURGLARY', 'KIDNAPPING', 'NARCOTICS', 'PUBLIC PEACE VIOLATION',\n",
       "       'LIQUOR LAW VIOLATION', 'INTERFERENCE WITH PUBLIC OFFICER',\n",
       "       'OBSCENITY', 'HOMICIDE', 'GAMBLING', 'INTIMIDATION', 'ARSON',\n",
       "       'STALKING', 'OTHER NARCOTIC VIOLATION', 'PUBLIC INDECENCY',\n",
       "       'RITUALISM', 'NON-CRIMINAL', 'NON-CRIMINAL (SUBJECT SPECIFIED)',\n",
       "       'CONCEALED CARRY LICENSE VIOLATION', 'HUMAN TRAFFICKING'], dtype=object)"
      ]
     },
     "execution_count": 71,
     "metadata": {},
     "output_type": "execute_result"
    }
   ],
   "source": [
    "#inserire funzione replace per i non- criminal che mi elimina lo spazio \n",
    "Chicago_06_16.Primary_Type=[c.replace( 'NON - CRIMINAL', 'NON-CRIMINAL') for c in Chicago_06_16.Primary_Type]\n",
    "Chicago_06_16.Primary_Type.unique()"
   ]
  },
  {
   "cell_type": "code",
   "execution_count": 72,
   "metadata": {},
   "outputs": [
    {
     "data": {
      "text/html": [
       "<div>\n",
       "<style>\n",
       "    .dataframe thead tr:only-child th {\n",
       "        text-align: right;\n",
       "    }\n",
       "\n",
       "    .dataframe thead th {\n",
       "        text-align: left;\n",
       "    }\n",
       "\n",
       "    .dataframe tbody tr th {\n",
       "        vertical-align: top;\n",
       "    }\n",
       "</style>\n",
       "<table border=\"1\" class=\"dataframe\">\n",
       "  <thead>\n",
       "    <tr style=\"text-align: right;\">\n",
       "      <th></th>\n",
       "      <th>Primary_Type</th>\n",
       "      <th>Count</th>\n",
       "    </tr>\n",
       "  </thead>\n",
       "  <tbody>\n",
       "    <tr>\n",
       "      <th>0</th>\n",
       "      <td>THEFT</td>\n",
       "      <td>908294</td>\n",
       "    </tr>\n",
       "    <tr>\n",
       "      <th>1</th>\n",
       "      <td>BATTERY</td>\n",
       "      <td>784795</td>\n",
       "    </tr>\n",
       "    <tr>\n",
       "      <th>2</th>\n",
       "      <td>CRIMINAL DAMAGE</td>\n",
       "      <td>506455</td>\n",
       "    </tr>\n",
       "    <tr>\n",
       "      <th>3</th>\n",
       "      <td>NARCOTICS</td>\n",
       "      <td>481778</td>\n",
       "    </tr>\n",
       "    <tr>\n",
       "      <th>4</th>\n",
       "      <td>BURGLARY</td>\n",
       "      <td>264877</td>\n",
       "    </tr>\n",
       "    <tr>\n",
       "      <th>5</th>\n",
       "      <td>OTHER OFFENSE</td>\n",
       "      <td>264835</td>\n",
       "    </tr>\n",
       "    <tr>\n",
       "      <th>6</th>\n",
       "      <td>ASSAULT</td>\n",
       "      <td>262739</td>\n",
       "    </tr>\n",
       "    <tr>\n",
       "      <th>7</th>\n",
       "      <td>MOTOR VEHICLE THEFT</td>\n",
       "      <td>196484</td>\n",
       "    </tr>\n",
       "    <tr>\n",
       "      <th>8</th>\n",
       "      <td>ROBBERY</td>\n",
       "      <td>166505</td>\n",
       "    </tr>\n",
       "    <tr>\n",
       "      <th>9</th>\n",
       "      <td>DECEPTIVE PRACTICE</td>\n",
       "      <td>162197</td>\n",
       "    </tr>\n",
       "    <tr>\n",
       "      <th>10</th>\n",
       "      <td>CRIMINAL TRESPASS</td>\n",
       "      <td>122457</td>\n",
       "    </tr>\n",
       "    <tr>\n",
       "      <th>11</th>\n",
       "      <td>WEAPONS VIOLATION</td>\n",
       "      <td>44314</td>\n",
       "    </tr>\n",
       "    <tr>\n",
       "      <th>12</th>\n",
       "      <td>PROSTITUTION</td>\n",
       "      <td>43137</td>\n",
       "    </tr>\n",
       "    <tr>\n",
       "      <th>13</th>\n",
       "      <td>PUBLIC PEACE VIOLATION</td>\n",
       "      <td>36046</td>\n",
       "    </tr>\n",
       "    <tr>\n",
       "      <th>14</th>\n",
       "      <td>OFFENSE INVOLVING CHILDREN</td>\n",
       "      <td>28622</td>\n",
       "    </tr>\n",
       "    <tr>\n",
       "      <th>15</th>\n",
       "      <td>CRIM SEXUAL ASSAULT</td>\n",
       "      <td>16251</td>\n",
       "    </tr>\n",
       "    <tr>\n",
       "      <th>16</th>\n",
       "      <td>SEX OFFENSE</td>\n",
       "      <td>13980</td>\n",
       "    </tr>\n",
       "    <tr>\n",
       "      <th>17</th>\n",
       "      <td>INTERFERENCE WITH PUBLIC OFFICER</td>\n",
       "      <td>11420</td>\n",
       "    </tr>\n",
       "    <tr>\n",
       "      <th>18</th>\n",
       "      <td>GAMBLING</td>\n",
       "      <td>10519</td>\n",
       "    </tr>\n",
       "    <tr>\n",
       "      <th>19</th>\n",
       "      <td>LIQUOR LAW VIOLATION</td>\n",
       "      <td>8705</td>\n",
       "    </tr>\n",
       "    <tr>\n",
       "      <th>20</th>\n",
       "      <td>ARSON</td>\n",
       "      <td>6774</td>\n",
       "    </tr>\n",
       "    <tr>\n",
       "      <th>21</th>\n",
       "      <td>HOMICIDE</td>\n",
       "      <td>5337</td>\n",
       "    </tr>\n",
       "    <tr>\n",
       "      <th>22</th>\n",
       "      <td>KIDNAPPING</td>\n",
       "      <td>3368</td>\n",
       "    </tr>\n",
       "    <tr>\n",
       "      <th>23</th>\n",
       "      <td>INTIMIDATION</td>\n",
       "      <td>2358</td>\n",
       "    </tr>\n",
       "    <tr>\n",
       "      <th>24</th>\n",
       "      <td>STALKING</td>\n",
       "      <td>2093</td>\n",
       "    </tr>\n",
       "    <tr>\n",
       "      <th>25</th>\n",
       "      <td>OBSCENITY</td>\n",
       "      <td>320</td>\n",
       "    </tr>\n",
       "    <tr>\n",
       "      <th>26</th>\n",
       "      <td>NON-CRIMINAL</td>\n",
       "      <td>118</td>\n",
       "    </tr>\n",
       "    <tr>\n",
       "      <th>27</th>\n",
       "      <td>PUBLIC INDECENCY</td>\n",
       "      <td>109</td>\n",
       "    </tr>\n",
       "    <tr>\n",
       "      <th>28</th>\n",
       "      <td>OTHER NARCOTIC VIOLATION</td>\n",
       "      <td>88</td>\n",
       "    </tr>\n",
       "    <tr>\n",
       "      <th>29</th>\n",
       "      <td>CONCEALED CARRY LICENSE VIOLATION</td>\n",
       "      <td>84</td>\n",
       "    </tr>\n",
       "    <tr>\n",
       "      <th>30</th>\n",
       "      <td>HUMAN TRAFFICKING</td>\n",
       "      <td>20</td>\n",
       "    </tr>\n",
       "    <tr>\n",
       "      <th>31</th>\n",
       "      <td>RITUALISM</td>\n",
       "      <td>13</td>\n",
       "    </tr>\n",
       "    <tr>\n",
       "      <th>32</th>\n",
       "      <td>NON-CRIMINAL (SUBJECT SPECIFIED)</td>\n",
       "      <td>4</td>\n",
       "    </tr>\n",
       "  </tbody>\n",
       "</table>\n",
       "</div>"
      ],
      "text/plain": [
       "                         Primary_Type   Count\n",
       "0                               THEFT  908294\n",
       "1                             BATTERY  784795\n",
       "2                     CRIMINAL DAMAGE  506455\n",
       "3                           NARCOTICS  481778\n",
       "4                            BURGLARY  264877\n",
       "5                       OTHER OFFENSE  264835\n",
       "6                             ASSAULT  262739\n",
       "7                 MOTOR VEHICLE THEFT  196484\n",
       "8                             ROBBERY  166505\n",
       "9                  DECEPTIVE PRACTICE  162197\n",
       "10                  CRIMINAL TRESPASS  122457\n",
       "11                  WEAPONS VIOLATION   44314\n",
       "12                       PROSTITUTION   43137\n",
       "13             PUBLIC PEACE VIOLATION   36046\n",
       "14         OFFENSE INVOLVING CHILDREN   28622\n",
       "15                CRIM SEXUAL ASSAULT   16251\n",
       "16                        SEX OFFENSE   13980\n",
       "17   INTERFERENCE WITH PUBLIC OFFICER   11420\n",
       "18                           GAMBLING   10519\n",
       "19               LIQUOR LAW VIOLATION    8705\n",
       "20                              ARSON    6774\n",
       "21                           HOMICIDE    5337\n",
       "22                         KIDNAPPING    3368\n",
       "23                       INTIMIDATION    2358\n",
       "24                           STALKING    2093\n",
       "25                          OBSCENITY     320\n",
       "26                       NON-CRIMINAL     118\n",
       "27                   PUBLIC INDECENCY     109\n",
       "28           OTHER NARCOTIC VIOLATION      88\n",
       "29  CONCEALED CARRY LICENSE VIOLATION      84\n",
       "30                  HUMAN TRAFFICKING      20\n",
       "31                          RITUALISM      13\n",
       "32   NON-CRIMINAL (SUBJECT SPECIFIED)       4"
      ]
     },
     "execution_count": 72,
     "metadata": {},
     "output_type": "execute_result"
    }
   ],
   "source": [
    "#tipologia di crimini \n",
    "crime_count = pd.DataFrame(Chicago_06_16.groupby('Primary_Type').size().sort_values(ascending=False).rename('Count').reset_index())\n",
    "crime_count"
   ]
  },
  {
   "cell_type": "markdown",
   "metadata": {},
   "source": [
    "Rappresento graficamente i primi 10 crimini più commessi."
   ]
  },
  {
   "cell_type": "code",
   "execution_count": 73,
   "metadata": {},
   "outputs": [
    {
     "data": {
      "image/png": "[encoded data removed]",
      "text/plain": [
       "<matplotlib.figure.Figure at 0x1ee57e2f630>"
      ]
     },
     "metadata": {},
     "output_type": "display_data"
    }
   ],
   "source": [
    "#top 10 tipologia di crimini \n",
    "crime_count[:10].plot(x='Primary_Type',y='Count',kind='bar', figsize=(8,8) )\n",
    "plt.title(\"Crime's primary type\")\n",
    "plt.show()"
   ]
  },
  {
   "cell_type": "markdown",
   "metadata": {
    "collapsed": true
   },
   "source": [
    "Per quant riguarda i primi 5 maggiori crimini commessi, come si è evoluta negli anni ? "
   ]
  },
  {
   "cell_type": "code",
   "execution_count": 74,
   "metadata": {},
   "outputs": [
    {
     "data": {
      "image/png": "[encoded data removed]",
      "text/plain": [
       "<matplotlib.figure.Figure at 0x1ee57e2ff28>"
      ]
     },
     "metadata": {},
     "output_type": "display_data"
    }
   ],
   "source": [
    "crimes_type = Chicago_06_16.loc[Chicago_06_16.Primary_Type.isin(['THEFT','BATTERY', 'CRIMINAL DAMAGE', 'NARCOTICS', 'BURGLARY'])]\n",
    "crimes_type=crimes_type.groupby(['Year', 'Primary_Type'])\n",
    "crimes_type=crimes_type['Primary_Type'].count().unstack()\n",
    "crimes_type.plot(figsize=(10,10))\n",
    "plt.title(\"Top 5 crimes's type over the year\")\n",
    "plt.show()"
   ]
  },
  {
   "cell_type": "code",
   "execution_count": 75,
   "metadata": {
    "collapsed": true
   },
   "outputs": [],
   "source": [
    "#calcoliamo anche il numero di arresti per il top 10 crimini."
   ]
  },
  {
   "cell_type": "code",
   "execution_count": 76,
   "metadata": {
    "collapsed": true
   },
   "outputs": [],
   "source": [
    "Arresti2 = pd.DataFrame(Chicago_06_16.loc[Chicago_06_16.Arrest == True].groupby('Primary_Type').Arrest.count())"
   ]
  },
  {
   "cell_type": "code",
   "execution_count": 77,
   "metadata": {},
   "outputs": [
    {
     "data": {
      "text/html": [
       "<div>\n",
       "<style>\n",
       "    .dataframe thead tr:only-child th {\n",
       "        text-align: right;\n",
       "    }\n",
       "\n",
       "    .dataframe thead th {\n",
       "        text-align: left;\n",
       "    }\n",
       "\n",
       "    .dataframe tbody tr th {\n",
       "        vertical-align: top;\n",
       "    }\n",
       "</style>\n",
       "<table border=\"1\" class=\"dataframe\">\n",
       "  <thead>\n",
       "    <tr style=\"text-align: right;\">\n",
       "      <th></th>\n",
       "      <th>Arrest</th>\n",
       "    </tr>\n",
       "    <tr>\n",
       "      <th>Primary_Type</th>\n",
       "      <th></th>\n",
       "    </tr>\n",
       "  </thead>\n",
       "  <tbody>\n",
       "    <tr>\n",
       "      <th>ARSON</th>\n",
       "      <td>813</td>\n",
       "    </tr>\n",
       "    <tr>\n",
       "      <th>ASSAULT</th>\n",
       "      <td>62852</td>\n",
       "    </tr>\n",
       "    <tr>\n",
       "      <th>BATTERY</th>\n",
       "      <td>181337</td>\n",
       "    </tr>\n",
       "    <tr>\n",
       "      <th>BURGLARY</th>\n",
       "      <td>14935</td>\n",
       "    </tr>\n",
       "    <tr>\n",
       "      <th>CONCEALED CARRY LICENSE VIOLATION</th>\n",
       "      <td>72</td>\n",
       "    </tr>\n",
       "    <tr>\n",
       "      <th>CRIM SEXUAL ASSAULT</th>\n",
       "      <td>2321</td>\n",
       "    </tr>\n",
       "    <tr>\n",
       "      <th>CRIMINAL DAMAGE</th>\n",
       "      <td>34933</td>\n",
       "    </tr>\n",
       "    <tr>\n",
       "      <th>CRIMINAL TRESPASS</th>\n",
       "      <td>88341</td>\n",
       "    </tr>\n",
       "    <tr>\n",
       "      <th>DECEPTIVE PRACTICE</th>\n",
       "      <td>26878</td>\n",
       "    </tr>\n",
       "    <tr>\n",
       "      <th>GAMBLING</th>\n",
       "      <td>10410</td>\n",
       "    </tr>\n",
       "    <tr>\n",
       "      <th>HOMICIDE</th>\n",
       "      <td>2212</td>\n",
       "    </tr>\n",
       "    <tr>\n",
       "      <th>HUMAN TRAFFICKING</th>\n",
       "      <td>2</td>\n",
       "    </tr>\n",
       "    <tr>\n",
       "      <th>INTERFERENCE WITH PUBLIC OFFICER</th>\n",
       "      <td>10583</td>\n",
       "    </tr>\n",
       "    <tr>\n",
       "      <th>INTIMIDATION</th>\n",
       "      <td>423</td>\n",
       "    </tr>\n",
       "    <tr>\n",
       "      <th>KIDNAPPING</th>\n",
       "      <td>354</td>\n",
       "    </tr>\n",
       "    <tr>\n",
       "      <th>LIQUOR LAW VIOLATION</th>\n",
       "      <td>8571</td>\n",
       "    </tr>\n",
       "    <tr>\n",
       "      <th>MOTOR VEHICLE THEFT</th>\n",
       "      <td>15028</td>\n",
       "    </tr>\n",
       "    <tr>\n",
       "      <th>NARCOTICS</th>\n",
       "      <td>476732</td>\n",
       "    </tr>\n",
       "    <tr>\n",
       "      <th>NON-CRIMINAL</th>\n",
       "      <td>13</td>\n",
       "    </tr>\n",
       "    <tr>\n",
       "      <th>NON-CRIMINAL (SUBJECT SPECIFIED)</th>\n",
       "      <td>1</td>\n",
       "    </tr>\n",
       "    <tr>\n",
       "      <th>OBSCENITY</th>\n",
       "      <td>259</td>\n",
       "    </tr>\n",
       "    <tr>\n",
       "      <th>OFFENSE INVOLVING CHILDREN</th>\n",
       "      <td>5711</td>\n",
       "    </tr>\n",
       "    <tr>\n",
       "      <th>OTHER NARCOTIC VIOLATION</th>\n",
       "      <td>59</td>\n",
       "    </tr>\n",
       "    <tr>\n",
       "      <th>OTHER OFFENSE</th>\n",
       "      <td>45427</td>\n",
       "    </tr>\n",
       "    <tr>\n",
       "      <th>PROSTITUTION</th>\n",
       "      <td>42793</td>\n",
       "    </tr>\n",
       "    <tr>\n",
       "      <th>PUBLIC INDECENCY</th>\n",
       "      <td>108</td>\n",
       "    </tr>\n",
       "    <tr>\n",
       "      <th>PUBLIC PEACE VIOLATION</th>\n",
       "      <td>25759</td>\n",
       "    </tr>\n",
       "    <tr>\n",
       "      <th>RITUALISM</th>\n",
       "      <td>1</td>\n",
       "    </tr>\n",
       "    <tr>\n",
       "      <th>ROBBERY</th>\n",
       "      <td>16683</td>\n",
       "    </tr>\n",
       "    <tr>\n",
       "      <th>SEX OFFENSE</th>\n",
       "      <td>4368</td>\n",
       "    </tr>\n",
       "    <tr>\n",
       "      <th>STALKING</th>\n",
       "      <td>329</td>\n",
       "    </tr>\n",
       "    <tr>\n",
       "      <th>THEFT</th>\n",
       "      <td>103212</td>\n",
       "    </tr>\n",
       "    <tr>\n",
       "      <th>WEAPONS VIOLATION</th>\n",
       "      <td>35426</td>\n",
       "    </tr>\n",
       "  </tbody>\n",
       "</table>\n",
       "</div>"
      ],
      "text/plain": [
       "                                   Arrest\n",
       "Primary_Type                             \n",
       "ARSON                                 813\n",
       "ASSAULT                             62852\n",
       "BATTERY                            181337\n",
       "BURGLARY                            14935\n",
       "CONCEALED CARRY LICENSE VIOLATION      72\n",
       "CRIM SEXUAL ASSAULT                  2321\n",
       "CRIMINAL DAMAGE                     34933\n",
       "CRIMINAL TRESPASS                   88341\n",
       "DECEPTIVE PRACTICE                  26878\n",
       "GAMBLING                            10410\n",
       "HOMICIDE                             2212\n",
       "HUMAN TRAFFICKING                       2\n",
       "INTERFERENCE WITH PUBLIC OFFICER    10583\n",
       "INTIMIDATION                          423\n",
       "KIDNAPPING                            354\n",
       "LIQUOR LAW VIOLATION                 8571\n",
       "MOTOR VEHICLE THEFT                 15028\n",
       "NARCOTICS                          476732\n",
       "NON-CRIMINAL                           13\n",
       "NON-CRIMINAL (SUBJECT SPECIFIED)        1\n",
       "OBSCENITY                             259\n",
       "OFFENSE INVOLVING CHILDREN           5711\n",
       "OTHER NARCOTIC VIOLATION               59\n",
       "OTHER OFFENSE                       45427\n",
       "PROSTITUTION                        42793\n",
       "PUBLIC INDECENCY                      108\n",
       "PUBLIC PEACE VIOLATION              25759\n",
       "RITUALISM                               1\n",
       "ROBBERY                             16683\n",
       "SEX OFFENSE                          4368\n",
       "STALKING                              329\n",
       "THEFT                              103212\n",
       "WEAPONS VIOLATION                   35426"
      ]
     },
     "execution_count": 77,
     "metadata": {},
     "output_type": "execute_result"
    }
   ],
   "source": [
    "Arresti2"
   ]
  },
  {
   "cell_type": "code",
   "execution_count": 83,
   "metadata": {},
   "outputs": [
    {
     "data": {
      "text/html": [
       "<div>\n",
       "<style>\n",
       "    .dataframe thead tr:only-child th {\n",
       "        text-align: right;\n",
       "    }\n",
       "\n",
       "    .dataframe thead th {\n",
       "        text-align: left;\n",
       "    }\n",
       "\n",
       "    .dataframe tbody tr th {\n",
       "        vertical-align: top;\n",
       "    }\n",
       "</style>\n",
       "<table border=\"1\" class=\"dataframe\">\n",
       "  <thead>\n",
       "    <tr style=\"text-align: right;\">\n",
       "      <th></th>\n",
       "      <th>Location_Description</th>\n",
       "      <th>Count</th>\n",
       "    </tr>\n",
       "  </thead>\n",
       "  <tbody>\n",
       "    <tr>\n",
       "      <th>0</th>\n",
       "      <td>STREET</td>\n",
       "      <td>1089832</td>\n",
       "    </tr>\n",
       "    <tr>\n",
       "      <th>1</th>\n",
       "      <td>RESIDENCE</td>\n",
       "      <td>708018</td>\n",
       "    </tr>\n",
       "    <tr>\n",
       "      <th>2</th>\n",
       "      <td>SIDEWALK</td>\n",
       "      <td>493785</td>\n",
       "    </tr>\n",
       "    <tr>\n",
       "      <th>3</th>\n",
       "      <td>APARTMENT</td>\n",
       "      <td>490664</td>\n",
       "    </tr>\n",
       "    <tr>\n",
       "      <th>4</th>\n",
       "      <td>OTHER</td>\n",
       "      <td>156248</td>\n",
       "    </tr>\n",
       "    <tr>\n",
       "      <th>5</th>\n",
       "      <td>PARKING LOT/GARAGE(NON.RESID.)</td>\n",
       "      <td>120378</td>\n",
       "    </tr>\n",
       "    <tr>\n",
       "      <th>6</th>\n",
       "      <td>ALLEY</td>\n",
       "      <td>99581</td>\n",
       "    </tr>\n",
       "    <tr>\n",
       "      <th>7</th>\n",
       "      <td>SCHOOL, PUBLIC, BUILDING</td>\n",
       "      <td>91017</td>\n",
       "    </tr>\n",
       "    <tr>\n",
       "      <th>8</th>\n",
       "      <td>RESIDENCE-GARAGE</td>\n",
       "      <td>86021</td>\n",
       "    </tr>\n",
       "    <tr>\n",
       "      <th>9</th>\n",
       "      <td>VEHICLE NON-COMMERCIAL</td>\n",
       "      <td>77832</td>\n",
       "    </tr>\n",
       "    <tr>\n",
       "      <th>10</th>\n",
       "      <td>SMALL RETAIL STORE</td>\n",
       "      <td>76497</td>\n",
       "    </tr>\n",
       "    <tr>\n",
       "      <th>11</th>\n",
       "      <td>RESIDENCE PORCH/HALLWAY</td>\n",
       "      <td>75450</td>\n",
       "    </tr>\n",
       "    <tr>\n",
       "      <th>12</th>\n",
       "      <td>RESTAURANT</td>\n",
       "      <td>66313</td>\n",
       "    </tr>\n",
       "    <tr>\n",
       "      <th>13</th>\n",
       "      <td>RESIDENTIAL YARD (FRONT/BACK)</td>\n",
       "      <td>56800</td>\n",
       "    </tr>\n",
       "    <tr>\n",
       "      <th>14</th>\n",
       "      <td>DEPARTMENT STORE</td>\n",
       "      <td>53619</td>\n",
       "    </tr>\n",
       "    <tr>\n",
       "      <th>15</th>\n",
       "      <td>GROCERY FOOD STORE</td>\n",
       "      <td>49803</td>\n",
       "    </tr>\n",
       "    <tr>\n",
       "      <th>16</th>\n",
       "      <td>GAS STATION</td>\n",
       "      <td>46221</td>\n",
       "    </tr>\n",
       "    <tr>\n",
       "      <th>17</th>\n",
       "      <td>PARK PROPERTY</td>\n",
       "      <td>34693</td>\n",
       "    </tr>\n",
       "    <tr>\n",
       "      <th>18</th>\n",
       "      <td>COMMERCIAL / BUSINESS OFFICE</td>\n",
       "      <td>27918</td>\n",
       "    </tr>\n",
       "    <tr>\n",
       "      <th>19</th>\n",
       "      <td>BAR OR TAVERN</td>\n",
       "      <td>24896</td>\n",
       "    </tr>\n",
       "    <tr>\n",
       "      <th>20</th>\n",
       "      <td>CTA PLATFORM</td>\n",
       "      <td>24345</td>\n",
       "    </tr>\n",
       "    <tr>\n",
       "      <th>21</th>\n",
       "      <td>CHA PARKING LOT/GROUNDS</td>\n",
       "      <td>23498</td>\n",
       "    </tr>\n",
       "    <tr>\n",
       "      <th>22</th>\n",
       "      <td>SCHOOL, PUBLIC, GROUNDS</td>\n",
       "      <td>19848</td>\n",
       "    </tr>\n",
       "    <tr>\n",
       "      <th>23</th>\n",
       "      <td>DRUG STORE</td>\n",
       "      <td>17753</td>\n",
       "    </tr>\n",
       "    <tr>\n",
       "      <th>24</th>\n",
       "      <td>BANK</td>\n",
       "      <td>17452</td>\n",
       "    </tr>\n",
       "    <tr>\n",
       "      <th>25</th>\n",
       "      <td>HOTEL/MOTEL</td>\n",
       "      <td>16804</td>\n",
       "    </tr>\n",
       "    <tr>\n",
       "      <th>26</th>\n",
       "      <td>CTA TRAIN</td>\n",
       "      <td>16625</td>\n",
       "    </tr>\n",
       "    <tr>\n",
       "      <th>27</th>\n",
       "      <td>VACANT LOT/LAND</td>\n",
       "      <td>16501</td>\n",
       "    </tr>\n",
       "    <tr>\n",
       "      <th>28</th>\n",
       "      <td>CHA APARTMENT</td>\n",
       "      <td>15449</td>\n",
       "    </tr>\n",
       "    <tr>\n",
       "      <th>29</th>\n",
       "      <td>CTA BUS</td>\n",
       "      <td>15077</td>\n",
       "    </tr>\n",
       "    <tr>\n",
       "      <th>...</th>\n",
       "      <td>...</td>\n",
       "      <td>...</td>\n",
       "    </tr>\n",
       "    <tr>\n",
       "      <th>127</th>\n",
       "      <td>LIQUOR STORE</td>\n",
       "      <td>4</td>\n",
       "    </tr>\n",
       "    <tr>\n",
       "      <th>128</th>\n",
       "      <td>CLUB</td>\n",
       "      <td>3</td>\n",
       "    </tr>\n",
       "    <tr>\n",
       "      <th>129</th>\n",
       "      <td>CTA \"L\" PLATFORM</td>\n",
       "      <td>3</td>\n",
       "    </tr>\n",
       "    <tr>\n",
       "      <th>130</th>\n",
       "      <td>GARAGE/AUTO REPAIR</td>\n",
       "      <td>2</td>\n",
       "    </tr>\n",
       "    <tr>\n",
       "      <th>131</th>\n",
       "      <td>LAKE</td>\n",
       "      <td>2</td>\n",
       "    </tr>\n",
       "    <tr>\n",
       "      <th>132</th>\n",
       "      <td>TRUCK</td>\n",
       "      <td>2</td>\n",
       "    </tr>\n",
       "    <tr>\n",
       "      <th>133</th>\n",
       "      <td>DUMPSTER</td>\n",
       "      <td>2</td>\n",
       "    </tr>\n",
       "    <tr>\n",
       "      <th>134</th>\n",
       "      <td>CHA STAIRWELL</td>\n",
       "      <td>2</td>\n",
       "    </tr>\n",
       "    <tr>\n",
       "      <th>135</th>\n",
       "      <td>RIVER BANK</td>\n",
       "      <td>2</td>\n",
       "    </tr>\n",
       "    <tr>\n",
       "      <th>136</th>\n",
       "      <td>TAXI CAB</td>\n",
       "      <td>2</td>\n",
       "    </tr>\n",
       "    <tr>\n",
       "      <th>137</th>\n",
       "      <td>SEWER</td>\n",
       "      <td>1</td>\n",
       "    </tr>\n",
       "    <tr>\n",
       "      <th>138</th>\n",
       "      <td>RIVER</td>\n",
       "      <td>1</td>\n",
       "    </tr>\n",
       "    <tr>\n",
       "      <th>139</th>\n",
       "      <td>ROOMING HOUSE</td>\n",
       "      <td>1</td>\n",
       "    </tr>\n",
       "    <tr>\n",
       "      <th>140</th>\n",
       "      <td>TRAILER</td>\n",
       "      <td>1</td>\n",
       "    </tr>\n",
       "    <tr>\n",
       "      <th>141</th>\n",
       "      <td>CTA PROPERTY</td>\n",
       "      <td>1</td>\n",
       "    </tr>\n",
       "    <tr>\n",
       "      <th>142</th>\n",
       "      <td>PUBLIC HIGH SCHOOL</td>\n",
       "      <td>1</td>\n",
       "    </tr>\n",
       "    <tr>\n",
       "      <th>143</th>\n",
       "      <td>POOLROOM</td>\n",
       "      <td>1</td>\n",
       "    </tr>\n",
       "    <tr>\n",
       "      <th>144</th>\n",
       "      <td>BANQUET HALL</td>\n",
       "      <td>1</td>\n",
       "    </tr>\n",
       "    <tr>\n",
       "      <th>145</th>\n",
       "      <td>CTA \"L\" TRAIN</td>\n",
       "      <td>1</td>\n",
       "    </tr>\n",
       "    <tr>\n",
       "      <th>146</th>\n",
       "      <td>LAUNDRY ROOM</td>\n",
       "      <td>1</td>\n",
       "    </tr>\n",
       "    <tr>\n",
       "      <th>147</th>\n",
       "      <td>HOSPITAL</td>\n",
       "      <td>1</td>\n",
       "    </tr>\n",
       "    <tr>\n",
       "      <th>148</th>\n",
       "      <td>GOVERNMENT BUILDING</td>\n",
       "      <td>1</td>\n",
       "    </tr>\n",
       "    <tr>\n",
       "      <th>149</th>\n",
       "      <td>CHA PLAY LOT</td>\n",
       "      <td>1</td>\n",
       "    </tr>\n",
       "    <tr>\n",
       "      <th>150</th>\n",
       "      <td>CHURCH PROPERTY</td>\n",
       "      <td>1</td>\n",
       "    </tr>\n",
       "    <tr>\n",
       "      <th>151</th>\n",
       "      <td>CLEANERS/LAUNDROMAT</td>\n",
       "      <td>1</td>\n",
       "    </tr>\n",
       "    <tr>\n",
       "      <th>152</th>\n",
       "      <td>COACH HOUSE</td>\n",
       "      <td>1</td>\n",
       "    </tr>\n",
       "    <tr>\n",
       "      <th>153</th>\n",
       "      <td>WOODED AREA</td>\n",
       "      <td>1</td>\n",
       "    </tr>\n",
       "    <tr>\n",
       "      <th>154</th>\n",
       "      <td>FACTORY</td>\n",
       "      <td>1</td>\n",
       "    </tr>\n",
       "    <tr>\n",
       "      <th>155</th>\n",
       "      <td>ELEVATOR</td>\n",
       "      <td>1</td>\n",
       "    </tr>\n",
       "    <tr>\n",
       "      <th>156</th>\n",
       "      <td>LIVERY AUTO</td>\n",
       "      <td>1</td>\n",
       "    </tr>\n",
       "  </tbody>\n",
       "</table>\n",
       "<p>157 rows × 2 columns</p>\n",
       "</div>"
      ],
      "text/plain": [
       "               Location_Description    Count\n",
       "0                            STREET  1089832\n",
       "1                         RESIDENCE   708018\n",
       "2                          SIDEWALK   493785\n",
       "3                         APARTMENT   490664\n",
       "4                             OTHER   156248\n",
       "5    PARKING LOT/GARAGE(NON.RESID.)   120378\n",
       "6                             ALLEY    99581\n",
       "7          SCHOOL, PUBLIC, BUILDING    91017\n",
       "8                  RESIDENCE-GARAGE    86021\n",
       "9            VEHICLE NON-COMMERCIAL    77832\n",
       "10               SMALL RETAIL STORE    76497\n",
       "11          RESIDENCE PORCH/HALLWAY    75450\n",
       "12                       RESTAURANT    66313\n",
       "13    RESIDENTIAL YARD (FRONT/BACK)    56800\n",
       "14                 DEPARTMENT STORE    53619\n",
       "15               GROCERY FOOD STORE    49803\n",
       "16                      GAS STATION    46221\n",
       "17                    PARK PROPERTY    34693\n",
       "18     COMMERCIAL / BUSINESS OFFICE    27918\n",
       "19                    BAR OR TAVERN    24896\n",
       "20                     CTA PLATFORM    24345\n",
       "21          CHA PARKING LOT/GROUNDS    23498\n",
       "22          SCHOOL, PUBLIC, GROUNDS    19848\n",
       "23                       DRUG STORE    17753\n",
       "24                             BANK    17452\n",
       "25                      HOTEL/MOTEL    16804\n",
       "26                        CTA TRAIN    16625\n",
       "27                  VACANT LOT/LAND    16501\n",
       "28                    CHA APARTMENT    15449\n",
       "29                          CTA BUS    15077\n",
       "..                              ...      ...\n",
       "127                    LIQUOR STORE        4\n",
       "128                            CLUB        3\n",
       "129                CTA \"L\" PLATFORM        3\n",
       "130              GARAGE/AUTO REPAIR        2\n",
       "131                            LAKE        2\n",
       "132                           TRUCK        2\n",
       "133                        DUMPSTER        2\n",
       "134                   CHA STAIRWELL        2\n",
       "135                      RIVER BANK        2\n",
       "136                        TAXI CAB        2\n",
       "137                           SEWER        1\n",
       "138                           RIVER        1\n",
       "139                   ROOMING HOUSE        1\n",
       "140                         TRAILER        1\n",
       "141                    CTA PROPERTY        1\n",
       "142              PUBLIC HIGH SCHOOL        1\n",
       "143                        POOLROOM        1\n",
       "144                    BANQUET HALL        1\n",
       "145                   CTA \"L\" TRAIN        1\n",
       "146                    LAUNDRY ROOM        1\n",
       "147                        HOSPITAL        1\n",
       "148             GOVERNMENT BUILDING        1\n",
       "149                    CHA PLAY LOT        1\n",
       "150                 CHURCH PROPERTY        1\n",
       "151             CLEANERS/LAUNDROMAT        1\n",
       "152                     COACH HOUSE        1\n",
       "153                     WOODED AREA        1\n",
       "154                         FACTORY        1\n",
       "155                        ELEVATOR        1\n",
       "156                     LIVERY AUTO        1\n",
       "\n",
       "[157 rows x 2 columns]"
      ]
     },
     "execution_count": 83,
     "metadata": {},
     "output_type": "execute_result"
    }
   ],
   "source": [
    "LD_Chicago_06_16= Chicago_06_16.groupby('Location_Description').Location_Description.count().sort_values(ascending=False).rename('Count').reset_index()\n",
    "LD_Chicago_06_16"
   ]
  },
  {
   "cell_type": "code",
   "execution_count": 114,
   "metadata": {},
   "outputs": [
    {
     "data": {
      "image/png": "[encoded data removed]",
      "text/plain": [
       "<matplotlib.figure.Figure at 0x1edc20fba20>"
      ]
     },
     "metadata": {},
     "output_type": "display_data"
    }
   ],
   "source": [
    "LD_Chicago_06_16[:10].plot(x='Location_Description',y='Count',kind='bar', color = 'tomato',figsize=(8,8) )\n",
    "plt.title(\"Crime's primary type\")\n",
    "plt.show()"
   ]
  },
  {
   "cell_type": "code",
   "execution_count": null,
   "metadata": {
    "collapsed": true
   },
   "outputs": [],
   "source": []
  },
  {
   "cell_type": "code",
   "execution_count": null,
   "metadata": {
    "collapsed": true
   },
   "outputs": [],
   "source": []
  },
  {
   "cell_type": "code",
   "execution_count": null,
   "metadata": {
    "collapsed": true
   },
   "outputs": [],
   "source": []
  },
  {
   "cell_type": "code",
   "execution_count": null,
   "metadata": {
    "collapsed": true
   },
   "outputs": [],
   "source": [
    "#creo pivot table con le statistiche principali \n",
    "Chicago_06_16.groupby('Primary_Type')['Year'].mean()\n",
    "\n",
    "Chicago_06_16.groupby(\n",
    "    ['Primary_Type','Location_Description']\n",
    ").agg(\n",
    "    {\n",
    "        'Primary_Type': [count, 'mean'],\n",
    "        #'price': \"mean\",\n",
    "       # 'calculated_host_listings_count' : [sum,'count','mean']\n",
    "    }\n",
    ")"
   ]
  },
  {
   "cell_type": "markdown",
   "metadata": {},
   "source": [
    "<a id='ml'></a>\n",
    "### Machine Learning "
   ]
  },
  {
   "cell_type": "code",
   "execution_count": 182,
   "metadata": {},
   "outputs": [
    {
     "data": {
      "image/png": "[encoded data removed]",
      "text/plain": [
       "<matplotlib.figure.Figure at 0x26a1ede8c88>"
      ]
     },
     "metadata": {},
     "output_type": "display_data"
    }
   ],
   "source": [
    "#Using Pearson Correlation calcolo correlazione tra variabili, utili per ml \n",
    "plt.figure(figsize=(10,10))\n",
    "cor = abs(Chicago_06_16.corr())\n",
    "sns.heatmap(cor, annot=True, cmap=plt.cm.Blues)\n",
    "plt.show()"
   ]
  },
  {
   "cell_type": "code",
   "execution_count": null,
   "metadata": {
    "collapsed": true
   },
   "outputs": [],
   "source": [
    "#posso eliminare o latitudine o x cordinate ? VALUTA\n"
   ]
  },
  {
   "cell_type": "code",
   "execution_count": null,
   "metadata": {
    "collapsed": true
   },
   "outputs": [],
   "source": []
  },
  {
   "cell_type": "code",
   "execution_count": null,
   "metadata": {
    "collapsed": true
   },
   "outputs": [],
   "source": []
  },
  {
   "cell_type": "code",
   "execution_count": null,
   "metadata": {
    "collapsed": true
   },
   "outputs": [],
   "source": []
  },
  {
   "cell_type": "code",
   "execution_count": null,
   "metadata": {
    "collapsed": true
   },
   "outputs": [],
   "source": []
  },
  {
   "cell_type": "code",
   "execution_count": null,
   "metadata": {
    "collapsed": true
   },
   "outputs": [],
   "source": []
  },
  {
   "cell_type": "code",
   "execution_count": null,
   "metadata": {
    "collapsed": true
   },
   "outputs": [],
   "source": []
  },
  {
   "cell_type": "code",
   "execution_count": null,
   "metadata": {
    "collapsed": true
   },
   "outputs": [],
   "source": []
  },
  {
   "cell_type": "code",
   "execution_count": null,
   "metadata": {
    "collapsed": true
   },
   "outputs": [],
   "source": []
  },
  {
   "cell_type": "code",
   "execution_count": null,
   "metadata": {
    "collapsed": true
   },
   "outputs": [],
   "source": []
  },
  {
   "cell_type": "code",
   "execution_count": null,
   "metadata": {
    "collapsed": true
   },
   "outputs": [],
   "source": []
  },
  {
   "cell_type": "code",
   "execution_count": null,
   "metadata": {
    "collapsed": true
   },
   "outputs": [],
   "source": []
  },
  {
   "cell_type": "code",
   "execution_count": null,
   "metadata": {
    "collapsed": true
   },
   "outputs": [],
   "source": []
  },
  {
   "cell_type": "code",
   "execution_count": null,
   "metadata": {
    "collapsed": true
   },
   "outputs": [],
   "source": []
  },
  {
   "cell_type": "code",
   "execution_count": null,
   "metadata": {
    "collapsed": true
   },
   "outputs": [],
   "source": []
  }
 ],
 "metadata": {
  "kernelspec": {
   "display_name": "Python 3",
   "language": "python",
   "name": "python3"
  },
  "language_info": {
   "codemirror_mode": {
    "name": "ipython",
    "version": 3
   },
   "file_extension": ".py",
   "mimetype": "text/x-python",
   "name": "python",
   "nbconvert_exporter": "python",
   "pygments_lexer": "ipython3",
   "version": "3.6.2"
  }
 },
 "nbformat": 4,
 "nbformat_minor": 2
}
