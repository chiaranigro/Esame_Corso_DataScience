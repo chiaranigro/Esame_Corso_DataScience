{
 "cells": [
  {
   "cell_type": "markdown",
   "metadata": {},
   "source": [
    "# <H1 align=center>Crimes in Chicago </H1>"
   ]
  },
  {
   "cell_type": "markdown",
   "metadata": {},
   "source": [
    "L'obiettivo del notebook è quello di eseguire delle analisi esplorative sui crimini commessi a Chicago in un orizzonte temporale di 10 anni e di predirre il numero di crimini negli anni successivi.<br> Inizialmente avevo scelto di analizzare i crimini dal 2007 al 2017, ma, come si vedrà di seguito, al momento dell'importazione dei csv mi sono accorta che per l'anno 2017 i dati non erano completi, pertanto ho preferito escluderli e considerare un nuovo orizzonte temporale: **dal 2006 al 2016**. \n",
    "\n",
    "Dati utilizzati sono open source e sono stati scaricati da Kaggle https://www.kaggle.com/currie32/crimes-in-chicago "
   ]
  },
  {
   "cell_type": "markdown",
   "metadata": {},
   "source": [
    "## Indice"
   ]
  },
  {
   "cell_type": "markdown",
   "metadata": {},
   "source": [
    "[Importazione librerie e set up costanti](#library)<a href='#library'></a> <br>\n",
    "[Importazione dei dati](#import)<a href='#import'></a> <br>\n",
    "[Analisi Esplorative](#explore)<a href='#explore'></a> <br>\n",
    "[Machine Learning](#ml)<a href='#ml'></a> <br>"
   ]
  },
  {
   "cell_type": "markdown",
   "metadata": {},
   "source": [
    "<a id='library'></a>\n",
    "### Importazione librerie e set up costanti "
   ]
  },
  {
   "cell_type": "markdown",
   "metadata": {},
   "source": [
    "Iniziamo importando le librerie python che verrano utilizzate all'interno del documento "
   ]
  },
  {
   "cell_type": "code",
   "execution_count": 1,
   "metadata": {},
   "outputs": [
    {
     "name": "stdout",
     "output_type": "stream",
     "text": [
      "Setup Complete.\n"
     ]
    }
   ],
   "source": [
    "#analisi EDA   \n",
    "import pandas as pd \n",
    "import numpy as np\n",
    "import matplotlib.pyplot as plt\n",
    "import matplotlib.image as mpimg\n",
    "import seaborn as sns\n",
    "import datetime\n",
    "#import wordcloud\n",
    "\n",
    "#from PIL import Image\n",
    "#from wordcloud import WordCloud, STOPWORDS, ImageColorGenerator\n",
    "\n",
    "#accesso alle funzionalità del sistema operativo \n",
    "import os \n",
    "\n",
    "#machine learning \n",
    "from sklearn import preprocessing\n",
    "from sklearn.model_selection import train_test_split\n",
    "from sklearn.neighbors import KNeighborsClassifier\n",
    "\n",
    "print (\"Setup Complete.\")"
   ]
  },
  {
   "cell_type": "code",
   "execution_count": 2,
   "metadata": {},
   "outputs": [],
   "source": [
    "#codice per il reload automatico e inline plotting\n",
    "%reload_ext autoreload\n",
    "%autoreload 2\n",
    "%matplotlib inline"
   ]
  },
  {
   "cell_type": "markdown",
   "metadata": {},
   "source": [
    "Dichiariamo ora le costanti."
   ]
  },
  {
   "cell_type": "code",
   "execution_count": 3,
   "metadata": {},
   "outputs": [
    {
     "name": "stdout",
     "output_type": "stream",
     "text": [
      "Path 1: C:\\Users\\nigroch1\\Documents\\DATA SCIENCE COURSE\\Esame_Corso_DataScience\\Chicago_Crimes_2005_to_2007.csv\n",
      "Path 2: C:\\Users\\nigroch1\\Documents\\DATA SCIENCE COURSE\\Esame_Corso_DataScience\\Chicago_Crimes_2008_to_2011.csv\n",
      "Path 3: C:\\Users\\nigroch1\\Documents\\DATA SCIENCE COURSE\\Esame_Corso_DataScience\\Chicago_Crimes_2012_to_2017.csv\n"
     ]
    }
   ],
   "source": [
    "BASEPATH = os.path.abspath('')\n",
    "\n",
    "DATASET1 = 'Chicago_Crimes_2005_to_2007.csv'\n",
    "DATASET2 = 'Chicago_Crimes_2008_to_2011.csv'\n",
    "DATASET3 = 'Chicago_Crimes_2012_to_2017.csv'\n",
    "\n",
    "PATH1 = os.path.join(BASEPATH,DATASET1)\n",
    "PATH2 = os.path.join(BASEPATH,DATASET2)\n",
    "PATH3 = os.path.join(BASEPATH,DATASET3)\n",
    "\n",
    "print(\"Path 1:\",PATH1)\n",
    "print(\"Path 2:\",PATH2)\n",
    "print(\"Path 3:\",PATH3)"
   ]
  },
  {
   "cell_type": "markdown",
   "metadata": {},
   "source": [
    "<a id='import'></a>\n",
    "### Importazione dei dati"
   ]
  },
  {
   "cell_type": "markdown",
   "metadata": {},
   "source": [
    "Importo i tre csv separatamente e li concateno in modo tale da creare un'unico dataframe contenente i dati dal 2006 al 2016. <br> Ho scelto di effettuare pulizia dei dati sui singoli dataframe, prima quindi di concatenarli. <br> \n",
    "- [CSV relativo ai crimini commessi dal 2006 al 2007](#2006-2007)<a href='#2006-2007'></a> <br>\n",
    "- [CSV relativo ai crimini commessi dal 2008 al 2011](#2008-2011)<a href='#2008-2011'></a> <br>\n",
    "- [CSV relativo ai crimini commessi dal 2012 al 2016](#2012-2016)<a href='#2012-2016'></a> <br>"
   ]
  },
  {
   "cell_type": "markdown",
   "metadata": {},
   "source": [
    "<a id='2006-2007'></a>\n",
    "#### Crimini relativi agli anni 2006 - 2007 "
   ]
  },
  {
   "cell_type": "code",
   "execution_count": 4,
   "metadata": {},
   "outputs": [
    {
     "name": "stderr",
     "output_type": "stream",
     "text": [
      "b'Skipping line 533719: expected 23 fields, saw 24\\n'\n"
     ]
    },
    {
     "data": {
      "text/html": [
       "<div>\n",
       "<style scoped>\n",
       "    .dataframe tbody tr th:only-of-type {\n",
       "        vertical-align: middle;\n",
       "    }\n",
       "\n",
       "    .dataframe tbody tr th {\n",
       "        vertical-align: top;\n",
       "    }\n",
       "\n",
       "    .dataframe thead th {\n",
       "        text-align: right;\n",
       "    }\n",
       "</style>\n",
       "<table border=\"1\" class=\"dataframe\">\n",
       "  <thead>\n",
       "    <tr style=\"text-align: right;\">\n",
       "      <th></th>\n",
       "      <th>ID</th>\n",
       "      <th>Case Number</th>\n",
       "      <th>Date</th>\n",
       "      <th>Block</th>\n",
       "      <th>IUCR</th>\n",
       "      <th>Primary Type</th>\n",
       "      <th>Description</th>\n",
       "      <th>Location Description</th>\n",
       "      <th>Arrest</th>\n",
       "      <th>Domestic</th>\n",
       "      <th>...</th>\n",
       "      <th>Ward</th>\n",
       "      <th>Community Area</th>\n",
       "      <th>FBI Code</th>\n",
       "      <th>X Coordinate</th>\n",
       "      <th>Y Coordinate</th>\n",
       "      <th>Year</th>\n",
       "      <th>Updated On</th>\n",
       "      <th>Latitude</th>\n",
       "      <th>Longitude</th>\n",
       "      <th>Location</th>\n",
       "    </tr>\n",
       "  </thead>\n",
       "  <tbody>\n",
       "    <tr>\n",
       "      <th>0</th>\n",
       "      <td>4673626</td>\n",
       "      <td>HM274058</td>\n",
       "      <td>04/02/2006 01:00:00 PM</td>\n",
       "      <td>055XX N MANGO AVE</td>\n",
       "      <td>2825</td>\n",
       "      <td>OTHER OFFENSE</td>\n",
       "      <td>HARASSMENT BY TELEPHONE</td>\n",
       "      <td>RESIDENCE</td>\n",
       "      <td>False</td>\n",
       "      <td>False</td>\n",
       "      <td>...</td>\n",
       "      <td>45.0</td>\n",
       "      <td>11.0</td>\n",
       "      <td>26</td>\n",
       "      <td>1136872.0</td>\n",
       "      <td>1936499.0</td>\n",
       "      <td>2006</td>\n",
       "      <td>04/15/2016 08:55:02 AM</td>\n",
       "      <td>41.981913</td>\n",
       "      <td>-87.771996</td>\n",
       "      <td>(41.981912692, -87.771996382)</td>\n",
       "    </tr>\n",
       "    <tr>\n",
       "      <th>1</th>\n",
       "      <td>4673627</td>\n",
       "      <td>HM202199</td>\n",
       "      <td>02/26/2006 01:40:48 PM</td>\n",
       "      <td>065XX S RHODES AVE</td>\n",
       "      <td>2017</td>\n",
       "      <td>NARCOTICS</td>\n",
       "      <td>MANU/DELIVER:CRACK</td>\n",
       "      <td>SIDEWALK</td>\n",
       "      <td>True</td>\n",
       "      <td>False</td>\n",
       "      <td>...</td>\n",
       "      <td>20.0</td>\n",
       "      <td>42.0</td>\n",
       "      <td>18</td>\n",
       "      <td>1181027.0</td>\n",
       "      <td>1861693.0</td>\n",
       "      <td>2006</td>\n",
       "      <td>04/15/2016 08:55:02 AM</td>\n",
       "      <td>41.775733</td>\n",
       "      <td>-87.611920</td>\n",
       "      <td>(41.775732538, -87.611919814)</td>\n",
       "    </tr>\n",
       "    <tr>\n",
       "      <th>2</th>\n",
       "      <td>4673628</td>\n",
       "      <td>HM113861</td>\n",
       "      <td>01/08/2006 11:16:00 PM</td>\n",
       "      <td>013XX E 69TH ST</td>\n",
       "      <td>051A</td>\n",
       "      <td>ASSAULT</td>\n",
       "      <td>AGGRAVATED: HANDGUN</td>\n",
       "      <td>OTHER</td>\n",
       "      <td>False</td>\n",
       "      <td>False</td>\n",
       "      <td>...</td>\n",
       "      <td>5.0</td>\n",
       "      <td>69.0</td>\n",
       "      <td>04A</td>\n",
       "      <td>1186023.0</td>\n",
       "      <td>1859609.0</td>\n",
       "      <td>2006</td>\n",
       "      <td>04/15/2016 08:55:02 AM</td>\n",
       "      <td>41.769897</td>\n",
       "      <td>-87.593671</td>\n",
       "      <td>(41.769897392, -87.593670899)</td>\n",
       "    </tr>\n",
       "    <tr>\n",
       "      <th>3</th>\n",
       "      <td>4673629</td>\n",
       "      <td>HM274049</td>\n",
       "      <td>04/05/2006 06:45:00 PM</td>\n",
       "      <td>061XX W NEWPORT AVE</td>\n",
       "      <td>0460</td>\n",
       "      <td>BATTERY</td>\n",
       "      <td>SIMPLE</td>\n",
       "      <td>RESIDENCE</td>\n",
       "      <td>False</td>\n",
       "      <td>False</td>\n",
       "      <td>...</td>\n",
       "      <td>38.0</td>\n",
       "      <td>17.0</td>\n",
       "      <td>08B</td>\n",
       "      <td>1134772.0</td>\n",
       "      <td>1922299.0</td>\n",
       "      <td>2006</td>\n",
       "      <td>04/15/2016 08:55:02 AM</td>\n",
       "      <td>41.942984</td>\n",
       "      <td>-87.780057</td>\n",
       "      <td>(41.942984005, -87.780056951)</td>\n",
       "    </tr>\n",
       "    <tr>\n",
       "      <th>4</th>\n",
       "      <td>4673630</td>\n",
       "      <td>HM187120</td>\n",
       "      <td>02/17/2006 09:03:14 PM</td>\n",
       "      <td>037XX W 60TH ST</td>\n",
       "      <td>1811</td>\n",
       "      <td>NARCOTICS</td>\n",
       "      <td>POSS: CANNABIS 30GMS OR LESS</td>\n",
       "      <td>ALLEY</td>\n",
       "      <td>True</td>\n",
       "      <td>False</td>\n",
       "      <td>...</td>\n",
       "      <td>13.0</td>\n",
       "      <td>65.0</td>\n",
       "      <td>18</td>\n",
       "      <td>1152412.0</td>\n",
       "      <td>1864560.0</td>\n",
       "      <td>2006</td>\n",
       "      <td>04/15/2016 08:55:02 AM</td>\n",
       "      <td>41.784211</td>\n",
       "      <td>-87.716745</td>\n",
       "      <td>(41.784210853, -87.71674491)</td>\n",
       "    </tr>\n",
       "  </tbody>\n",
       "</table>\n",
       "<p>5 rows × 22 columns</p>\n",
       "</div>"
      ],
      "text/plain": [
       "        ID Case Number                    Date                Block  IUCR  \\\n",
       "0  4673626    HM274058  04/02/2006 01:00:00 PM    055XX N MANGO AVE  2825   \n",
       "1  4673627    HM202199  02/26/2006 01:40:48 PM   065XX S RHODES AVE  2017   \n",
       "2  4673628    HM113861  01/08/2006 11:16:00 PM      013XX E 69TH ST  051A   \n",
       "3  4673629    HM274049  04/05/2006 06:45:00 PM  061XX W NEWPORT AVE  0460   \n",
       "4  4673630    HM187120  02/17/2006 09:03:14 PM      037XX W 60TH ST  1811   \n",
       "\n",
       "    Primary Type                   Description Location Description  Arrest  \\\n",
       "0  OTHER OFFENSE       HARASSMENT BY TELEPHONE            RESIDENCE   False   \n",
       "1      NARCOTICS            MANU/DELIVER:CRACK             SIDEWALK    True   \n",
       "2        ASSAULT           AGGRAVATED: HANDGUN                OTHER   False   \n",
       "3        BATTERY                        SIMPLE            RESIDENCE   False   \n",
       "4      NARCOTICS  POSS: CANNABIS 30GMS OR LESS                ALLEY    True   \n",
       "\n",
       "   Domestic  ...  Ward  Community Area  FBI Code  X Coordinate Y Coordinate  \\\n",
       "0     False  ...  45.0            11.0        26     1136872.0    1936499.0   \n",
       "1     False  ...  20.0            42.0        18     1181027.0    1861693.0   \n",
       "2     False  ...   5.0            69.0       04A     1186023.0    1859609.0   \n",
       "3     False  ...  38.0            17.0       08B     1134772.0    1922299.0   \n",
       "4     False  ...  13.0            65.0        18     1152412.0    1864560.0   \n",
       "\n",
       "   Year              Updated On   Latitude  Longitude  \\\n",
       "0  2006  04/15/2016 08:55:02 AM  41.981913 -87.771996   \n",
       "1  2006  04/15/2016 08:55:02 AM  41.775733 -87.611920   \n",
       "2  2006  04/15/2016 08:55:02 AM  41.769897 -87.593671   \n",
       "3  2006  04/15/2016 08:55:02 AM  41.942984 -87.780057   \n",
       "4  2006  04/15/2016 08:55:02 AM  41.784211 -87.716745   \n",
       "\n",
       "                        Location  \n",
       "0  (41.981912692, -87.771996382)  \n",
       "1  (41.775732538, -87.611919814)  \n",
       "2  (41.769897392, -87.593670899)  \n",
       "3  (41.942984005, -87.780056951)  \n",
       "4   (41.784210853, -87.71674491)  \n",
       "\n",
       "[5 rows x 22 columns]"
      ]
     },
     "execution_count": 4,
     "metadata": {},
     "output_type": "execute_result"
    }
   ],
   "source": [
    "#importo il csv sulle analisi dei crimini dal 2005 al 2007\n",
    "Chicago_05_07 = pd.read_csv(PATH1, header=0, error_bad_lines = False)\n",
    "Chicago_05_07 = Chicago_05_07.iloc[:,1:]\n",
    "Chicago_05_07.head()"
   ]
  },
  {
   "cell_type": "code",
   "execution_count": 5,
   "metadata": {},
   "outputs": [
    {
     "name": "stdout",
     "output_type": "stream",
     "text": [
      "Il dataframe 'Chicago_05_07' contiene:\n",
      " 1,872,343 righe\n",
      " 22 colonne\n"
     ]
    }
   ],
   "source": [
    "print(\"Il dataframe 'Chicago_05_07' contiene:\\n\",format(Chicago_05_07.shape[0],',d'),\"righe\\n\",Chicago_05_07.shape[1],\"colonne\")"
   ]
  },
  {
   "cell_type": "code",
   "execution_count": 6,
   "metadata": {},
   "outputs": [
    {
     "data": {
      "text/plain": [
       "ID                        int64\n",
       "Case Number              object\n",
       "Date                     object\n",
       "Block                    object\n",
       "IUCR                     object\n",
       "Primary Type             object\n",
       "Description              object\n",
       "Location Description     object\n",
       "Arrest                     bool\n",
       "Domestic                   bool\n",
       "Beat                      int64\n",
       "District                float64\n",
       "Ward                    float64\n",
       "Community Area          float64\n",
       "FBI Code                 object\n",
       "X Coordinate            float64\n",
       "Y Coordinate            float64\n",
       "Year                      int64\n",
       "Updated On               object\n",
       "Latitude                float64\n",
       "Longitude               float64\n",
       "Location                 object\n",
       "dtype: object"
      ]
     },
     "execution_count": 6,
     "metadata": {},
     "output_type": "execute_result"
    }
   ],
   "source": [
    "#che tipo di dati ho? \n",
    "Chicago_05_07.dtypes"
   ]
  },
  {
   "cell_type": "markdown",
   "metadata": {},
   "source": [
    "Come prima cosa, per comodità personale rinomino le colonne in modo tale da eliminare lo spazio nel nome e trasformo nel formato corretto i campi contenenti una data."
   ]
  },
  {
   "cell_type": "code",
   "execution_count": 7,
   "metadata": {},
   "outputs": [
    {
     "data": {
      "text/plain": [
       "Index(['ID', 'Case_Number', 'Date', 'Block', 'IUCR', 'Primary_Type',\n",
       "       'Description', 'Location_Description', 'Arrest', 'Domestic', 'Beat',\n",
       "       'District', 'Ward', 'Community_Area', 'FBI_Code', 'X_Coordinate',\n",
       "       'Y_Coordinate', 'Year', 'Updated_On', 'Latitude', 'Longitude',\n",
       "       'Location'],\n",
       "      dtype='object')"
      ]
     },
     "execution_count": 7,
     "metadata": {},
     "output_type": "execute_result"
    }
   ],
   "source": [
    "#replace\n",
    "Chicago_05_07.columns=[c.replace( ' ', '_') for c in Chicago_05_07.columns]\n",
    "Chicago_05_07.columns"
   ]
  },
  {
   "cell_type": "code",
   "execution_count": 8,
   "metadata": {},
   "outputs": [
    {
     "data": {
      "text/plain": [
       "ID                               int64\n",
       "Case_Number                     object\n",
       "Date                    datetime64[ns]\n",
       "Block                           object\n",
       "IUCR                            object\n",
       "Primary_Type                    object\n",
       "Description                     object\n",
       "Location_Description            object\n",
       "Arrest                            bool\n",
       "Domestic                          bool\n",
       "Beat                             int64\n",
       "District                       float64\n",
       "Ward                           float64\n",
       "Community_Area                 float64\n",
       "FBI_Code                        object\n",
       "X_Coordinate                   float64\n",
       "Y_Coordinate                   float64\n",
       "Year                             int64\n",
       "Updated_On              datetime64[ns]\n",
       "Latitude                       float64\n",
       "Longitude                      float64\n",
       "Location                        object\n",
       "dtype: object"
      ]
     },
     "execution_count": 8,
     "metadata": {},
     "output_type": "execute_result"
    }
   ],
   "source": [
    "#trasformo i campi 'Date', 'Update_On' e 'Year' in datetime64\n",
    "Chicago_05_07.Date = pd.to_datetime(Chicago_05_07.Date, format='%m/%d/%Y %I:%M:%S %p')\n",
    "Chicago_05_07.Updated_On = pd.to_datetime(Chicago_05_07.Updated_On, format='%m/%d/%Y %I:%M:%S %p')\n",
    "#Chicago_05_07.Year = pd.to_datetime(Chicago_05_07.Year, format='%Y')\n",
    "Chicago_05_07.dtypes"
   ]
  },
  {
   "cell_type": "markdown",
   "metadata": {},
   "source": [
    "Di questo dataframe mi servono solo i valori relativi agli anni 2006 e 2007, quindi, verifico che il campo Year non contenga valori nulli e filtro il dataframe, in modo tale da visualizzare solo i record relativi ai due anni in oggetto. "
   ]
  },
  {
   "cell_type": "code",
   "execution_count": 9,
   "metadata": {},
   "outputs": [
    {
     "name": "stdout",
     "output_type": "stream",
     "text": [
      "Il dataframe non contiene valori nulli nel campo 'Year'.\n"
     ]
    }
   ],
   "source": [
    "y= Chicago_05_07.Year.isnull().sum()\n",
    "if y == 0 :\n",
    "    print(\"Il dataframe non contiene valori nulli nel campo 'Year'.\")\n",
    "else:\n",
    "    print(\"ATTENZIONE! Il dataframe contiene valori nulli per il campo 'Year'.\")\n",
    "        "
   ]
  },
  {
   "cell_type": "markdown",
   "metadata": {},
   "source": [
    "Procedo quindi a filtrare il mio dataframe."
   ]
  },
  {
   "cell_type": "code",
   "execution_count": 10,
   "metadata": {},
   "outputs": [
    {
     "name": "stdout",
     "output_type": "stream",
     "text": [
      "Il dataframe 'Chicago_05_07' ora contiene:\n",
      " 1,416,532 righe\n",
      " 22 colonne.\n"
     ]
    }
   ],
   "source": [
    "Chicago_05_07 = Chicago_05_07.loc[Chicago_05_07.Year >= 2006]\n",
    "print(\"Il dataframe 'Chicago_05_07' ora contiene:\\n\",format(Chicago_05_07.shape[0],',d'),\"righe\\n\",Chicago_05_07.shape[1],\"colonne.\")"
   ]
  },
  {
   "cell_type": "markdown",
   "metadata": {},
   "source": [
    "##### Trattamento valori duplicati"
   ]
  },
  {
   "cell_type": "markdown",
   "metadata": {},
   "source": [
    "Controllo che il dataframe non contenga righe duplicate e procedo all'analisi dei valori NaN."
   ]
  },
  {
   "cell_type": "code",
   "execution_count": 11,
   "metadata": {},
   "outputs": [],
   "source": [
    "#creo una funzione per il il controllo dei valori duplicati\n",
    "def check_duplicates(df):\n",
    "    x= df.duplicated().sum()\n",
    "    if x>0 :\n",
    "        df = df.drop_duplicates()\n",
    "        print(\"Sono stati elinimati\",x,\"record.\")\n",
    "        print(\"Il dataframe ora contiene:\\n\",format(df.shape[0],',d'),\"righe\\n\",df.shape[1],\"colonne\")\n",
    "    else:\n",
    "        print(\"Non ci sono record duplicati.\")\n",
    "    return df"
   ]
  },
  {
   "cell_type": "code",
   "execution_count": 12,
   "metadata": {},
   "outputs": [
    {
     "name": "stdout",
     "output_type": "stream",
     "text": [
      "Sono stati elinimati 531571 record.\n",
      "Il dataframe ora contiene:\n",
      " 884,961 righe\n",
      " 22 colonne\n"
     ]
    }
   ],
   "source": [
    "Chicago_05_07 = check_duplicates(Chicago_05_07)"
   ]
  },
  {
   "cell_type": "markdown",
   "metadata": {},
   "source": [
    "##### Trattamento valori nulli "
   ]
  },
  {
   "cell_type": "code",
   "execution_count": 13,
   "metadata": {},
   "outputs": [],
   "source": [
    "#funzione per check null\n",
    "def check_null(ds):\n",
    "    Null_Values = pd.DataFrame()\n",
    "    Null_Values['N° Valori NaN']= ds.isnull().sum()\n",
    "    Null_Values['% NaN su totale']= round((ds.isnull().sum()/(ds.shape[0])*100),2)\n",
    "    return Null_Values\n",
    "    "
   ]
  },
  {
   "cell_type": "code",
   "execution_count": 14,
   "metadata": {},
   "outputs": [
    {
     "data": {
      "text/html": [
       "<div>\n",
       "<style scoped>\n",
       "    .dataframe tbody tr th:only-of-type {\n",
       "        vertical-align: middle;\n",
       "    }\n",
       "\n",
       "    .dataframe tbody tr th {\n",
       "        vertical-align: top;\n",
       "    }\n",
       "\n",
       "    .dataframe thead th {\n",
       "        text-align: right;\n",
       "    }\n",
       "</style>\n",
       "<table border=\"1\" class=\"dataframe\">\n",
       "  <thead>\n",
       "    <tr style=\"text-align: right;\">\n",
       "      <th></th>\n",
       "      <th>N° Valori NaN</th>\n",
       "      <th>% NaN su totale</th>\n",
       "    </tr>\n",
       "  </thead>\n",
       "  <tbody>\n",
       "    <tr>\n",
       "      <th>ID</th>\n",
       "      <td>0</td>\n",
       "      <td>0.00</td>\n",
       "    </tr>\n",
       "    <tr>\n",
       "      <th>Case_Number</th>\n",
       "      <td>0</td>\n",
       "      <td>0.00</td>\n",
       "    </tr>\n",
       "    <tr>\n",
       "      <th>Date</th>\n",
       "      <td>0</td>\n",
       "      <td>0.00</td>\n",
       "    </tr>\n",
       "    <tr>\n",
       "      <th>Block</th>\n",
       "      <td>0</td>\n",
       "      <td>0.00</td>\n",
       "    </tr>\n",
       "    <tr>\n",
       "      <th>IUCR</th>\n",
       "      <td>0</td>\n",
       "      <td>0.00</td>\n",
       "    </tr>\n",
       "    <tr>\n",
       "      <th>Primary_Type</th>\n",
       "      <td>0</td>\n",
       "      <td>0.00</td>\n",
       "    </tr>\n",
       "    <tr>\n",
       "      <th>Description</th>\n",
       "      <td>0</td>\n",
       "      <td>0.00</td>\n",
       "    </tr>\n",
       "    <tr>\n",
       "      <th>Location_Description</th>\n",
       "      <td>14</td>\n",
       "      <td>0.00</td>\n",
       "    </tr>\n",
       "    <tr>\n",
       "      <th>Arrest</th>\n",
       "      <td>0</td>\n",
       "      <td>0.00</td>\n",
       "    </tr>\n",
       "    <tr>\n",
       "      <th>Domestic</th>\n",
       "      <td>0</td>\n",
       "      <td>0.00</td>\n",
       "    </tr>\n",
       "    <tr>\n",
       "      <th>Beat</th>\n",
       "      <td>0</td>\n",
       "      <td>0.00</td>\n",
       "    </tr>\n",
       "    <tr>\n",
       "      <th>District</th>\n",
       "      <td>3</td>\n",
       "      <td>0.00</td>\n",
       "    </tr>\n",
       "    <tr>\n",
       "      <th>Ward</th>\n",
       "      <td>8</td>\n",
       "      <td>0.00</td>\n",
       "    </tr>\n",
       "    <tr>\n",
       "      <th>Community_Area</th>\n",
       "      <td>207</td>\n",
       "      <td>0.02</td>\n",
       "    </tr>\n",
       "    <tr>\n",
       "      <th>FBI_Code</th>\n",
       "      <td>0</td>\n",
       "      <td>0.00</td>\n",
       "    </tr>\n",
       "    <tr>\n",
       "      <th>X_Coordinate</th>\n",
       "      <td>3727</td>\n",
       "      <td>0.42</td>\n",
       "    </tr>\n",
       "    <tr>\n",
       "      <th>Y_Coordinate</th>\n",
       "      <td>3727</td>\n",
       "      <td>0.42</td>\n",
       "    </tr>\n",
       "    <tr>\n",
       "      <th>Year</th>\n",
       "      <td>0</td>\n",
       "      <td>0.00</td>\n",
       "    </tr>\n",
       "    <tr>\n",
       "      <th>Updated_On</th>\n",
       "      <td>0</td>\n",
       "      <td>0.00</td>\n",
       "    </tr>\n",
       "    <tr>\n",
       "      <th>Latitude</th>\n",
       "      <td>3727</td>\n",
       "      <td>0.42</td>\n",
       "    </tr>\n",
       "    <tr>\n",
       "      <th>Longitude</th>\n",
       "      <td>3727</td>\n",
       "      <td>0.42</td>\n",
       "    </tr>\n",
       "    <tr>\n",
       "      <th>Location</th>\n",
       "      <td>3727</td>\n",
       "      <td>0.42</td>\n",
       "    </tr>\n",
       "  </tbody>\n",
       "</table>\n",
       "</div>"
      ],
      "text/plain": [
       "                      N° Valori NaN  % NaN su totale\n",
       "ID                                0             0.00\n",
       "Case_Number                       0             0.00\n",
       "Date                              0             0.00\n",
       "Block                             0             0.00\n",
       "IUCR                              0             0.00\n",
       "Primary_Type                      0             0.00\n",
       "Description                       0             0.00\n",
       "Location_Description             14             0.00\n",
       "Arrest                            0             0.00\n",
       "Domestic                          0             0.00\n",
       "Beat                              0             0.00\n",
       "District                          3             0.00\n",
       "Ward                              8             0.00\n",
       "Community_Area                  207             0.02\n",
       "FBI_Code                          0             0.00\n",
       "X_Coordinate                   3727             0.42\n",
       "Y_Coordinate                   3727             0.42\n",
       "Year                              0             0.00\n",
       "Updated_On                        0             0.00\n",
       "Latitude                       3727             0.42\n",
       "Longitude                      3727             0.42\n",
       "Location                       3727             0.42"
      ]
     },
     "execution_count": 14,
     "metadata": {},
     "output_type": "execute_result"
    }
   ],
   "source": [
    "check_null(Chicago_05_07)"
   ]
  },
  {
   "cell_type": "markdown",
   "metadata": {},
   "source": [
    "Non ci sono valori NaN da eliminare."
   ]
  },
  {
   "cell_type": "code",
   "execution_count": 15,
   "metadata": {},
   "outputs": [
    {
     "name": "stdout",
     "output_type": "stream",
     "text": [
      "Il dataframe 'Chicago_05_07' ora contiene:\n",
      " 881,022 righe\n",
      " 22 colonne.\n"
     ]
    }
   ],
   "source": [
    "#elimino i valori NaN\n",
    "Chicago_05_07= Chicago_05_07.dropna()\n",
    "print(\"Il dataframe 'Chicago_05_07' ora contiene:\\n\",format(Chicago_05_07.shape[0],',d'),\"righe\\n\",Chicago_05_07.shape[1],\"colonne.\")"
   ]
  },
  {
   "cell_type": "markdown",
   "metadata": {},
   "source": [
    "Ora che ho pulito il mio dataframe, ordino per data descrescente e resetto l'indice"
   ]
  },
  {
   "cell_type": "code",
   "execution_count": 16,
   "metadata": {},
   "outputs": [
    {
     "data": {
      "text/html": [
       "<div>\n",
       "<style scoped>\n",
       "    .dataframe tbody tr th:only-of-type {\n",
       "        vertical-align: middle;\n",
       "    }\n",
       "\n",
       "    .dataframe tbody tr th {\n",
       "        vertical-align: top;\n",
       "    }\n",
       "\n",
       "    .dataframe thead th {\n",
       "        text-align: right;\n",
       "    }\n",
       "</style>\n",
       "<table border=\"1\" class=\"dataframe\">\n",
       "  <thead>\n",
       "    <tr style=\"text-align: right;\">\n",
       "      <th></th>\n",
       "      <th>ID</th>\n",
       "      <th>Case_Number</th>\n",
       "      <th>Date</th>\n",
       "      <th>Block</th>\n",
       "      <th>IUCR</th>\n",
       "      <th>Primary_Type</th>\n",
       "      <th>Description</th>\n",
       "      <th>Location_Description</th>\n",
       "      <th>Arrest</th>\n",
       "      <th>Domestic</th>\n",
       "      <th>...</th>\n",
       "      <th>Ward</th>\n",
       "      <th>Community_Area</th>\n",
       "      <th>FBI_Code</th>\n",
       "      <th>X_Coordinate</th>\n",
       "      <th>Y_Coordinate</th>\n",
       "      <th>Year</th>\n",
       "      <th>Updated_On</th>\n",
       "      <th>Latitude</th>\n",
       "      <th>Longitude</th>\n",
       "      <th>Location</th>\n",
       "    </tr>\n",
       "  </thead>\n",
       "  <tbody>\n",
       "    <tr>\n",
       "      <th>0</th>\n",
       "      <td>4515022</td>\n",
       "      <td>HM103718</td>\n",
       "      <td>2006-01-01</td>\n",
       "      <td>014XX N LEAVITT ST</td>\n",
       "      <td>0810</td>\n",
       "      <td>THEFT</td>\n",
       "      <td>OVER $500</td>\n",
       "      <td>VEHICLE NON-COMMERCIAL</td>\n",
       "      <td>False</td>\n",
       "      <td>False</td>\n",
       "      <td>...</td>\n",
       "      <td>1.0</td>\n",
       "      <td>24.0</td>\n",
       "      <td>06</td>\n",
       "      <td>1161471.0</td>\n",
       "      <td>1909655.0</td>\n",
       "      <td>2006</td>\n",
       "      <td>2016-04-15 08:55:02</td>\n",
       "      <td>41.907773</td>\n",
       "      <td>-87.682277</td>\n",
       "      <td>(41.907773204, -87.682277478)</td>\n",
       "    </tr>\n",
       "    <tr>\n",
       "      <th>1</th>\n",
       "      <td>5190452</td>\n",
       "      <td>HM781618</td>\n",
       "      <td>2006-01-01</td>\n",
       "      <td>008XX N MAPLEWOOD AVE</td>\n",
       "      <td>0840</td>\n",
       "      <td>THEFT</td>\n",
       "      <td>FINANCIAL ID THEFT: OVER $300</td>\n",
       "      <td>OTHER</td>\n",
       "      <td>False</td>\n",
       "      <td>False</td>\n",
       "      <td>...</td>\n",
       "      <td>1.0</td>\n",
       "      <td>24.0</td>\n",
       "      <td>06</td>\n",
       "      <td>1159247.0</td>\n",
       "      <td>1905528.0</td>\n",
       "      <td>2006</td>\n",
       "      <td>2016-04-15 08:55:02</td>\n",
       "      <td>41.896494</td>\n",
       "      <td>-87.690561</td>\n",
       "      <td>(41.896494407, -87.690560868)</td>\n",
       "    </tr>\n",
       "    <tr>\n",
       "      <th>2</th>\n",
       "      <td>5192880</td>\n",
       "      <td>HM783360</td>\n",
       "      <td>2006-01-01</td>\n",
       "      <td>070XX S BENNETT AVE</td>\n",
       "      <td>0840</td>\n",
       "      <td>THEFT</td>\n",
       "      <td>FINANCIAL ID THEFT: OVER $300</td>\n",
       "      <td>OTHER</td>\n",
       "      <td>False</td>\n",
       "      <td>False</td>\n",
       "      <td>...</td>\n",
       "      <td>5.0</td>\n",
       "      <td>43.0</td>\n",
       "      <td>06</td>\n",
       "      <td>1190099.0</td>\n",
       "      <td>1858398.0</td>\n",
       "      <td>2006</td>\n",
       "      <td>2016-04-15 08:55:02</td>\n",
       "      <td>41.766477</td>\n",
       "      <td>-87.578769</td>\n",
       "      <td>(41.766477148, -87.578769217)</td>\n",
       "    </tr>\n",
       "    <tr>\n",
       "      <th>3</th>\n",
       "      <td>4788170</td>\n",
       "      <td>HM401329</td>\n",
       "      <td>2006-01-01</td>\n",
       "      <td>043XX W WILCOX ST</td>\n",
       "      <td>0840</td>\n",
       "      <td>THEFT</td>\n",
       "      <td>FINANCIAL ID THEFT: OVER $300</td>\n",
       "      <td>RESIDENCE</td>\n",
       "      <td>False</td>\n",
       "      <td>False</td>\n",
       "      <td>...</td>\n",
       "      <td>28.0</td>\n",
       "      <td>26.0</td>\n",
       "      <td>06</td>\n",
       "      <td>1147384.0</td>\n",
       "      <td>1898981.0</td>\n",
       "      <td>2006</td>\n",
       "      <td>2016-04-15 08:55:02</td>\n",
       "      <td>41.878764</td>\n",
       "      <td>-87.734300</td>\n",
       "      <td>(41.878764326, -87.734299722)</td>\n",
       "    </tr>\n",
       "    <tr>\n",
       "      <th>4</th>\n",
       "      <td>4557528</td>\n",
       "      <td>HM144526</td>\n",
       "      <td>2006-01-01</td>\n",
       "      <td>092XX S CLYDE AVE</td>\n",
       "      <td>0486</td>\n",
       "      <td>BATTERY</td>\n",
       "      <td>DOMESTIC BATTERY SIMPLE</td>\n",
       "      <td>RESIDENCE</td>\n",
       "      <td>False</td>\n",
       "      <td>False</td>\n",
       "      <td>...</td>\n",
       "      <td>7.0</td>\n",
       "      <td>48.0</td>\n",
       "      <td>08B</td>\n",
       "      <td>1191789.0</td>\n",
       "      <td>1844058.0</td>\n",
       "      <td>2006</td>\n",
       "      <td>2016-04-15 08:55:02</td>\n",
       "      <td>41.727086</td>\n",
       "      <td>-87.573039</td>\n",
       "      <td>(41.727086083, -87.573039267)</td>\n",
       "    </tr>\n",
       "  </tbody>\n",
       "</table>\n",
       "<p>5 rows × 22 columns</p>\n",
       "</div>"
      ],
      "text/plain": [
       "        ID Case_Number       Date                  Block  IUCR Primary_Type  \\\n",
       "0  4515022    HM103718 2006-01-01     014XX N LEAVITT ST  0810        THEFT   \n",
       "1  5190452    HM781618 2006-01-01  008XX N MAPLEWOOD AVE  0840        THEFT   \n",
       "2  5192880    HM783360 2006-01-01    070XX S BENNETT AVE  0840        THEFT   \n",
       "3  4788170    HM401329 2006-01-01      043XX W WILCOX ST  0840        THEFT   \n",
       "4  4557528    HM144526 2006-01-01      092XX S CLYDE AVE  0486      BATTERY   \n",
       "\n",
       "                     Description    Location_Description  Arrest  Domestic  \\\n",
       "0                      OVER $500  VEHICLE NON-COMMERCIAL   False     False   \n",
       "1  FINANCIAL ID THEFT: OVER $300                   OTHER   False     False   \n",
       "2  FINANCIAL ID THEFT: OVER $300                   OTHER   False     False   \n",
       "3  FINANCIAL ID THEFT: OVER $300               RESIDENCE   False     False   \n",
       "4        DOMESTIC BATTERY SIMPLE               RESIDENCE   False     False   \n",
       "\n",
       "   ...  Ward  Community_Area  FBI_Code  X_Coordinate Y_Coordinate  Year  \\\n",
       "0  ...   1.0            24.0        06     1161471.0    1909655.0  2006   \n",
       "1  ...   1.0            24.0        06     1159247.0    1905528.0  2006   \n",
       "2  ...   5.0            43.0        06     1190099.0    1858398.0  2006   \n",
       "3  ...  28.0            26.0        06     1147384.0    1898981.0  2006   \n",
       "4  ...   7.0            48.0       08B     1191789.0    1844058.0  2006   \n",
       "\n",
       "           Updated_On   Latitude  Longitude                       Location  \n",
       "0 2016-04-15 08:55:02  41.907773 -87.682277  (41.907773204, -87.682277478)  \n",
       "1 2016-04-15 08:55:02  41.896494 -87.690561  (41.896494407, -87.690560868)  \n",
       "2 2016-04-15 08:55:02  41.766477 -87.578769  (41.766477148, -87.578769217)  \n",
       "3 2016-04-15 08:55:02  41.878764 -87.734300  (41.878764326, -87.734299722)  \n",
       "4 2016-04-15 08:55:02  41.727086 -87.573039  (41.727086083, -87.573039267)  \n",
       "\n",
       "[5 rows x 22 columns]"
      ]
     },
     "execution_count": 16,
     "metadata": {},
     "output_type": "execute_result"
    }
   ],
   "source": [
    "Chicago_05_07 = Chicago_05_07.sort_values(by=['Date']).reset_index(drop=True)\n",
    "Chicago_05_07.head()"
   ]
  },
  {
   "cell_type": "markdown",
   "metadata": {},
   "source": [
    "<a id='2008-2011'></a>\n",
    "#### Crimini relativi agli anni 2008- 2011"
   ]
  },
  {
   "cell_type": "markdown",
   "metadata": {},
   "source": [
    "Importo ora il secondo csv relativo ai dati dal 2008 al 2011"
   ]
  },
  {
   "cell_type": "code",
   "execution_count": 17,
   "metadata": {},
   "outputs": [
    {
     "name": "stderr",
     "output_type": "stream",
     "text": [
      "b'Skipping line 1149094: expected 23 fields, saw 41\\n'\n"
     ]
    },
    {
     "data": {
      "text/html": [
       "<div>\n",
       "<style scoped>\n",
       "    .dataframe tbody tr th:only-of-type {\n",
       "        vertical-align: middle;\n",
       "    }\n",
       "\n",
       "    .dataframe tbody tr th {\n",
       "        vertical-align: top;\n",
       "    }\n",
       "\n",
       "    .dataframe thead th {\n",
       "        text-align: right;\n",
       "    }\n",
       "</style>\n",
       "<table border=\"1\" class=\"dataframe\">\n",
       "  <thead>\n",
       "    <tr style=\"text-align: right;\">\n",
       "      <th></th>\n",
       "      <th>ID</th>\n",
       "      <th>Case Number</th>\n",
       "      <th>Date</th>\n",
       "      <th>Block</th>\n",
       "      <th>IUCR</th>\n",
       "      <th>Primary Type</th>\n",
       "      <th>Description</th>\n",
       "      <th>Location Description</th>\n",
       "      <th>Arrest</th>\n",
       "      <th>Domestic</th>\n",
       "      <th>...</th>\n",
       "      <th>Ward</th>\n",
       "      <th>Community Area</th>\n",
       "      <th>FBI Code</th>\n",
       "      <th>X Coordinate</th>\n",
       "      <th>Y Coordinate</th>\n",
       "      <th>Year</th>\n",
       "      <th>Updated On</th>\n",
       "      <th>Latitude</th>\n",
       "      <th>Longitude</th>\n",
       "      <th>Location</th>\n",
       "    </tr>\n",
       "  </thead>\n",
       "  <tbody>\n",
       "    <tr>\n",
       "      <th>0</th>\n",
       "      <td>4785</td>\n",
       "      <td>HP610824</td>\n",
       "      <td>10/07/2008 12:39:00 PM</td>\n",
       "      <td>000XX E 75TH ST</td>\n",
       "      <td>0110</td>\n",
       "      <td>HOMICIDE</td>\n",
       "      <td>FIRST DEGREE MURDER</td>\n",
       "      <td>ALLEY</td>\n",
       "      <td>True</td>\n",
       "      <td>False</td>\n",
       "      <td>...</td>\n",
       "      <td>6.0</td>\n",
       "      <td>69.0</td>\n",
       "      <td>01A</td>\n",
       "      <td>1178207.0</td>\n",
       "      <td>1855308.0</td>\n",
       "      <td>2008</td>\n",
       "      <td>08/17/2015 03:03:40 PM</td>\n",
       "      <td>41.758276</td>\n",
       "      <td>-87.622451</td>\n",
       "      <td>(41.758275857, -87.622451031)</td>\n",
       "    </tr>\n",
       "    <tr>\n",
       "      <th>1</th>\n",
       "      <td>4786</td>\n",
       "      <td>HP616595</td>\n",
       "      <td>10/09/2008 03:30:00 AM</td>\n",
       "      <td>048XX W POLK ST</td>\n",
       "      <td>0110</td>\n",
       "      <td>HOMICIDE</td>\n",
       "      <td>FIRST DEGREE MURDER</td>\n",
       "      <td>STREET</td>\n",
       "      <td>True</td>\n",
       "      <td>False</td>\n",
       "      <td>...</td>\n",
       "      <td>24.0</td>\n",
       "      <td>25.0</td>\n",
       "      <td>01A</td>\n",
       "      <td>1144200.0</td>\n",
       "      <td>1895857.0</td>\n",
       "      <td>2008</td>\n",
       "      <td>08/17/2015 03:03:40 PM</td>\n",
       "      <td>41.870252</td>\n",
       "      <td>-87.746069</td>\n",
       "      <td>(41.87025207, -87.746069362)</td>\n",
       "    </tr>\n",
       "    <tr>\n",
       "      <th>2</th>\n",
       "      <td>4787</td>\n",
       "      <td>HP616904</td>\n",
       "      <td>10/09/2008 08:35:00 AM</td>\n",
       "      <td>030XX W MANN DR</td>\n",
       "      <td>0110</td>\n",
       "      <td>HOMICIDE</td>\n",
       "      <td>FIRST DEGREE MURDER</td>\n",
       "      <td>PARK PROPERTY</td>\n",
       "      <td>False</td>\n",
       "      <td>False</td>\n",
       "      <td>...</td>\n",
       "      <td>18.0</td>\n",
       "      <td>66.0</td>\n",
       "      <td>01A</td>\n",
       "      <td>1157314.0</td>\n",
       "      <td>1859778.0</td>\n",
       "      <td>2008</td>\n",
       "      <td>08/17/2015 03:03:40 PM</td>\n",
       "      <td>41.770990</td>\n",
       "      <td>-87.698901</td>\n",
       "      <td>(41.770990476, -87.698901469)</td>\n",
       "    </tr>\n",
       "    <tr>\n",
       "      <th>3</th>\n",
       "      <td>4788</td>\n",
       "      <td>HP618616</td>\n",
       "      <td>10/10/2008 02:33:00 AM</td>\n",
       "      <td>052XX W CHICAGO AVE</td>\n",
       "      <td>0110</td>\n",
       "      <td>HOMICIDE</td>\n",
       "      <td>FIRST DEGREE MURDER</td>\n",
       "      <td>RESTAURANT</td>\n",
       "      <td>False</td>\n",
       "      <td>False</td>\n",
       "      <td>...</td>\n",
       "      <td>37.0</td>\n",
       "      <td>25.0</td>\n",
       "      <td>01A</td>\n",
       "      <td>1141065.0</td>\n",
       "      <td>1904824.0</td>\n",
       "      <td>2008</td>\n",
       "      <td>08/17/2015 03:03:40 PM</td>\n",
       "      <td>41.894917</td>\n",
       "      <td>-87.757358</td>\n",
       "      <td>(41.894916924, -87.757358147)</td>\n",
       "    </tr>\n",
       "    <tr>\n",
       "      <th>4</th>\n",
       "      <td>4789</td>\n",
       "      <td>HP619020</td>\n",
       "      <td>10/10/2008 12:50:00 PM</td>\n",
       "      <td>026XX S HOMAN AVE</td>\n",
       "      <td>0110</td>\n",
       "      <td>HOMICIDE</td>\n",
       "      <td>FIRST DEGREE MURDER</td>\n",
       "      <td>GARAGE</td>\n",
       "      <td>False</td>\n",
       "      <td>True</td>\n",
       "      <td>...</td>\n",
       "      <td>22.0</td>\n",
       "      <td>30.0</td>\n",
       "      <td>01A</td>\n",
       "      <td>1154123.0</td>\n",
       "      <td>1886297.0</td>\n",
       "      <td>2008</td>\n",
       "      <td>08/17/2015 03:03:40 PM</td>\n",
       "      <td>41.843826</td>\n",
       "      <td>-87.709893</td>\n",
       "      <td>(41.843826272, -87.709893465)</td>\n",
       "    </tr>\n",
       "  </tbody>\n",
       "</table>\n",
       "<p>5 rows × 22 columns</p>\n",
       "</div>"
      ],
      "text/plain": [
       "     ID Case Number                    Date                Block  IUCR  \\\n",
       "0  4785    HP610824  10/07/2008 12:39:00 PM      000XX E 75TH ST  0110   \n",
       "1  4786    HP616595  10/09/2008 03:30:00 AM      048XX W POLK ST  0110   \n",
       "2  4787    HP616904  10/09/2008 08:35:00 AM      030XX W MANN DR  0110   \n",
       "3  4788    HP618616  10/10/2008 02:33:00 AM  052XX W CHICAGO AVE  0110   \n",
       "4  4789    HP619020  10/10/2008 12:50:00 PM    026XX S HOMAN AVE  0110   \n",
       "\n",
       "  Primary Type          Description Location Description  Arrest  Domestic  \\\n",
       "0     HOMICIDE  FIRST DEGREE MURDER                ALLEY    True     False   \n",
       "1     HOMICIDE  FIRST DEGREE MURDER               STREET    True     False   \n",
       "2     HOMICIDE  FIRST DEGREE MURDER        PARK PROPERTY   False     False   \n",
       "3     HOMICIDE  FIRST DEGREE MURDER           RESTAURANT   False     False   \n",
       "4     HOMICIDE  FIRST DEGREE MURDER               GARAGE   False      True   \n",
       "\n",
       "   ...  Ward  Community Area  FBI Code  X Coordinate Y Coordinate  Year  \\\n",
       "0  ...   6.0            69.0       01A     1178207.0    1855308.0  2008   \n",
       "1  ...  24.0            25.0       01A     1144200.0    1895857.0  2008   \n",
       "2  ...  18.0            66.0       01A     1157314.0    1859778.0  2008   \n",
       "3  ...  37.0            25.0       01A     1141065.0    1904824.0  2008   \n",
       "4  ...  22.0            30.0       01A     1154123.0    1886297.0  2008   \n",
       "\n",
       "               Updated On   Latitude  Longitude                       Location  \n",
       "0  08/17/2015 03:03:40 PM  41.758276 -87.622451  (41.758275857, -87.622451031)  \n",
       "1  08/17/2015 03:03:40 PM  41.870252 -87.746069   (41.87025207, -87.746069362)  \n",
       "2  08/17/2015 03:03:40 PM  41.770990 -87.698901  (41.770990476, -87.698901469)  \n",
       "3  08/17/2015 03:03:40 PM  41.894917 -87.757358  (41.894916924, -87.757358147)  \n",
       "4  08/17/2015 03:03:40 PM  41.843826 -87.709893  (41.843826272, -87.709893465)  \n",
       "\n",
       "[5 rows x 22 columns]"
      ]
     },
     "execution_count": 17,
     "metadata": {},
     "output_type": "execute_result"
    }
   ],
   "source": [
    "#importo il csv sulle analisi dei crimini dal 2008 al 2011\n",
    "Chicago_08_11 = pd.read_csv(PATH2, header=0, error_bad_lines = False)\n",
    "Chicago_08_11 = Chicago_08_11.iloc[:,1:]\n",
    "Chicago_08_11.head()"
   ]
  },
  {
   "cell_type": "code",
   "execution_count": 18,
   "metadata": {},
   "outputs": [
    {
     "name": "stdout",
     "output_type": "stream",
     "text": [
      "Il dataframe 'Chicago_08_11' contiene:\n",
      " 2,688,710 righe\n",
      " 22 colonne\n"
     ]
    }
   ],
   "source": [
    "print(\"Il dataframe 'Chicago_08_11' contiene:\\n\",format(Chicago_08_11.shape[0],',d'),\"righe\\n\",Chicago_08_11.shape[1],\"colonne\")"
   ]
  },
  {
   "cell_type": "code",
   "execution_count": 19,
   "metadata": {},
   "outputs": [
    {
     "data": {
      "text/plain": [
       "ID                        int64\n",
       "Case Number              object\n",
       "Date                     object\n",
       "Block                    object\n",
       "IUCR                     object\n",
       "Primary Type             object\n",
       "Description              object\n",
       "Location Description     object\n",
       "Arrest                     bool\n",
       "Domestic                   bool\n",
       "Beat                      int64\n",
       "District                float64\n",
       "Ward                    float64\n",
       "Community Area          float64\n",
       "FBI Code                 object\n",
       "X Coordinate            float64\n",
       "Y Coordinate            float64\n",
       "Year                      int64\n",
       "Updated On               object\n",
       "Latitude                float64\n",
       "Longitude               float64\n",
       "Location                 object\n",
       "dtype: object"
      ]
     },
     "execution_count": 19,
     "metadata": {},
     "output_type": "execute_result"
    }
   ],
   "source": [
    "#che tipo di dati ho? \n",
    "Chicago_08_11.dtypes"
   ]
  },
  {
   "cell_type": "code",
   "execution_count": 20,
   "metadata": {},
   "outputs": [
    {
     "data": {
      "text/plain": [
       "Index(['ID', 'Case_Number', 'Date', 'Block', 'IUCR', 'Primary_Type',\n",
       "       'Description', 'Location_Description', 'Arrest', 'Domestic', 'Beat',\n",
       "       'District', 'Ward', 'Community_Area', 'FBI_Code', 'X_Coordinate',\n",
       "       'Y_Coordinate', 'Year', 'Updated_On', 'Latitude', 'Longitude',\n",
       "       'Location'],\n",
       "      dtype='object')"
      ]
     },
     "execution_count": 20,
     "metadata": {},
     "output_type": "execute_result"
    }
   ],
   "source": [
    "#funzione replace\n",
    "Chicago_08_11.columns=[c.replace( ' ', '_') for c in Chicago_08_11.columns]\n",
    "Chicago_08_11.columns"
   ]
  },
  {
   "cell_type": "code",
   "execution_count": 21,
   "metadata": {},
   "outputs": [
    {
     "data": {
      "text/plain": [
       "ID                               int64\n",
       "Case_Number                     object\n",
       "Date                    datetime64[ns]\n",
       "Block                           object\n",
       "IUCR                            object\n",
       "Primary_Type                    object\n",
       "Description                     object\n",
       "Location_Description            object\n",
       "Arrest                            bool\n",
       "Domestic                          bool\n",
       "Beat                             int64\n",
       "District                       float64\n",
       "Ward                           float64\n",
       "Community_Area                 float64\n",
       "FBI_Code                        object\n",
       "X_Coordinate                   float64\n",
       "Y_Coordinate                   float64\n",
       "Year                             int64\n",
       "Updated_On              datetime64[ns]\n",
       "Latitude                       float64\n",
       "Longitude                      float64\n",
       "Location                        object\n",
       "dtype: object"
      ]
     },
     "execution_count": 21,
     "metadata": {},
     "output_type": "execute_result"
    }
   ],
   "source": [
    "#trasformo i campi 'Date' e 'Update_On' da object a datetime64\n",
    "Chicago_08_11.Date = pd.to_datetime(Chicago_08_11.Date, format='%m/%d/%Y %I:%M:%S %p')\n",
    "Chicago_08_11.Updated_On = pd.to_datetime(Chicago_08_11.Updated_On, format='%m/%d/%Y %I:%M:%S %p')\n",
    "#Chicago_08_11.Year = pd.to_datetime(Chicago_08_11.Year, format='%Y')\n",
    "Chicago_08_11.dtypes"
   ]
  },
  {
   "cell_type": "markdown",
   "metadata": {},
   "source": [
    "##### Trattamento valori duplicati"
   ]
  },
  {
   "cell_type": "markdown",
   "metadata": {},
   "source": [
    "Controllo che il dataframe non contenga righe duplicati."
   ]
  },
  {
   "cell_type": "code",
   "execution_count": 22,
   "metadata": {},
   "outputs": [
    {
     "name": "stdout",
     "output_type": "stream",
     "text": [
      "Sono stati elinimati 1147495 record.\n",
      "Il dataframe ora contiene:\n",
      " 1,541,215 righe\n",
      " 22 colonne\n"
     ]
    }
   ],
   "source": [
    "Chicago_08_11= check_duplicates(Chicago_08_11)"
   ]
  },
  {
   "cell_type": "markdown",
   "metadata": {},
   "source": [
    "##### Trattamento valori nulli "
   ]
  },
  {
   "cell_type": "code",
   "execution_count": 23,
   "metadata": {},
   "outputs": [
    {
     "data": {
      "text/html": [
       "<div>\n",
       "<style scoped>\n",
       "    .dataframe tbody tr th:only-of-type {\n",
       "        vertical-align: middle;\n",
       "    }\n",
       "\n",
       "    .dataframe tbody tr th {\n",
       "        vertical-align: top;\n",
       "    }\n",
       "\n",
       "    .dataframe thead th {\n",
       "        text-align: right;\n",
       "    }\n",
       "</style>\n",
       "<table border=\"1\" class=\"dataframe\">\n",
       "  <thead>\n",
       "    <tr style=\"text-align: right;\">\n",
       "      <th></th>\n",
       "      <th>N° Valori NaN</th>\n",
       "      <th>% NaN su totale</th>\n",
       "    </tr>\n",
       "  </thead>\n",
       "  <tbody>\n",
       "    <tr>\n",
       "      <th>ID</th>\n",
       "      <td>0</td>\n",
       "      <td>0.00</td>\n",
       "    </tr>\n",
       "    <tr>\n",
       "      <th>Case_Number</th>\n",
       "      <td>3</td>\n",
       "      <td>0.00</td>\n",
       "    </tr>\n",
       "    <tr>\n",
       "      <th>Date</th>\n",
       "      <td>0</td>\n",
       "      <td>0.00</td>\n",
       "    </tr>\n",
       "    <tr>\n",
       "      <th>Block</th>\n",
       "      <td>0</td>\n",
       "      <td>0.00</td>\n",
       "    </tr>\n",
       "    <tr>\n",
       "      <th>IUCR</th>\n",
       "      <td>0</td>\n",
       "      <td>0.00</td>\n",
       "    </tr>\n",
       "    <tr>\n",
       "      <th>Primary_Type</th>\n",
       "      <td>0</td>\n",
       "      <td>0.00</td>\n",
       "    </tr>\n",
       "    <tr>\n",
       "      <th>Description</th>\n",
       "      <td>0</td>\n",
       "      <td>0.00</td>\n",
       "    </tr>\n",
       "    <tr>\n",
       "      <th>Location_Description</th>\n",
       "      <td>274</td>\n",
       "      <td>0.02</td>\n",
       "    </tr>\n",
       "    <tr>\n",
       "      <th>Arrest</th>\n",
       "      <td>0</td>\n",
       "      <td>0.00</td>\n",
       "    </tr>\n",
       "    <tr>\n",
       "      <th>Domestic</th>\n",
       "      <td>0</td>\n",
       "      <td>0.00</td>\n",
       "    </tr>\n",
       "    <tr>\n",
       "      <th>Beat</th>\n",
       "      <td>0</td>\n",
       "      <td>0.00</td>\n",
       "    </tr>\n",
       "    <tr>\n",
       "      <th>District</th>\n",
       "      <td>42</td>\n",
       "      <td>0.00</td>\n",
       "    </tr>\n",
       "    <tr>\n",
       "      <th>Ward</th>\n",
       "      <td>39</td>\n",
       "      <td>0.00</td>\n",
       "    </tr>\n",
       "    <tr>\n",
       "      <th>Community_Area</th>\n",
       "      <td>829</td>\n",
       "      <td>0.05</td>\n",
       "    </tr>\n",
       "    <tr>\n",
       "      <th>FBI_Code</th>\n",
       "      <td>0</td>\n",
       "      <td>0.00</td>\n",
       "    </tr>\n",
       "    <tr>\n",
       "      <th>X_Coordinate</th>\n",
       "      <td>15653</td>\n",
       "      <td>1.02</td>\n",
       "    </tr>\n",
       "    <tr>\n",
       "      <th>Y_Coordinate</th>\n",
       "      <td>15653</td>\n",
       "      <td>1.02</td>\n",
       "    </tr>\n",
       "    <tr>\n",
       "      <th>Year</th>\n",
       "      <td>0</td>\n",
       "      <td>0.00</td>\n",
       "    </tr>\n",
       "    <tr>\n",
       "      <th>Updated_On</th>\n",
       "      <td>0</td>\n",
       "      <td>0.00</td>\n",
       "    </tr>\n",
       "    <tr>\n",
       "      <th>Latitude</th>\n",
       "      <td>15653</td>\n",
       "      <td>1.02</td>\n",
       "    </tr>\n",
       "    <tr>\n",
       "      <th>Longitude</th>\n",
       "      <td>15653</td>\n",
       "      <td>1.02</td>\n",
       "    </tr>\n",
       "    <tr>\n",
       "      <th>Location</th>\n",
       "      <td>15653</td>\n",
       "      <td>1.02</td>\n",
       "    </tr>\n",
       "  </tbody>\n",
       "</table>\n",
       "</div>"
      ],
      "text/plain": [
       "                      N° Valori NaN  % NaN su totale\n",
       "ID                                0             0.00\n",
       "Case_Number                       3             0.00\n",
       "Date                              0             0.00\n",
       "Block                             0             0.00\n",
       "IUCR                              0             0.00\n",
       "Primary_Type                      0             0.00\n",
       "Description                       0             0.00\n",
       "Location_Description            274             0.02\n",
       "Arrest                            0             0.00\n",
       "Domestic                          0             0.00\n",
       "Beat                              0             0.00\n",
       "District                         42             0.00\n",
       "Ward                             39             0.00\n",
       "Community_Area                  829             0.05\n",
       "FBI_Code                          0             0.00\n",
       "X_Coordinate                  15653             1.02\n",
       "Y_Coordinate                  15653             1.02\n",
       "Year                              0             0.00\n",
       "Updated_On                        0             0.00\n",
       "Latitude                      15653             1.02\n",
       "Longitude                     15653             1.02\n",
       "Location                      15653             1.02"
      ]
     },
     "execution_count": 23,
     "metadata": {},
     "output_type": "execute_result"
    }
   ],
   "source": [
    "check_null(Chicago_08_11)"
   ]
  },
  {
   "cell_type": "markdown",
   "metadata": {},
   "source": [
    "Decido di eliminare le righe contenenti valori Nulli."
   ]
  },
  {
   "cell_type": "code",
   "execution_count": 24,
   "metadata": {},
   "outputs": [
    {
     "name": "stdout",
     "output_type": "stream",
     "text": [
      "Il dataframe 'Chicago_08_11' ora contiene:\n",
      " 1,524,499 righe\n",
      " 22 colonne.\n"
     ]
    }
   ],
   "source": [
    "#elimino i valori NaN\n",
    "Chicago_08_11= Chicago_08_11.dropna()\n",
    "print(\"Il dataframe 'Chicago_08_11' ora contiene:\\n\",format(Chicago_08_11.shape[0],',d'),\"righe\\n\",Chicago_08_11.shape[1],\"colonne.\")"
   ]
  },
  {
   "cell_type": "code",
   "execution_count": 25,
   "metadata": {},
   "outputs": [
    {
     "data": {
      "text/html": [
       "<div>\n",
       "<style scoped>\n",
       "    .dataframe tbody tr th:only-of-type {\n",
       "        vertical-align: middle;\n",
       "    }\n",
       "\n",
       "    .dataframe tbody tr th {\n",
       "        vertical-align: top;\n",
       "    }\n",
       "\n",
       "    .dataframe thead th {\n",
       "        text-align: right;\n",
       "    }\n",
       "</style>\n",
       "<table border=\"1\" class=\"dataframe\">\n",
       "  <thead>\n",
       "    <tr style=\"text-align: right;\">\n",
       "      <th></th>\n",
       "      <th>ID</th>\n",
       "      <th>Case_Number</th>\n",
       "      <th>Date</th>\n",
       "      <th>Block</th>\n",
       "      <th>IUCR</th>\n",
       "      <th>Primary_Type</th>\n",
       "      <th>Description</th>\n",
       "      <th>Location_Description</th>\n",
       "      <th>Arrest</th>\n",
       "      <th>Domestic</th>\n",
       "      <th>...</th>\n",
       "      <th>Ward</th>\n",
       "      <th>Community_Area</th>\n",
       "      <th>FBI_Code</th>\n",
       "      <th>X_Coordinate</th>\n",
       "      <th>Y_Coordinate</th>\n",
       "      <th>Year</th>\n",
       "      <th>Updated_On</th>\n",
       "      <th>Latitude</th>\n",
       "      <th>Longitude</th>\n",
       "      <th>Location</th>\n",
       "    </tr>\n",
       "  </thead>\n",
       "  <tbody>\n",
       "    <tr>\n",
       "      <th>0</th>\n",
       "      <td>6144015</td>\n",
       "      <td>HP235161</td>\n",
       "      <td>2008-01-01</td>\n",
       "      <td>006XX E 60TH ST</td>\n",
       "      <td>0890</td>\n",
       "      <td>THEFT</td>\n",
       "      <td>FROM BUILDING</td>\n",
       "      <td>APARTMENT</td>\n",
       "      <td>False</td>\n",
       "      <td>False</td>\n",
       "      <td>...</td>\n",
       "      <td>20.0</td>\n",
       "      <td>42.0</td>\n",
       "      <td>06</td>\n",
       "      <td>1181409.0</td>\n",
       "      <td>1865364.0</td>\n",
       "      <td>2008</td>\n",
       "      <td>2016-02-04 06:33:39</td>\n",
       "      <td>41.785797</td>\n",
       "      <td>-87.610406</td>\n",
       "      <td>(41.785797307, -87.610406313)</td>\n",
       "    </tr>\n",
       "    <tr>\n",
       "      <th>1</th>\n",
       "      <td>6210660</td>\n",
       "      <td>HP298962</td>\n",
       "      <td>2008-01-01</td>\n",
       "      <td>095XX S CONSTANCE AVE</td>\n",
       "      <td>0840</td>\n",
       "      <td>THEFT</td>\n",
       "      <td>FINANCIAL ID THEFT: OVER $300</td>\n",
       "      <td>RESIDENCE</td>\n",
       "      <td>False</td>\n",
       "      <td>True</td>\n",
       "      <td>...</td>\n",
       "      <td>7.0</td>\n",
       "      <td>51.0</td>\n",
       "      <td>06</td>\n",
       "      <td>1190183.0</td>\n",
       "      <td>1842108.0</td>\n",
       "      <td>2008</td>\n",
       "      <td>2016-02-04 06:33:39</td>\n",
       "      <td>41.721774</td>\n",
       "      <td>-87.578985</td>\n",
       "      <td>(41.721773858, -87.578984755)</td>\n",
       "    </tr>\n",
       "    <tr>\n",
       "      <th>2</th>\n",
       "      <td>6062239</td>\n",
       "      <td>HP162669</td>\n",
       "      <td>2008-01-01</td>\n",
       "      <td>010XX N STATE ST</td>\n",
       "      <td>0890</td>\n",
       "      <td>THEFT</td>\n",
       "      <td>FROM BUILDING</td>\n",
       "      <td>BAR OR TAVERN</td>\n",
       "      <td>False</td>\n",
       "      <td>False</td>\n",
       "      <td>...</td>\n",
       "      <td>42.0</td>\n",
       "      <td>8.0</td>\n",
       "      <td>06</td>\n",
       "      <td>1176175.0</td>\n",
       "      <td>1907421.0</td>\n",
       "      <td>2008</td>\n",
       "      <td>2016-02-04 06:33:39</td>\n",
       "      <td>41.901324</td>\n",
       "      <td>-87.628331</td>\n",
       "      <td>(41.90132405, -87.628330712)</td>\n",
       "    </tr>\n",
       "    <tr>\n",
       "      <th>3</th>\n",
       "      <td>6211723</td>\n",
       "      <td>HP299683</td>\n",
       "      <td>2008-01-01</td>\n",
       "      <td>106XX S STATE LINE RD</td>\n",
       "      <td>0840</td>\n",
       "      <td>THEFT</td>\n",
       "      <td>FINANCIAL ID THEFT: OVER $300</td>\n",
       "      <td>RESIDENCE</td>\n",
       "      <td>False</td>\n",
       "      <td>False</td>\n",
       "      <td>...</td>\n",
       "      <td>10.0</td>\n",
       "      <td>52.0</td>\n",
       "      <td>06</td>\n",
       "      <td>1205116.0</td>\n",
       "      <td>1835043.0</td>\n",
       "      <td>2008</td>\n",
       "      <td>2016-02-04 06:33:39</td>\n",
       "      <td>41.702015</td>\n",
       "      <td>-87.524532</td>\n",
       "      <td>(41.7020149, -87.524532163)</td>\n",
       "    </tr>\n",
       "    <tr>\n",
       "      <th>4</th>\n",
       "      <td>6226997</td>\n",
       "      <td>HP313184</td>\n",
       "      <td>2008-01-01</td>\n",
       "      <td>081XX S DREXEL AVE</td>\n",
       "      <td>1750</td>\n",
       "      <td>OFFENSE INVOLVING CHILDREN</td>\n",
       "      <td>CHILD ABUSE</td>\n",
       "      <td>RESIDENCE</td>\n",
       "      <td>False</td>\n",
       "      <td>False</td>\n",
       "      <td>...</td>\n",
       "      <td>8.0</td>\n",
       "      <td>44.0</td>\n",
       "      <td>20</td>\n",
       "      <td>1183647.0</td>\n",
       "      <td>1851316.0</td>\n",
       "      <td>2008</td>\n",
       "      <td>2016-02-04 06:33:39</td>\n",
       "      <td>41.747196</td>\n",
       "      <td>-87.602638</td>\n",
       "      <td>(41.74719631, -87.602638387)</td>\n",
       "    </tr>\n",
       "  </tbody>\n",
       "</table>\n",
       "<p>5 rows × 22 columns</p>\n",
       "</div>"
      ],
      "text/plain": [
       "        ID Case_Number       Date                  Block  IUCR  \\\n",
       "0  6144015    HP235161 2008-01-01        006XX E 60TH ST  0890   \n",
       "1  6210660    HP298962 2008-01-01  095XX S CONSTANCE AVE  0840   \n",
       "2  6062239    HP162669 2008-01-01       010XX N STATE ST  0890   \n",
       "3  6211723    HP299683 2008-01-01  106XX S STATE LINE RD  0840   \n",
       "4  6226997    HP313184 2008-01-01     081XX S DREXEL AVE  1750   \n",
       "\n",
       "                 Primary_Type                    Description  \\\n",
       "0                       THEFT                  FROM BUILDING   \n",
       "1                       THEFT  FINANCIAL ID THEFT: OVER $300   \n",
       "2                       THEFT                  FROM BUILDING   \n",
       "3                       THEFT  FINANCIAL ID THEFT: OVER $300   \n",
       "4  OFFENSE INVOLVING CHILDREN                    CHILD ABUSE   \n",
       "\n",
       "  Location_Description  Arrest  Domestic  ...  Ward  Community_Area  FBI_Code  \\\n",
       "0            APARTMENT   False     False  ...  20.0            42.0        06   \n",
       "1            RESIDENCE   False      True  ...   7.0            51.0        06   \n",
       "2        BAR OR TAVERN   False     False  ...  42.0             8.0        06   \n",
       "3            RESIDENCE   False     False  ...  10.0            52.0        06   \n",
       "4            RESIDENCE   False     False  ...   8.0            44.0        20   \n",
       "\n",
       "   X_Coordinate Y_Coordinate  Year          Updated_On   Latitude  Longitude  \\\n",
       "0     1181409.0    1865364.0  2008 2016-02-04 06:33:39  41.785797 -87.610406   \n",
       "1     1190183.0    1842108.0  2008 2016-02-04 06:33:39  41.721774 -87.578985   \n",
       "2     1176175.0    1907421.0  2008 2016-02-04 06:33:39  41.901324 -87.628331   \n",
       "3     1205116.0    1835043.0  2008 2016-02-04 06:33:39  41.702015 -87.524532   \n",
       "4     1183647.0    1851316.0  2008 2016-02-04 06:33:39  41.747196 -87.602638   \n",
       "\n",
       "                        Location  \n",
       "0  (41.785797307, -87.610406313)  \n",
       "1  (41.721773858, -87.578984755)  \n",
       "2   (41.90132405, -87.628330712)  \n",
       "3    (41.7020149, -87.524532163)  \n",
       "4   (41.74719631, -87.602638387)  \n",
       "\n",
       "[5 rows x 22 columns]"
      ]
     },
     "execution_count": 25,
     "metadata": {},
     "output_type": "execute_result"
    }
   ],
   "source": [
    "Chicago_08_11 = Chicago_08_11.sort_values(by=['Date']).reset_index(drop=True)\n",
    "Chicago_08_11.head()"
   ]
  },
  {
   "cell_type": "markdown",
   "metadata": {},
   "source": [
    "<a id='2012-2016'></a>\n",
    "#### Crimini relativi agli anni 2012 - 2016"
   ]
  },
  {
   "cell_type": "markdown",
   "metadata": {},
   "source": [
    "Importo ora il secondo csv relativo ai dati dal 2012 al 2017"
   ]
  },
  {
   "cell_type": "code",
   "execution_count": 26,
   "metadata": {},
   "outputs": [
    {
     "data": {
      "text/html": [
       "<div>\n",
       "<style scoped>\n",
       "    .dataframe tbody tr th:only-of-type {\n",
       "        vertical-align: middle;\n",
       "    }\n",
       "\n",
       "    .dataframe tbody tr th {\n",
       "        vertical-align: top;\n",
       "    }\n",
       "\n",
       "    .dataframe thead th {\n",
       "        text-align: right;\n",
       "    }\n",
       "</style>\n",
       "<table border=\"1\" class=\"dataframe\">\n",
       "  <thead>\n",
       "    <tr style=\"text-align: right;\">\n",
       "      <th></th>\n",
       "      <th>ID</th>\n",
       "      <th>Case Number</th>\n",
       "      <th>Date</th>\n",
       "      <th>Block</th>\n",
       "      <th>IUCR</th>\n",
       "      <th>Primary Type</th>\n",
       "      <th>Description</th>\n",
       "      <th>Location Description</th>\n",
       "      <th>Arrest</th>\n",
       "      <th>Domestic</th>\n",
       "      <th>...</th>\n",
       "      <th>Ward</th>\n",
       "      <th>Community Area</th>\n",
       "      <th>FBI Code</th>\n",
       "      <th>X Coordinate</th>\n",
       "      <th>Y Coordinate</th>\n",
       "      <th>Year</th>\n",
       "      <th>Updated On</th>\n",
       "      <th>Latitude</th>\n",
       "      <th>Longitude</th>\n",
       "      <th>Location</th>\n",
       "    </tr>\n",
       "  </thead>\n",
       "  <tbody>\n",
       "    <tr>\n",
       "      <th>0</th>\n",
       "      <td>10508693</td>\n",
       "      <td>HZ250496</td>\n",
       "      <td>05/03/2016 11:40:00 PM</td>\n",
       "      <td>013XX S SAWYER AVE</td>\n",
       "      <td>0486</td>\n",
       "      <td>BATTERY</td>\n",
       "      <td>DOMESTIC BATTERY SIMPLE</td>\n",
       "      <td>APARTMENT</td>\n",
       "      <td>True</td>\n",
       "      <td>True</td>\n",
       "      <td>...</td>\n",
       "      <td>24.0</td>\n",
       "      <td>29.0</td>\n",
       "      <td>08B</td>\n",
       "      <td>1154907.0</td>\n",
       "      <td>1893681.0</td>\n",
       "      <td>2016</td>\n",
       "      <td>05/10/2016 03:56:50 PM</td>\n",
       "      <td>41.864073</td>\n",
       "      <td>-87.706819</td>\n",
       "      <td>(41.864073157, -87.706818608)</td>\n",
       "    </tr>\n",
       "    <tr>\n",
       "      <th>1</th>\n",
       "      <td>10508695</td>\n",
       "      <td>HZ250409</td>\n",
       "      <td>05/03/2016 09:40:00 PM</td>\n",
       "      <td>061XX S DREXEL AVE</td>\n",
       "      <td>0486</td>\n",
       "      <td>BATTERY</td>\n",
       "      <td>DOMESTIC BATTERY SIMPLE</td>\n",
       "      <td>RESIDENCE</td>\n",
       "      <td>False</td>\n",
       "      <td>True</td>\n",
       "      <td>...</td>\n",
       "      <td>20.0</td>\n",
       "      <td>42.0</td>\n",
       "      <td>08B</td>\n",
       "      <td>1183066.0</td>\n",
       "      <td>1864330.0</td>\n",
       "      <td>2016</td>\n",
       "      <td>05/10/2016 03:56:50 PM</td>\n",
       "      <td>41.782922</td>\n",
       "      <td>-87.604363</td>\n",
       "      <td>(41.782921527, -87.60436317)</td>\n",
       "    </tr>\n",
       "    <tr>\n",
       "      <th>2</th>\n",
       "      <td>10508697</td>\n",
       "      <td>HZ250503</td>\n",
       "      <td>05/03/2016 11:31:00 PM</td>\n",
       "      <td>053XX W CHICAGO AVE</td>\n",
       "      <td>0470</td>\n",
       "      <td>PUBLIC PEACE VIOLATION</td>\n",
       "      <td>RECKLESS CONDUCT</td>\n",
       "      <td>STREET</td>\n",
       "      <td>False</td>\n",
       "      <td>False</td>\n",
       "      <td>...</td>\n",
       "      <td>37.0</td>\n",
       "      <td>25.0</td>\n",
       "      <td>24</td>\n",
       "      <td>1140789.0</td>\n",
       "      <td>1904819.0</td>\n",
       "      <td>2016</td>\n",
       "      <td>05/10/2016 03:56:50 PM</td>\n",
       "      <td>41.894908</td>\n",
       "      <td>-87.758372</td>\n",
       "      <td>(41.894908283, -87.758371958)</td>\n",
       "    </tr>\n",
       "    <tr>\n",
       "      <th>3</th>\n",
       "      <td>10508698</td>\n",
       "      <td>HZ250424</td>\n",
       "      <td>05/03/2016 10:10:00 PM</td>\n",
       "      <td>049XX W FULTON ST</td>\n",
       "      <td>0460</td>\n",
       "      <td>BATTERY</td>\n",
       "      <td>SIMPLE</td>\n",
       "      <td>SIDEWALK</td>\n",
       "      <td>False</td>\n",
       "      <td>False</td>\n",
       "      <td>...</td>\n",
       "      <td>28.0</td>\n",
       "      <td>25.0</td>\n",
       "      <td>08B</td>\n",
       "      <td>1143223.0</td>\n",
       "      <td>1901475.0</td>\n",
       "      <td>2016</td>\n",
       "      <td>05/10/2016 03:56:50 PM</td>\n",
       "      <td>41.885687</td>\n",
       "      <td>-87.749516</td>\n",
       "      <td>(41.885686845, -87.749515983)</td>\n",
       "    </tr>\n",
       "    <tr>\n",
       "      <th>4</th>\n",
       "      <td>10508699</td>\n",
       "      <td>HZ250455</td>\n",
       "      <td>05/03/2016 10:00:00 PM</td>\n",
       "      <td>003XX N LOTUS AVE</td>\n",
       "      <td>0820</td>\n",
       "      <td>THEFT</td>\n",
       "      <td>$500 AND UNDER</td>\n",
       "      <td>RESIDENCE</td>\n",
       "      <td>False</td>\n",
       "      <td>True</td>\n",
       "      <td>...</td>\n",
       "      <td>28.0</td>\n",
       "      <td>25.0</td>\n",
       "      <td>06</td>\n",
       "      <td>1139890.0</td>\n",
       "      <td>1901675.0</td>\n",
       "      <td>2016</td>\n",
       "      <td>05/10/2016 03:56:50 PM</td>\n",
       "      <td>41.886297</td>\n",
       "      <td>-87.761751</td>\n",
       "      <td>(41.886297242, -87.761750709)</td>\n",
       "    </tr>\n",
       "  </tbody>\n",
       "</table>\n",
       "<p>5 rows × 22 columns</p>\n",
       "</div>"
      ],
      "text/plain": [
       "         ID Case Number                    Date                Block  IUCR  \\\n",
       "0  10508693    HZ250496  05/03/2016 11:40:00 PM   013XX S SAWYER AVE  0486   \n",
       "1  10508695    HZ250409  05/03/2016 09:40:00 PM   061XX S DREXEL AVE  0486   \n",
       "2  10508697    HZ250503  05/03/2016 11:31:00 PM  053XX W CHICAGO AVE  0470   \n",
       "3  10508698    HZ250424  05/03/2016 10:10:00 PM    049XX W FULTON ST  0460   \n",
       "4  10508699    HZ250455  05/03/2016 10:00:00 PM    003XX N LOTUS AVE  0820   \n",
       "\n",
       "             Primary Type              Description Location Description  \\\n",
       "0                 BATTERY  DOMESTIC BATTERY SIMPLE            APARTMENT   \n",
       "1                 BATTERY  DOMESTIC BATTERY SIMPLE            RESIDENCE   \n",
       "2  PUBLIC PEACE VIOLATION         RECKLESS CONDUCT               STREET   \n",
       "3                 BATTERY                   SIMPLE             SIDEWALK   \n",
       "4                   THEFT           $500 AND UNDER            RESIDENCE   \n",
       "\n",
       "   Arrest  Domestic  ...  Ward  Community Area  FBI Code  X Coordinate  \\\n",
       "0    True      True  ...  24.0            29.0       08B     1154907.0   \n",
       "1   False      True  ...  20.0            42.0       08B     1183066.0   \n",
       "2   False     False  ...  37.0            25.0        24     1140789.0   \n",
       "3   False     False  ...  28.0            25.0       08B     1143223.0   \n",
       "4   False      True  ...  28.0            25.0        06     1139890.0   \n",
       "\n",
       "  Y Coordinate  Year              Updated On   Latitude  Longitude  \\\n",
       "0    1893681.0  2016  05/10/2016 03:56:50 PM  41.864073 -87.706819   \n",
       "1    1864330.0  2016  05/10/2016 03:56:50 PM  41.782922 -87.604363   \n",
       "2    1904819.0  2016  05/10/2016 03:56:50 PM  41.894908 -87.758372   \n",
       "3    1901475.0  2016  05/10/2016 03:56:50 PM  41.885687 -87.749516   \n",
       "4    1901675.0  2016  05/10/2016 03:56:50 PM  41.886297 -87.761751   \n",
       "\n",
       "                        Location  \n",
       "0  (41.864073157, -87.706818608)  \n",
       "1   (41.782921527, -87.60436317)  \n",
       "2  (41.894908283, -87.758371958)  \n",
       "3  (41.885686845, -87.749515983)  \n",
       "4  (41.886297242, -87.761750709)  \n",
       "\n",
       "[5 rows x 22 columns]"
      ]
     },
     "execution_count": 26,
     "metadata": {},
     "output_type": "execute_result"
    }
   ],
   "source": [
    "#importo il csv sulle analisi dei crimini dal 2012 al 2017 \n",
    "Chicago_12_17 = pd.read_csv(PATH3, header=0, error_bad_lines = False)\n",
    "Chicago_12_17 = Chicago_12_17.iloc[:,1:]\n",
    "Chicago_12_17.head() "
   ]
  },
  {
   "cell_type": "code",
   "execution_count": 27,
   "metadata": {},
   "outputs": [
    {
     "name": "stdout",
     "output_type": "stream",
     "text": [
      "Il dataframe 'Chicago_12_17' contiene:\n",
      " 1,456,714 righe\n",
      " 22 colonne\n"
     ]
    }
   ],
   "source": [
    "print(\"Il dataframe 'Chicago_12_17' contiene:\\n\",format(Chicago_12_17.shape[0],',d'),\"righe\\n\",Chicago_12_17.shape[1],\"colonne\")"
   ]
  },
  {
   "cell_type": "code",
   "execution_count": 28,
   "metadata": {},
   "outputs": [
    {
     "data": {
      "text/plain": [
       "ID                        int64\n",
       "Case Number              object\n",
       "Date                     object\n",
       "Block                    object\n",
       "IUCR                     object\n",
       "Primary Type             object\n",
       "Description              object\n",
       "Location Description     object\n",
       "Arrest                     bool\n",
       "Domestic                   bool\n",
       "Beat                      int64\n",
       "District                float64\n",
       "Ward                    float64\n",
       "Community Area          float64\n",
       "FBI Code                 object\n",
       "X Coordinate            float64\n",
       "Y Coordinate            float64\n",
       "Year                      int64\n",
       "Updated On               object\n",
       "Latitude                float64\n",
       "Longitude               float64\n",
       "Location                 object\n",
       "dtype: object"
      ]
     },
     "execution_count": 28,
     "metadata": {},
     "output_type": "execute_result"
    }
   ],
   "source": [
    "#che tipo di dati ho? \n",
    "Chicago_12_17.dtypes"
   ]
  },
  {
   "cell_type": "code",
   "execution_count": 29,
   "metadata": {},
   "outputs": [
    {
     "data": {
      "text/plain": [
       "Index(['ID', 'Case_Number', 'Date', 'Block', 'IUCR', 'Primary_Type',\n",
       "       'Description', 'Location_Description', 'Arrest', 'Domestic', 'Beat',\n",
       "       'District', 'Ward', 'Community_Area', 'FBI_Code', 'X_Coordinate',\n",
       "       'Y_Coordinate', 'Year', 'Updated_On', 'Latitude', 'Longitude',\n",
       "       'Location'],\n",
       "      dtype='object')"
      ]
     },
     "execution_count": 29,
     "metadata": {},
     "output_type": "execute_result"
    }
   ],
   "source": [
    "#funzione replace\n",
    "Chicago_12_17.columns=[c.replace( ' ', '_') for c in Chicago_12_17.columns]\n",
    "Chicago_12_17.columns"
   ]
  },
  {
   "cell_type": "code",
   "execution_count": 30,
   "metadata": {},
   "outputs": [
    {
     "data": {
      "text/plain": [
       "ID                               int64\n",
       "Case_Number                     object\n",
       "Date                    datetime64[ns]\n",
       "Block                           object\n",
       "IUCR                            object\n",
       "Primary_Type                    object\n",
       "Description                     object\n",
       "Location_Description            object\n",
       "Arrest                            bool\n",
       "Domestic                          bool\n",
       "Beat                             int64\n",
       "District                       float64\n",
       "Ward                           float64\n",
       "Community_Area                 float64\n",
       "FBI_Code                        object\n",
       "X_Coordinate                   float64\n",
       "Y_Coordinate                   float64\n",
       "Year                             int64\n",
       "Updated_On              datetime64[ns]\n",
       "Latitude                       float64\n",
       "Longitude                      float64\n",
       "Location                        object\n",
       "dtype: object"
      ]
     },
     "execution_count": 30,
     "metadata": {},
     "output_type": "execute_result"
    }
   ],
   "source": [
    "#trasformo i campi 'Date' e 'Update_On' da object a datetime64\n",
    "Chicago_12_17.Date = pd.to_datetime(Chicago_12_17.Date, format='%m/%d/%Y %I:%M:%S %p')\n",
    "Chicago_12_17.Updated_On = pd.to_datetime(Chicago_12_17.Updated_On, format='%m/%d/%Y %I:%M:%S %p')\n",
    "#Chicago_12_17.Year = pd.to_datetime(Chicago_12_17.Year, format='%Y')\n",
    "Chicago_12_17.dtypes"
   ]
  },
  {
   "cell_type": "code",
   "execution_count": 31,
   "metadata": {},
   "outputs": [
    {
     "data": {
      "text/plain": [
       "2012    335670\n",
       "2013    306703\n",
       "2014    274527\n",
       "2016    265462\n",
       "2015    262995\n",
       "2017     11357\n",
       "Name: Year, dtype: int64"
      ]
     },
     "execution_count": 31,
     "metadata": {},
     "output_type": "execute_result"
    }
   ],
   "source": [
    "#siamo sicuri che il 2017 contenga tutti i dati dell'anno? Possiamo considerarlo come dataset completo? Verifichiamo.\n",
    "Chicago_12_17.Year.value_counts()"
   ]
  },
  {
   "cell_type": "code",
   "execution_count": 32,
   "metadata": {},
   "outputs": [],
   "source": [
    "#Mi accorgo che il 2017 ha molti meno record.. come mai? Provo a verificare che mesi ci sono per il 2017"
   ]
  },
  {
   "cell_type": "code",
   "execution_count": 33,
   "metadata": {},
   "outputs": [],
   "source": [
    "test = Chicago_12_17.loc[Chicago_12_17.Year == 2017].reset_index(drop=True)"
   ]
  },
  {
   "cell_type": "code",
   "execution_count": 34,
   "metadata": {},
   "outputs": [],
   "source": [
    "test['Mese']=test.Date.dt.strftime('%m')"
   ]
  },
  {
   "cell_type": "code",
   "execution_count": 35,
   "metadata": {},
   "outputs": [
    {
     "data": {
      "text/plain": [
       "array(['01'], dtype=object)"
      ]
     },
     "execution_count": 35,
     "metadata": {},
     "output_type": "execute_result"
    }
   ],
   "source": [
    "test.Mese.unique()"
   ]
  },
  {
   "cell_type": "code",
   "execution_count": 36,
   "metadata": {},
   "outputs": [],
   "source": [
    "#Ho quindi verificato che per il 2017 sono presenti solamente dati relativi al mese di gennaio. Decido quindi di cambiare orizzonte temporale\n",
    "#prendo infatti i dati dal 2006 al 2016"
   ]
  },
  {
   "cell_type": "code",
   "execution_count": 37,
   "metadata": {},
   "outputs": [],
   "source": [
    "Chicago_12_17 = Chicago_12_17.loc[Chicago_12_17.Year < 2017].reset_index(drop=True)"
   ]
  },
  {
   "cell_type": "code",
   "execution_count": 38,
   "metadata": {},
   "outputs": [
    {
     "data": {
      "text/plain": [
       "2012    335670\n",
       "2013    306703\n",
       "2014    274527\n",
       "2016    265462\n",
       "2015    262995\n",
       "Name: Year, dtype: int64"
      ]
     },
     "execution_count": 38,
     "metadata": {},
     "output_type": "execute_result"
    }
   ],
   "source": [
    "Chicago_12_17.Year.value_counts()"
   ]
  },
  {
   "cell_type": "code",
   "execution_count": 39,
   "metadata": {},
   "outputs": [],
   "source": [
    "#ora che ho eliminato il 2016 vado avanti con le mie analisi "
   ]
  },
  {
   "cell_type": "markdown",
   "metadata": {},
   "source": [
    "##### Trattamento valori duplicati"
   ]
  },
  {
   "cell_type": "markdown",
   "metadata": {},
   "source": [
    "Controllo che il dataframe non contenga righe duplicate e procedo all'analisi dei valori NaN."
   ]
  },
  {
   "cell_type": "code",
   "execution_count": 40,
   "metadata": {},
   "outputs": [
    {
     "name": "stdout",
     "output_type": "stream",
     "text": [
      "Non ci sono record duplicati.\n"
     ]
    }
   ],
   "source": [
    "Chicago_12_17= check_duplicates(Chicago_12_17)"
   ]
  },
  {
   "cell_type": "markdown",
   "metadata": {},
   "source": [
    "##### Trattamento valori nulli "
   ]
  },
  {
   "cell_type": "code",
   "execution_count": 41,
   "metadata": {},
   "outputs": [
    {
     "data": {
      "text/html": [
       "<div>\n",
       "<style scoped>\n",
       "    .dataframe tbody tr th:only-of-type {\n",
       "        vertical-align: middle;\n",
       "    }\n",
       "\n",
       "    .dataframe tbody tr th {\n",
       "        vertical-align: top;\n",
       "    }\n",
       "\n",
       "    .dataframe thead th {\n",
       "        text-align: right;\n",
       "    }\n",
       "</style>\n",
       "<table border=\"1\" class=\"dataframe\">\n",
       "  <thead>\n",
       "    <tr style=\"text-align: right;\">\n",
       "      <th></th>\n",
       "      <th>N° Valori NaN</th>\n",
       "      <th>% NaN su totale</th>\n",
       "    </tr>\n",
       "  </thead>\n",
       "  <tbody>\n",
       "    <tr>\n",
       "      <th>ID</th>\n",
       "      <td>0</td>\n",
       "      <td>0.00</td>\n",
       "    </tr>\n",
       "    <tr>\n",
       "      <th>Case_Number</th>\n",
       "      <td>1</td>\n",
       "      <td>0.00</td>\n",
       "    </tr>\n",
       "    <tr>\n",
       "      <th>Date</th>\n",
       "      <td>0</td>\n",
       "      <td>0.00</td>\n",
       "    </tr>\n",
       "    <tr>\n",
       "      <th>Block</th>\n",
       "      <td>0</td>\n",
       "      <td>0.00</td>\n",
       "    </tr>\n",
       "    <tr>\n",
       "      <th>IUCR</th>\n",
       "      <td>0</td>\n",
       "      <td>0.00</td>\n",
       "    </tr>\n",
       "    <tr>\n",
       "      <th>Primary_Type</th>\n",
       "      <td>0</td>\n",
       "      <td>0.00</td>\n",
       "    </tr>\n",
       "    <tr>\n",
       "      <th>Description</th>\n",
       "      <td>0</td>\n",
       "      <td>0.00</td>\n",
       "    </tr>\n",
       "    <tr>\n",
       "      <th>Location_Description</th>\n",
       "      <td>1630</td>\n",
       "      <td>0.11</td>\n",
       "    </tr>\n",
       "    <tr>\n",
       "      <th>Arrest</th>\n",
       "      <td>0</td>\n",
       "      <td>0.00</td>\n",
       "    </tr>\n",
       "    <tr>\n",
       "      <th>Domestic</th>\n",
       "      <td>0</td>\n",
       "      <td>0.00</td>\n",
       "    </tr>\n",
       "    <tr>\n",
       "      <th>Beat</th>\n",
       "      <td>0</td>\n",
       "      <td>0.00</td>\n",
       "    </tr>\n",
       "    <tr>\n",
       "      <th>District</th>\n",
       "      <td>1</td>\n",
       "      <td>0.00</td>\n",
       "    </tr>\n",
       "    <tr>\n",
       "      <th>Ward</th>\n",
       "      <td>14</td>\n",
       "      <td>0.00</td>\n",
       "    </tr>\n",
       "    <tr>\n",
       "      <th>Community_Area</th>\n",
       "      <td>40</td>\n",
       "      <td>0.00</td>\n",
       "    </tr>\n",
       "    <tr>\n",
       "      <th>FBI_Code</th>\n",
       "      <td>0</td>\n",
       "      <td>0.00</td>\n",
       "    </tr>\n",
       "    <tr>\n",
       "      <th>X_Coordinate</th>\n",
       "      <td>25756</td>\n",
       "      <td>1.78</td>\n",
       "    </tr>\n",
       "    <tr>\n",
       "      <th>Y_Coordinate</th>\n",
       "      <td>25756</td>\n",
       "      <td>1.78</td>\n",
       "    </tr>\n",
       "    <tr>\n",
       "      <th>Year</th>\n",
       "      <td>0</td>\n",
       "      <td>0.00</td>\n",
       "    </tr>\n",
       "    <tr>\n",
       "      <th>Updated_On</th>\n",
       "      <td>0</td>\n",
       "      <td>0.00</td>\n",
       "    </tr>\n",
       "    <tr>\n",
       "      <th>Latitude</th>\n",
       "      <td>25756</td>\n",
       "      <td>1.78</td>\n",
       "    </tr>\n",
       "    <tr>\n",
       "      <th>Longitude</th>\n",
       "      <td>25756</td>\n",
       "      <td>1.78</td>\n",
       "    </tr>\n",
       "    <tr>\n",
       "      <th>Location</th>\n",
       "      <td>25756</td>\n",
       "      <td>1.78</td>\n",
       "    </tr>\n",
       "  </tbody>\n",
       "</table>\n",
       "</div>"
      ],
      "text/plain": [
       "                      N° Valori NaN  % NaN su totale\n",
       "ID                                0             0.00\n",
       "Case_Number                       1             0.00\n",
       "Date                              0             0.00\n",
       "Block                             0             0.00\n",
       "IUCR                              0             0.00\n",
       "Primary_Type                      0             0.00\n",
       "Description                       0             0.00\n",
       "Location_Description           1630             0.11\n",
       "Arrest                            0             0.00\n",
       "Domestic                          0             0.00\n",
       "Beat                              0             0.00\n",
       "District                          1             0.00\n",
       "Ward                             14             0.00\n",
       "Community_Area                   40             0.00\n",
       "FBI_Code                          0             0.00\n",
       "X_Coordinate                  25756             1.78\n",
       "Y_Coordinate                  25756             1.78\n",
       "Year                              0             0.00\n",
       "Updated_On                        0             0.00\n",
       "Latitude                      25756             1.78\n",
       "Longitude                     25756             1.78\n",
       "Location                      25756             1.78"
      ]
     },
     "execution_count": 41,
     "metadata": {},
     "output_type": "execute_result"
    }
   ],
   "source": [
    "check_null(Chicago_12_17)"
   ]
  },
  {
   "cell_type": "code",
   "execution_count": 42,
   "metadata": {},
   "outputs": [
    {
     "name": "stdout",
     "output_type": "stream",
     "text": [
      "Il dataframe 'Chicago_12_17' ora contiene:\n",
      " 1,418,335 righe\n",
      " 22 colonne.\n"
     ]
    }
   ],
   "source": [
    "#elimino i valori NaN\n",
    "Chicago_12_17= Chicago_12_17.dropna()\n",
    "print(\"Il dataframe 'Chicago_12_17' ora contiene:\\n\",format(Chicago_12_17.shape[0],',d'),\"righe\\n\",Chicago_12_17.shape[1],\"colonne.\")"
   ]
  },
  {
   "cell_type": "code",
   "execution_count": 43,
   "metadata": {},
   "outputs": [
    {
     "data": {
      "text/html": [
       "<div>\n",
       "<style scoped>\n",
       "    .dataframe tbody tr th:only-of-type {\n",
       "        vertical-align: middle;\n",
       "    }\n",
       "\n",
       "    .dataframe tbody tr th {\n",
       "        vertical-align: top;\n",
       "    }\n",
       "\n",
       "    .dataframe thead th {\n",
       "        text-align: right;\n",
       "    }\n",
       "</style>\n",
       "<table border=\"1\" class=\"dataframe\">\n",
       "  <thead>\n",
       "    <tr style=\"text-align: right;\">\n",
       "      <th></th>\n",
       "      <th>ID</th>\n",
       "      <th>Case_Number</th>\n",
       "      <th>Date</th>\n",
       "      <th>Block</th>\n",
       "      <th>IUCR</th>\n",
       "      <th>Primary_Type</th>\n",
       "      <th>Description</th>\n",
       "      <th>Location_Description</th>\n",
       "      <th>Arrest</th>\n",
       "      <th>Domestic</th>\n",
       "      <th>...</th>\n",
       "      <th>Ward</th>\n",
       "      <th>Community_Area</th>\n",
       "      <th>FBI_Code</th>\n",
       "      <th>X_Coordinate</th>\n",
       "      <th>Y_Coordinate</th>\n",
       "      <th>Year</th>\n",
       "      <th>Updated_On</th>\n",
       "      <th>Latitude</th>\n",
       "      <th>Longitude</th>\n",
       "      <th>Location</th>\n",
       "    </tr>\n",
       "  </thead>\n",
       "  <tbody>\n",
       "    <tr>\n",
       "      <th>0</th>\n",
       "      <td>9060899</td>\n",
       "      <td>HW205992</td>\n",
       "      <td>2012-01-01</td>\n",
       "      <td>091XX S RACINE AVE</td>\n",
       "      <td>0840</td>\n",
       "      <td>THEFT</td>\n",
       "      <td>FINANCIAL ID THEFT: OVER $300</td>\n",
       "      <td>RESIDENCE</td>\n",
       "      <td>False</td>\n",
       "      <td>False</td>\n",
       "      <td>...</td>\n",
       "      <td>21.0</td>\n",
       "      <td>73.0</td>\n",
       "      <td>06</td>\n",
       "      <td>1169930.0</td>\n",
       "      <td>1844174.0</td>\n",
       "      <td>2012</td>\n",
       "      <td>2016-02-04 06:33:39</td>\n",
       "      <td>41.727906</td>\n",
       "      <td>-87.653108</td>\n",
       "      <td>(41.727906315, -87.65310796)</td>\n",
       "    </tr>\n",
       "    <tr>\n",
       "      <th>1</th>\n",
       "      <td>8527846</td>\n",
       "      <td>HV205281</td>\n",
       "      <td>2012-01-01</td>\n",
       "      <td>027XX W WELLINGTON AVE</td>\n",
       "      <td>0840</td>\n",
       "      <td>THEFT</td>\n",
       "      <td>FINANCIAL ID THEFT: OVER $300</td>\n",
       "      <td>OTHER</td>\n",
       "      <td>False</td>\n",
       "      <td>False</td>\n",
       "      <td>...</td>\n",
       "      <td>1.0</td>\n",
       "      <td>21.0</td>\n",
       "      <td>06</td>\n",
       "      <td>1157677.0</td>\n",
       "      <td>1919824.0</td>\n",
       "      <td>2012</td>\n",
       "      <td>2016-02-04 06:33:39</td>\n",
       "      <td>41.935756</td>\n",
       "      <td>-87.695937</td>\n",
       "      <td>(41.935755885, -87.695936975)</td>\n",
       "    </tr>\n",
       "    <tr>\n",
       "      <th>2</th>\n",
       "      <td>9053792</td>\n",
       "      <td>HW199033</td>\n",
       "      <td>2012-01-01</td>\n",
       "      <td>072XX S CARPENTER ST</td>\n",
       "      <td>0840</td>\n",
       "      <td>THEFT</td>\n",
       "      <td>FINANCIAL ID THEFT: OVER $300</td>\n",
       "      <td>RESIDENCE</td>\n",
       "      <td>False</td>\n",
       "      <td>False</td>\n",
       "      <td>...</td>\n",
       "      <td>17.0</td>\n",
       "      <td>68.0</td>\n",
       "      <td>06</td>\n",
       "      <td>1170565.0</td>\n",
       "      <td>1856840.0</td>\n",
       "      <td>2012</td>\n",
       "      <td>2016-02-04 06:33:39</td>\n",
       "      <td>41.762650</td>\n",
       "      <td>-87.650414</td>\n",
       "      <td>(41.762649738, -87.650413609)</td>\n",
       "    </tr>\n",
       "    <tr>\n",
       "      <th>3</th>\n",
       "      <td>9055356</td>\n",
       "      <td>HW199594</td>\n",
       "      <td>2012-01-01</td>\n",
       "      <td>057XX N WEST CIRCLE AVE</td>\n",
       "      <td>0840</td>\n",
       "      <td>THEFT</td>\n",
       "      <td>FINANCIAL ID THEFT: OVER $300</td>\n",
       "      <td>STREET</td>\n",
       "      <td>False</td>\n",
       "      <td>False</td>\n",
       "      <td>...</td>\n",
       "      <td>41.0</td>\n",
       "      <td>10.0</td>\n",
       "      <td>06</td>\n",
       "      <td>1127968.0</td>\n",
       "      <td>1937874.0</td>\n",
       "      <td>2012</td>\n",
       "      <td>2016-02-04 06:33:39</td>\n",
       "      <td>41.985841</td>\n",
       "      <td>-87.804712</td>\n",
       "      <td>(41.985841282, -87.8047123)</td>\n",
       "    </tr>\n",
       "    <tr>\n",
       "      <th>4</th>\n",
       "      <td>8767215</td>\n",
       "      <td>HV441709</td>\n",
       "      <td>2012-01-01</td>\n",
       "      <td>015XX N LECLAIRE AVE</td>\n",
       "      <td>1751</td>\n",
       "      <td>OFFENSE INVOLVING CHILDREN</td>\n",
       "      <td>CRIM SEX ABUSE BY FAM MEMBER</td>\n",
       "      <td>RESIDENCE</td>\n",
       "      <td>False</td>\n",
       "      <td>False</td>\n",
       "      <td>...</td>\n",
       "      <td>37.0</td>\n",
       "      <td>25.0</td>\n",
       "      <td>20</td>\n",
       "      <td>1142093.0</td>\n",
       "      <td>1909721.0</td>\n",
       "      <td>2012</td>\n",
       "      <td>2016-02-04 06:33:39</td>\n",
       "      <td>41.908336</td>\n",
       "      <td>-87.753461</td>\n",
       "      <td>(41.908335854, -87.753460959)</td>\n",
       "    </tr>\n",
       "  </tbody>\n",
       "</table>\n",
       "<p>5 rows × 22 columns</p>\n",
       "</div>"
      ],
      "text/plain": [
       "        ID Case_Number       Date                    Block  IUCR  \\\n",
       "0  9060899    HW205992 2012-01-01       091XX S RACINE AVE  0840   \n",
       "1  8527846    HV205281 2012-01-01   027XX W WELLINGTON AVE  0840   \n",
       "2  9053792    HW199033 2012-01-01     072XX S CARPENTER ST  0840   \n",
       "3  9055356    HW199594 2012-01-01  057XX N WEST CIRCLE AVE  0840   \n",
       "4  8767215    HV441709 2012-01-01     015XX N LECLAIRE AVE  1751   \n",
       "\n",
       "                 Primary_Type                    Description  \\\n",
       "0                       THEFT  FINANCIAL ID THEFT: OVER $300   \n",
       "1                       THEFT  FINANCIAL ID THEFT: OVER $300   \n",
       "2                       THEFT  FINANCIAL ID THEFT: OVER $300   \n",
       "3                       THEFT  FINANCIAL ID THEFT: OVER $300   \n",
       "4  OFFENSE INVOLVING CHILDREN   CRIM SEX ABUSE BY FAM MEMBER   \n",
       "\n",
       "  Location_Description  Arrest  Domestic  ...  Ward  Community_Area  FBI_Code  \\\n",
       "0            RESIDENCE   False     False  ...  21.0            73.0        06   \n",
       "1                OTHER   False     False  ...   1.0            21.0        06   \n",
       "2            RESIDENCE   False     False  ...  17.0            68.0        06   \n",
       "3               STREET   False     False  ...  41.0            10.0        06   \n",
       "4            RESIDENCE   False     False  ...  37.0            25.0        20   \n",
       "\n",
       "   X_Coordinate Y_Coordinate  Year          Updated_On   Latitude  Longitude  \\\n",
       "0     1169930.0    1844174.0  2012 2016-02-04 06:33:39  41.727906 -87.653108   \n",
       "1     1157677.0    1919824.0  2012 2016-02-04 06:33:39  41.935756 -87.695937   \n",
       "2     1170565.0    1856840.0  2012 2016-02-04 06:33:39  41.762650 -87.650414   \n",
       "3     1127968.0    1937874.0  2012 2016-02-04 06:33:39  41.985841 -87.804712   \n",
       "4     1142093.0    1909721.0  2012 2016-02-04 06:33:39  41.908336 -87.753461   \n",
       "\n",
       "                        Location  \n",
       "0   (41.727906315, -87.65310796)  \n",
       "1  (41.935755885, -87.695936975)  \n",
       "2  (41.762649738, -87.650413609)  \n",
       "3    (41.985841282, -87.8047123)  \n",
       "4  (41.908335854, -87.753460959)  \n",
       "\n",
       "[5 rows x 22 columns]"
      ]
     },
     "execution_count": 43,
     "metadata": {},
     "output_type": "execute_result"
    }
   ],
   "source": [
    "Chicago_12_17 = Chicago_12_17.sort_values(by=['Date']).reset_index(drop=True)\n",
    "Chicago_12_17.head()"
   ]
  },
  {
   "cell_type": "markdown",
   "metadata": {},
   "source": [
    "Merge dei csv, in modo tale da avere un unico dataframe contenente i dati dal 2006 al 2016"
   ]
  },
  {
   "cell_type": "code",
   "execution_count": 44,
   "metadata": {},
   "outputs": [
    {
     "name": "stdout",
     "output_type": "stream",
     "text": [
      "Il dataframe 'Chicago_06_16' ora contiene:\n",
      " 3,823,856 righe\n",
      " 22 colonne.\n"
     ]
    }
   ],
   "source": [
    "Chicago_06_16 = pd.concat([Chicago_05_07,Chicago_08_11 , Chicago_12_17], ignore_index=False, axis=0)\n",
    "Chicago_06_16.head()\n",
    "print(\"Il dataframe 'Chicago_06_16' ora contiene:\\n\",format(Chicago_06_16.shape[0],',d'),\"righe\\n\",Chicago_06_16.shape[1],\"colonne.\")"
   ]
  },
  {
   "cell_type": "code",
   "execution_count": null,
   "metadata": {},
   "outputs": [],
   "source": [
    "Chicago_06_16.dtypes"
   ]
  },
  {
   "cell_type": "markdown",
   "metadata": {},
   "source": [
    "<a id='explore'></a>\n",
    "### Analisi Esplorative"
   ]
  },
  {
   "cell_type": "markdown",
   "metadata": {},
   "source": [
    "Crimini e anni <br> Crimini e Arresti <br> Tipologie di crimini <br> Crimini e luogo"
   ]
  },
  {
   "cell_type": "markdown",
   "metadata": {},
   "source": [
    "Conto il numero dei crimini per ogni anno "
   ]
  },
  {
   "cell_type": "code",
   "execution_count": 79,
   "metadata": {},
   "outputs": [
    {
     "data": {
      "text/plain": [
       "2006    445495\n",
       "2007    435527\n",
       "2008    419787\n",
       "2009    385830\n",
       "2010    368410\n",
       "2011    350472\n",
       "2012    334397\n",
       "2013    304267\n",
       "2014    269329\n",
       "2015    259610\n",
       "2016    250732\n",
       "Name: Count, dtype: int64"
      ]
     },
     "execution_count": 79,
     "metadata": {},
     "output_type": "execute_result"
    }
   ],
   "source": [
    "CrimesXyear = Chicago_06_16.Year.value_counts().rename('Count')\n",
    "CrimesXyear"
   ]
  },
  {
   "cell_type": "code",
   "execution_count": 80,
   "metadata": {},
   "outputs": [
    {
     "name": "stdout",
     "output_type": "stream",
     "text": [
      "Il numero medo di crimini commesso all'anno è: 347623.27\n"
     ]
    }
   ],
   "source": [
    "#media dei crimini per anno \n",
    "print(\"Il numero medo di crimini commesso all'anno è:\",round(CrimesXyear.mean(),2))"
   ]
  },
  {
   "cell_type": "code",
   "execution_count": null,
   "metadata": {},
   "outputs": [],
   "source": [
    "#andamento dei crimini per anno \n",
    "plt.figure(figsize=(8,8))\n",
    "plt.title(\"N°Crimes X Year\")\n",
    "ax = sns.countplot(Chicago_06_16[\"Year\"], palette=\"Blues_d\" ) "
   ]
  },
  {
   "cell_type": "code",
   "execution_count": null,
   "metadata": {},
   "outputs": [],
   "source": [
    "#rispetto al totale dei crimini per anno, in quanti casi c'è stato un arresto?\n",
    "plt.figure(figsize=(8,8))\n",
    "plt.title(\"Crimes & Arrest\")\n",
    "\n",
    "ax = sns.countplot(Chicago_06_16['Year'],hue=Chicago_06_16['Arrest'], palette='coolwarm')\n"
   ]
  },
  {
   "cell_type": "markdown",
   "metadata": {},
   "source": [
    "Rispetto al numero di crimini commessi all'anno, la percentuale di arresti è diminuita o aumentata? "
   ]
  },
  {
   "cell_type": "code",
   "execution_count": null,
   "metadata": {},
   "outputs": [],
   "source": [
    "Arresti = pd.DataFrame(Chicago_06_16.loc[Chicago_06_16.Arrest == True].groupby('Year').Arrest.count().rename('N° di arresti'))\n",
    "Arresti['N°Crimini Totali'] =Chicago_06_16.groupby('Year').Year.count()\n",
    "Arresti['% di Arresti']=round(Arresti['N° di arresti']/Arresti['N°Crimini Totali']*100,2)\n",
    "Arresti"
   ]
  },
  {
   "cell_type": "code",
   "execution_count": null,
   "metadata": {},
   "outputs": [],
   "source": [
    "Arresti.plot(y='% di Arresti',figsize=(8,8) )\n",
    "plt.title(\"% di Arresti per anno\")\n",
    "plt.show()"
   ]
  },
  {
   "cell_type": "markdown",
   "metadata": {},
   "source": [
    "Si riscontra una diminuzione del numero di arresti rispetto al numero di crimini commessi, particolarmente significativa nel 2016."
   ]
  },
  {
   "cell_type": "markdown",
   "metadata": {
    "collapsed": true
   },
   "source": [
    "Ma che tipologia di crimine viene commessa maggiormente? Analizziamo il Primary Type "
   ]
  },
  {
   "cell_type": "code",
   "execution_count": null,
   "metadata": {},
   "outputs": [],
   "source": [
    "Chicago_06_16.Primary_Type.unique()"
   ]
  },
  {
   "cell_type": "markdown",
   "metadata": {},
   "source": [
    "Mi accorgo che 'NON - CRIMINAL' e 'NON-CRIMINAL' sono la stessa identica cosa. Utilizzo la funzione replace per pulire il dato e verifico se la modifica è andata a buon fine."
   ]
  },
  {
   "cell_type": "code",
   "execution_count": null,
   "metadata": {},
   "outputs": [],
   "source": [
    "#inserire funzione replace per i non- criminal che mi elimina lo spazio \n",
    "Chicago_06_16.Primary_Type=[c.replace( 'NON - CRIMINAL', 'NON-CRIMINAL') for c in Chicago_06_16.Primary_Type]\n",
    "Chicago_06_16.Primary_Type.unique()"
   ]
  },
  {
   "cell_type": "code",
   "execution_count": null,
   "metadata": {},
   "outputs": [],
   "source": [
    "#tipologia di crimini \n",
    "crime_count = pd.DataFrame(Chicago_06_16.groupby('Primary_Type').size().sort_values(ascending=False).rename('Count').reset_index())\n",
    "crime_count"
   ]
  },
  {
   "cell_type": "markdown",
   "metadata": {},
   "source": [
    "Rappresento graficamente i primi 10 crimini più commessi."
   ]
  },
  {
   "cell_type": "code",
   "execution_count": null,
   "metadata": {},
   "outputs": [],
   "source": [
    "#top 10 tipologia di crimini \n",
    "crime_count[:10].plot(x='Primary_Type',y='Count',kind='bar', figsize=(8,8) )\n",
    "plt.title(\"Crime's primary type\")\n",
    "plt.show()"
   ]
  },
  {
   "cell_type": "markdown",
   "metadata": {
    "collapsed": true
   },
   "source": [
    "Per quant riguarda i primi 5 maggiori crimini commessi, come si è evoluta negli anni ? "
   ]
  },
  {
   "cell_type": "code",
   "execution_count": null,
   "metadata": {},
   "outputs": [],
   "source": [
    "crimes_type = Chicago_06_16.loc[Chicago_06_16.Primary_Type.isin(['THEFT','BATTERY', 'CRIMINAL DAMAGE', 'NARCOTICS', 'BURGLARY'])]\n",
    "crimes_type=crimes_type.groupby(['Year', 'Primary_Type'])\n",
    "crimes_type=crimes_type['Primary_Type'].count().unstack()\n",
    "crimes_type.plot(figsize=(10,10))\n",
    "plt.title(\"Top 5 crimes's type over the year\")\n",
    "plt.show()"
   ]
  },
  {
   "cell_type": "code",
   "execution_count": null,
   "metadata": {},
   "outputs": [],
   "source": [
    "#calcoliamo anche il numero di arresti per il top 10 crimini."
   ]
  },
  {
   "cell_type": "code",
   "execution_count": null,
   "metadata": {},
   "outputs": [],
   "source": [
    "Arresti2 = pd.DataFrame(Chicago_06_16.loc[Chicago_06_16.Arrest == True].groupby('Primary_Type').Arrest.count())"
   ]
  },
  {
   "cell_type": "code",
   "execution_count": null,
   "metadata": {},
   "outputs": [],
   "source": [
    "Arresti2"
   ]
  },
  {
   "cell_type": "code",
   "execution_count": null,
   "metadata": {},
   "outputs": [],
   "source": [
    "LD_Chicago_06_16= Chicago_06_16.groupby('Location_Description').Location_Description.count().sort_values(ascending=False).rename('Count').reset_index()\n",
    "LD_Chicago_06_16"
   ]
  },
  {
   "cell_type": "code",
   "execution_count": null,
   "metadata": {},
   "outputs": [],
   "source": [
    "LD_Chicago_06_16[:10].plot(x='Location_Description',y='Count',kind='bar', color = 'tomato',figsize=(8,8) )\n",
    "plt.title(\"Crime's primary type\")\n",
    "plt.show()"
   ]
  },
  {
   "cell_type": "code",
   "execution_count": null,
   "metadata": {},
   "outputs": [],
   "source": []
  },
  {
   "cell_type": "code",
   "execution_count": null,
   "metadata": {},
   "outputs": [],
   "source": []
  },
  {
   "cell_type": "code",
   "execution_count": null,
   "metadata": {},
   "outputs": [],
   "source": []
  },
  {
   "cell_type": "markdown",
   "metadata": {},
   "source": [
    "<a id='ml'></a>\n",
    "### Machine Learning "
   ]
  },
  {
   "cell_type": "markdown",
   "metadata": {},
   "source": [
    "Lo scopo di questo esperimento è quello di utilizzare il machine learning per classificare i crimini per tipologia, date una serie di feature. "
   ]
  },
  {
   "cell_type": "code",
   "execution_count": 109,
   "metadata": {},
   "outputs": [],
   "source": [
    "#uso il comando copy per evitare di referenziare il dataframe\n",
    "Chicago_06_16_ML = Chicago_06_16.copy()"
   ]
  },
  {
   "cell_type": "code",
   "execution_count": 110,
   "metadata": {},
   "outputs": [
    {
     "data": {
      "text/plain": [
       "ID                               int64\n",
       "Case_Number                     object\n",
       "Date                    datetime64[ns]\n",
       "Block                           object\n",
       "IUCR                            object\n",
       "Primary_Type                    object\n",
       "Description                     object\n",
       "Location_Description            object\n",
       "Arrest                            bool\n",
       "Domestic                          bool\n",
       "Beat                             int64\n",
       "District                       float64\n",
       "Ward                           float64\n",
       "Community_Area                 float64\n",
       "FBI_Code                        object\n",
       "X_Coordinate                   float64\n",
       "Y_Coordinate                   float64\n",
       "Year                             int64\n",
       "Updated_On              datetime64[ns]\n",
       "Latitude                       float64\n",
       "Longitude                      float64\n",
       "Location                        object\n",
       "dtype: object"
      ]
     },
     "execution_count": 110,
     "metadata": {},
     "output_type": "execute_result"
    }
   ],
   "source": [
    "Chicago_06_16_ML.dtypes"
   ]
  },
  {
   "cell_type": "code",
   "execution_count": 111,
   "metadata": {},
   "outputs": [],
   "source": [
    "Chicago_06_16_ML.drop(['ID','Case_Number','X_Coordinate','Y_Coordinate','Updated_On', 'IUCR','Location','Block','Date','Description','Location_Description'],axis='columns', inplace=True)"
   ]
  },
  {
   "cell_type": "code",
   "execution_count": 112,
   "metadata": {},
   "outputs": [
    {
     "data": {
      "text/html": [
       "<div>\n",
       "<style scoped>\n",
       "    .dataframe tbody tr th:only-of-type {\n",
       "        vertical-align: middle;\n",
       "    }\n",
       "\n",
       "    .dataframe tbody tr th {\n",
       "        vertical-align: top;\n",
       "    }\n",
       "\n",
       "    .dataframe thead th {\n",
       "        text-align: right;\n",
       "    }\n",
       "</style>\n",
       "<table border=\"1\" class=\"dataframe\">\n",
       "  <thead>\n",
       "    <tr style=\"text-align: right;\">\n",
       "      <th></th>\n",
       "      <th>Primary_Type</th>\n",
       "      <th>Arrest</th>\n",
       "      <th>Domestic</th>\n",
       "      <th>Beat</th>\n",
       "      <th>District</th>\n",
       "      <th>Ward</th>\n",
       "      <th>Community_Area</th>\n",
       "      <th>FBI_Code</th>\n",
       "      <th>Year</th>\n",
       "      <th>Latitude</th>\n",
       "      <th>Longitude</th>\n",
       "    </tr>\n",
       "  </thead>\n",
       "  <tbody>\n",
       "    <tr>\n",
       "      <th>0</th>\n",
       "      <td>THEFT</td>\n",
       "      <td>False</td>\n",
       "      <td>False</td>\n",
       "      <td>1424</td>\n",
       "      <td>14.0</td>\n",
       "      <td>1.0</td>\n",
       "      <td>24.0</td>\n",
       "      <td>06</td>\n",
       "      <td>2006</td>\n",
       "      <td>41.907773</td>\n",
       "      <td>-87.682277</td>\n",
       "    </tr>\n",
       "    <tr>\n",
       "      <th>1</th>\n",
       "      <td>THEFT</td>\n",
       "      <td>False</td>\n",
       "      <td>False</td>\n",
       "      <td>1312</td>\n",
       "      <td>12.0</td>\n",
       "      <td>1.0</td>\n",
       "      <td>24.0</td>\n",
       "      <td>06</td>\n",
       "      <td>2006</td>\n",
       "      <td>41.896494</td>\n",
       "      <td>-87.690561</td>\n",
       "    </tr>\n",
       "    <tr>\n",
       "      <th>2</th>\n",
       "      <td>THEFT</td>\n",
       "      <td>False</td>\n",
       "      <td>False</td>\n",
       "      <td>332</td>\n",
       "      <td>3.0</td>\n",
       "      <td>5.0</td>\n",
       "      <td>43.0</td>\n",
       "      <td>06</td>\n",
       "      <td>2006</td>\n",
       "      <td>41.766477</td>\n",
       "      <td>-87.578769</td>\n",
       "    </tr>\n",
       "    <tr>\n",
       "      <th>3</th>\n",
       "      <td>THEFT</td>\n",
       "      <td>False</td>\n",
       "      <td>False</td>\n",
       "      <td>1115</td>\n",
       "      <td>11.0</td>\n",
       "      <td>28.0</td>\n",
       "      <td>26.0</td>\n",
       "      <td>06</td>\n",
       "      <td>2006</td>\n",
       "      <td>41.878764</td>\n",
       "      <td>-87.734300</td>\n",
       "    </tr>\n",
       "    <tr>\n",
       "      <th>4</th>\n",
       "      <td>BATTERY</td>\n",
       "      <td>False</td>\n",
       "      <td>False</td>\n",
       "      <td>413</td>\n",
       "      <td>4.0</td>\n",
       "      <td>7.0</td>\n",
       "      <td>48.0</td>\n",
       "      <td>08B</td>\n",
       "      <td>2006</td>\n",
       "      <td>41.727086</td>\n",
       "      <td>-87.573039</td>\n",
       "    </tr>\n",
       "  </tbody>\n",
       "</table>\n",
       "</div>"
      ],
      "text/plain": [
       "  Primary_Type  Arrest  Domestic  Beat  District  Ward  Community_Area  \\\n",
       "0        THEFT   False     False  1424      14.0   1.0            24.0   \n",
       "1        THEFT   False     False  1312      12.0   1.0            24.0   \n",
       "2        THEFT   False     False   332       3.0   5.0            43.0   \n",
       "3        THEFT   False     False  1115      11.0  28.0            26.0   \n",
       "4      BATTERY   False     False   413       4.0   7.0            48.0   \n",
       "\n",
       "  FBI_Code  Year   Latitude  Longitude  \n",
       "0       06  2006  41.907773 -87.682277  \n",
       "1       06  2006  41.896494 -87.690561  \n",
       "2       06  2006  41.766477 -87.578769  \n",
       "3       06  2006  41.878764 -87.734300  \n",
       "4      08B  2006  41.727086 -87.573039  "
      ]
     },
     "execution_count": 112,
     "metadata": {},
     "output_type": "execute_result"
    }
   ],
   "source": [
    "Chicago_06_16_ML.head()"
   ]
  },
  {
   "cell_type": "code",
   "execution_count": 85,
   "metadata": {},
   "outputs": [
    {
     "ename": "NameError",
     "evalue": "name 'astype' is not defined",
     "output_type": "error",
     "traceback": [
      "\u001b[1;31m---------------------------------------------------------------------------\u001b[0m",
      "\u001b[1;31mNameError\u001b[0m                                 Traceback (most recent call last)",
      "\u001b[1;32m<ipython-input-85-46fb0390b718>\u001b[0m in \u001b[0;36m<module>\u001b[1;34m\u001b[0m\n\u001b[1;32m----> 1\u001b[1;33m \u001b[0mastype\u001b[0m\u001b[1;33m(\u001b[0m\u001b[0mint\u001b[0m\u001b[1;33m)\u001b[0m\u001b[1;33m\u001b[0m\u001b[1;33m\u001b[0m\u001b[0m\n\u001b[0m",
      "\u001b[1;31mNameError\u001b[0m: name 'astype' is not defined"
     ]
    }
   ],
   "source": [
    "astype(int)"
   ]
  },
  {
   "cell_type": "code",
   "execution_count": 113,
   "metadata": {},
   "outputs": [
    {
     "data": {
      "text/plain": [
       "Primary_Type       object\n",
       "Arrest               bool\n",
       "Domestic             bool\n",
       "Beat                int64\n",
       "District          float64\n",
       "Ward              float64\n",
       "Community_Area    float64\n",
       "FBI_Code           object\n",
       "Year                int64\n",
       "Latitude          float64\n",
       "Longitude         float64\n",
       "dtype: object"
      ]
     },
     "execution_count": 113,
     "metadata": {},
     "output_type": "execute_result"
    }
   ],
   "source": [
    "Chicago_06_16_ML.dtypes"
   ]
  },
  {
   "cell_type": "code",
   "execution_count": 76,
   "metadata": {},
   "outputs": [
    {
     "data": {
      "image/png": "[encoded data removed]",
      "text/plain": [
       "<Figure size 720x720 with 2 Axes>"
      ]
     },
     "metadata": {
      "needs_background": "light"
     },
     "output_type": "display_data"
    }
   ],
   "source": [
    "# Calcolo la correlazione tra le variabili del mio df \n",
    "plt.figure(figsize=(10,10))\n",
    "cor = abs(Chicago_06_16_ML.corr())\n",
    "mask = np.zeros_like(cor)\n",
    "mask[np.triu_indices_from(mask)] = True\n",
    "\n",
    "sns.heatmap(cor,annot=True,mask=mask, square=True, cmap = plt.cm.Blues)\n",
    "plt.show()"
   ]
  },
  {
   "cell_type": "markdown",
   "metadata": {},
   "source": [
    "Dato che per rispondera alla mia domanda, ho intenzione di usare il K-Nearest Neighbors dalla libreria SciKit-Learn, quest'ultimo supporta solo feature numeriche, pertanto trasformp le feature di tipo bool in  e  anzichè true "
   ]
  },
  {
   "cell_type": "code",
   "execution_count": 114,
   "metadata": {},
   "outputs": [],
   "source": [
    "#inizio con le feature di tipo bool 'Arrest' e 'Domestic': quello che andrò a fare sarà trasformare i true in 1 e false a 0 \n",
    "#Chicago_06_16_ML.Arrest= np.multiply(Chicago_06_16_ML.Arrest,1)\n",
    "Chicago_06_16_ML.Domestic= np.multiply(Chicago_06_16_ML.Domestic,1)"
   ]
  },
  {
   "cell_type": "code",
   "execution_count": 115,
   "metadata": {},
   "outputs": [],
   "source": [
    "#per quanto riguarda le feature di tipo object le individuo e utilizza la variabile get_dummies\n",
    "feature_categoriche = Chicago_06_16_ML.select_dtypes(include=['object'])\n",
    "\n",
    "feature_categoriche_post = pd.get_dummies(feature_categoriche)\n"
   ]
  },
  {
   "cell_type": "code",
   "execution_count": 116,
   "metadata": {},
   "outputs": [
    {
     "data": {
      "text/plain": [
       "(3823856, 60)"
      ]
     },
     "execution_count": 116,
     "metadata": {},
     "output_type": "execute_result"
    }
   ],
   "source": [
    "feature_categoriche_post.shape"
   ]
  },
  {
   "cell_type": "code",
   "execution_count": 117,
   "metadata": {},
   "outputs": [],
   "source": [
    "#creo ora unico dataset \n",
    "x =  Chicago_06_16_ML.select_dtypes(exclude=['object'])\n",
    "y = x.Arrest\n",
    "x = x.drop(['Arrest'], axis=1)\n",
    "x = pd.concat([x,feature_categoriche_post], axis=1)"
   ]
  },
  {
   "cell_type": "code",
   "execution_count": 118,
   "metadata": {},
   "outputs": [],
   "source": [
    "x_train,x_test, y_train, y_test = train_test_split(x, y, test_size = 0.2, random_state = 7)"
   ]
  },
  {
   "cell_type": "code",
   "execution_count": 119,
   "metadata": {},
   "outputs": [
    {
     "name": "stdout",
     "output_type": "stream",
     "text": [
      "x_train Shape: (3059084, 68)\n",
      "y_train Shape: (3059084,)\n",
      "x_test Shape: (764772, 68)\n",
      "y_test Shape: (764772,)\n"
     ]
    }
   ],
   "source": [
    "print(f'x_train Shape: {x_train.shape}')\n",
    "print(f'y_train Shape: {y_train.shape}')\n",
    "print(f'x_test Shape: {x_test.shape}')\n",
    "print(f'y_test Shape: {y_test.shape}')"
   ]
  },
  {
   "cell_type": "code",
   "execution_count": 120,
   "metadata": {},
   "outputs": [],
   "source": [
    "def scaleFeaturesDF(x_train, x_test):\n",
    "    # Feature scaling is a type of transformation that only changes the\n",
    "    # scale, but not number of features. Because of this, we can still\n",
    "    # use the original dataset's column names... so long as we keep in\n",
    "    # mind that the _units_ have been altered:\n",
    "\n",
    "    transf = preprocessing.MinMaxScaler().fit(x_train)\n",
    "    x_train = transf.transform(x_train)\n",
    "    x_train = pd.DataFrame(x_train)\n",
    "    x_test = transf.transform(x_test)\n",
    "    x_test = pd.DataFrame(x_test)\n",
    "    \n",
    "    \n",
    "    return x_train, x_test"
   ]
  },
  {
   "cell_type": "code",
   "execution_count": 121,
   "metadata": {},
   "outputs": [],
   "source": [
    "[x_train, x_test]=scaleFeaturesDF(x_train, x_test)"
   ]
  },
  {
   "cell_type": "code",
   "execution_count": null,
   "metadata": {
    "scrolled": true
   },
   "outputs": [],
   "source": [
    "x_train.describe()"
   ]
  },
  {
   "cell_type": "code",
   "execution_count": 122,
   "metadata": {},
   "outputs": [],
   "source": [
    "from sklearn.decomposition import PCA\n",
    "\n",
    "pca = PCA(n_components=2, svd_solver='full')\n",
    "pca.fit(x_train)\n",
    "PCA(copy=True, n_components=2, whiten=False)\n",
    "x_train = pca.transform(x_train)\n",
    "x_test = pca.transform(x_test)\n",
    "        "
   ]
  },
  {
   "cell_type": "code",
   "execution_count": 132,
   "metadata": {},
   "outputs": [
    {
     "data": {
      "text/plain": [
       "KNeighborsClassifier(algorithm='auto', leaf_size=30, metric='minkowski',\n",
       "                     metric_params=None, n_jobs=None, n_neighbors=7, p=2,\n",
       "                     weights='uniform')"
      ]
     },
     "execution_count": 132,
     "metadata": {},
     "output_type": "execute_result"
    }
   ],
   "source": [
    "classifier = KNeighborsClassifier(n_neighbors=7, weights='uniform')\n",
    "classifier.fit(x_train, y_train)"
   ]
  },
  {
   "cell_type": "code",
   "execution_count": 133,
   "metadata": {},
   "outputs": [
    {
     "data": {
      "text/plain": [
       "0.8643059630844225"
      ]
     },
     "execution_count": 133,
     "metadata": {},
     "output_type": "execute_result"
    }
   ],
   "source": [
    "classifier.score(x_test, y_test)"
   ]
  },
  {
   "cell_type": "code",
   "execution_count": 76,
   "metadata": {},
   "outputs": [],
   "source": [
    "y_pred = classifier.predict(x_test)"
   ]
  },
  {
   "cell_type": "code",
   "execution_count": 77,
   "metadata": {},
   "outputs": [],
   "source": [
    "y_pred = pd.DataFrame(y_pred)"
   ]
  },
  {
   "cell_type": "markdown",
   "metadata": {},
   "source": [
    "provo ad utilizzare un'altro modello, ad esempio l'albero decisionale e lo confronto"
   ]
  },
  {
   "cell_type": "code",
   "execution_count": 86,
   "metadata": {},
   "outputs": [],
   "source": [
    "from sklearn import tree\n",
    "from sklearn.tree import DecisionTreeClassifier"
   ]
  },
  {
   "cell_type": "code",
   "execution_count": 127,
   "metadata": {},
   "outputs": [],
   "source": [
    "def dct(x_train, y_train):\n",
    "    dct = tree.DecisionTreeClassifier()\n",
    "    dct.fit(x_train, y_train)\n",
    "    \n",
    "    DecisionTreeClassifier(criterion='entropy',splitter='best', max_depth=9, \n",
    "                           min_samples_split=2, min_samples_leaf=1, min_weight_fraction_leaf=0.0, max_features=None, \n",
    "                           random_state=None, max_leaf_nodes=None, min_impurity_decrease=0.0, min_impurity_split=None, \n",
    "                           class_weight=None, presort=False)\n",
    "    \n",
    "    return dct"
   ]
  },
  {
   "cell_type": "code",
   "execution_count": 128,
   "metadata": {},
   "outputs": [],
   "source": [
    "dct = dct(x_train, y_train)\n",
    "score = dct.score(x_test, y_test)"
   ]
  },
  {
   "cell_type": "code",
   "execution_count": 129,
   "metadata": {},
   "outputs": [
    {
     "data": {
      "text/plain": [
       "0.8337831405961516"
      ]
     },
     "execution_count": 129,
     "metadata": {},
     "output_type": "execute_result"
    }
   ],
   "source": [
    "score"
   ]
  },
  {
   "cell_type": "markdown",
   "metadata": {},
   "source": [
    "GLi score sembrano entrambi bassini, ma tra i due sembra funzionare meglio la classificazione tramite kkn"
   ]
  },
  {
   "cell_type": "markdown",
   "metadata": {},
   "source": [
    "Quello che possiamo fare è utilizzare la cross-validation "
   ]
  },
  {
   "cell_type": "code",
   "execution_count": null,
   "metadata": {},
   "outputs": [],
   "source": []
  },
  {
   "cell_type": "code",
   "execution_count": null,
   "metadata": {},
   "outputs": [],
   "source": [
    "classifier = KNeighborsClassifier(n_neighbors=7, weights='uniform')\n",
    "classifier.fit(x_train, y_train)"
   ]
  },
  {
   "cell_type": "code",
   "execution_count": null,
   "metadata": {},
   "outputs": [],
   "source": []
  },
  {
   "cell_type": "code",
   "execution_count": null,
   "metadata": {
    "scrolled": true
   },
   "outputs": [],
   "source": [
    "from regression import HungaBungaRegressor"
   ]
  },
  {
   "cell_type": "code",
   "execution_count": null,
   "metadata": {},
   "outputs": [],
   "source": [
    "import hunga_bunga"
   ]
  },
  {
   "cell_type": "code",
   "execution_count": null,
   "metadata": {},
   "outputs": [],
   "source": []
  },
  {
   "cell_type": "code",
   "execution_count": null,
   "metadata": {},
   "outputs": [],
   "source": []
  },
  {
   "cell_type": "code",
   "execution_count": null,
   "metadata": {},
   "outputs": [],
   "source": []
  },
  {
   "cell_type": "code",
   "execution_count": null,
   "metadata": {},
   "outputs": [],
   "source": []
  },
  {
   "cell_type": "code",
   "execution_count": null,
   "metadata": {},
   "outputs": [],
   "source": [
    "fig, axes = plt.subplots(1,2, figsize=(21,6))\n",
    "\n",
    "sns.distplot(Chicago_06_16_ML['Primary_Type'], ax=axes[0])\n",
    "sns.distplot(np.log1p(Chicago_06_16_MLl['Primary_Type']), ax=axes[1])\n",
    "\n",
    "axes[1].set_xlabel('log(1+Primary_Type)')\n"
   ]
  },
  {
   "cell_type": "code",
   "execution_count": null,
   "metadata": {},
   "outputs": [],
   "source": []
  },
  {
   "cell_type": "code",
   "execution_count": null,
   "metadata": {},
   "outputs": [],
   "source": [
    "#posso eliminare o latitudine o x cordinate ? VALUTA\n"
   ]
  },
  {
   "cell_type": "code",
   "execution_count": null,
   "metadata": {},
   "outputs": [],
   "source": [
    "#evido che il df sia referenziato\n",
    "df_ml = df.copy()"
   ]
  },
  {
   "cell_type": "code",
   "execution_count": null,
   "metadata": {},
   "outputs": [],
   "source": []
  },
  {
   "cell_type": "code",
   "execution_count": null,
   "metadata": {},
   "outputs": [],
   "source": []
  },
  {
   "cell_type": "code",
   "execution_count": null,
   "metadata": {},
   "outputs": [],
   "source": []
  },
  {
   "cell_type": "code",
   "execution_count": null,
   "metadata": {},
   "outputs": [],
   "source": []
  },
  {
   "cell_type": "code",
   "execution_count": null,
   "metadata": {},
   "outputs": [],
   "source": []
  },
  {
   "cell_type": "code",
   "execution_count": null,
   "metadata": {},
   "outputs": [],
   "source": []
  },
  {
   "cell_type": "code",
   "execution_count": null,
   "metadata": {},
   "outputs": [],
   "source": []
  },
  {
   "cell_type": "code",
   "execution_count": null,
   "metadata": {},
   "outputs": [],
   "source": []
  },
  {
   "cell_type": "code",
   "execution_count": null,
   "metadata": {},
   "outputs": [],
   "source": []
  },
  {
   "cell_type": "code",
   "execution_count": null,
   "metadata": {},
   "outputs": [],
   "source": []
  },
  {
   "cell_type": "code",
   "execution_count": null,
   "metadata": {},
   "outputs": [],
   "source": []
  },
  {
   "cell_type": "code",
   "execution_count": null,
   "metadata": {},
   "outputs": [],
   "source": []
  },
  {
   "cell_type": "code",
   "execution_count": null,
   "metadata": {},
   "outputs": [],
   "source": []
  }
 ],
 "metadata": {
  "kernelspec": {
   "display_name": "Python 3",
   "language": "python",
   "name": "python3"
  },
  "language_info": {
   "codemirror_mode": {
    "name": "ipython",
    "version": 3
   },
   "file_extension": ".py",
   "mimetype": "text/x-python",
   "name": "python",
   "nbconvert_exporter": "python",
   "pygments_lexer": "ipython3",
   "version": "3.6.8"
  }
 },
 "nbformat": 4,
 "nbformat_minor": 2
}
